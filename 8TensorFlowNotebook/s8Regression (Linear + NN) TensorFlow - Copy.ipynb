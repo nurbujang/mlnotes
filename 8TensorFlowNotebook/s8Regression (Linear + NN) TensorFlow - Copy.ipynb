{
 "cells": [
  {
   "cell_type": "code",
   "execution_count": 1,
   "id": "nuclear-narrative",
   "metadata": {},
   "outputs": [
    {
     "name": "stdout",
     "output_type": "stream",
     "text": [
      "2.14.0\n"
     ]
    }
   ],
   "source": [
    "import pandas as pd\n",
    "import numpy as np\n",
    "import matplotlib.pyplot as plt\n",
    "from sklearn.model_selection import train_test_split\n",
    "from sklearn.metrics import mean_squared_error\n",
    "import tensorflow as tf\n",
    "print(tf.__version__)"
   ]
  },
  {
   "cell_type": "markdown",
   "id": "65dbb99b",
   "metadata": {},
   "source": [
    "# Regression with TensorFlow"
   ]
  },
  {
   "cell_type": "markdown",
   "id": "other-pendant",
   "metadata": {},
   "source": [
    "We'll use the dataset from http://archive.ics.uci.edu/ml/machine-learning-databases/auto-mpg/auto-mpg.data to start\n",
    "\n",
    "It's space separated and no headings so this is how to read it in"
   ]
  },
  {
   "cell_type": "code",
   "execution_count": 2,
   "id": "identified-observer",
   "metadata": {},
   "outputs": [
    {
     "data": {
      "text/html": [
       "<div>\n",
       "<style scoped>\n",
       "    .dataframe tbody tr th:only-of-type {\n",
       "        vertical-align: middle;\n",
       "    }\n",
       "\n",
       "    .dataframe tbody tr th {\n",
       "        vertical-align: top;\n",
       "    }\n",
       "\n",
       "    .dataframe thead th {\n",
       "        text-align: right;\n",
       "    }\n",
       "</style>\n",
       "<table border=\"1\" class=\"dataframe\">\n",
       "  <thead>\n",
       "    <tr style=\"text-align: right;\">\n",
       "      <th></th>\n",
       "      <th>MPG</th>\n",
       "      <th>Cylinders</th>\n",
       "      <th>Displacement</th>\n",
       "      <th>Horsepower</th>\n",
       "      <th>Weight</th>\n",
       "      <th>Acceleration</th>\n",
       "      <th>Model Year</th>\n",
       "      <th>Origin</th>\n",
       "    </tr>\n",
       "  </thead>\n",
       "  <tbody>\n",
       "    <tr>\n",
       "      <th>0</th>\n",
       "      <td>18.0</td>\n",
       "      <td>8</td>\n",
       "      <td>307.0</td>\n",
       "      <td>130.0</td>\n",
       "      <td>3504.0</td>\n",
       "      <td>12.0</td>\n",
       "      <td>70</td>\n",
       "      <td>1</td>\n",
       "    </tr>\n",
       "    <tr>\n",
       "      <th>1</th>\n",
       "      <td>15.0</td>\n",
       "      <td>8</td>\n",
       "      <td>350.0</td>\n",
       "      <td>165.0</td>\n",
       "      <td>3693.0</td>\n",
       "      <td>11.5</td>\n",
       "      <td>70</td>\n",
       "      <td>1</td>\n",
       "    </tr>\n",
       "    <tr>\n",
       "      <th>2</th>\n",
       "      <td>18.0</td>\n",
       "      <td>8</td>\n",
       "      <td>318.0</td>\n",
       "      <td>150.0</td>\n",
       "      <td>3436.0</td>\n",
       "      <td>11.0</td>\n",
       "      <td>70</td>\n",
       "      <td>1</td>\n",
       "    </tr>\n",
       "    <tr>\n",
       "      <th>3</th>\n",
       "      <td>16.0</td>\n",
       "      <td>8</td>\n",
       "      <td>304.0</td>\n",
       "      <td>150.0</td>\n",
       "      <td>3433.0</td>\n",
       "      <td>12.0</td>\n",
       "      <td>70</td>\n",
       "      <td>1</td>\n",
       "    </tr>\n",
       "    <tr>\n",
       "      <th>4</th>\n",
       "      <td>17.0</td>\n",
       "      <td>8</td>\n",
       "      <td>302.0</td>\n",
       "      <td>140.0</td>\n",
       "      <td>3449.0</td>\n",
       "      <td>10.5</td>\n",
       "      <td>70</td>\n",
       "      <td>1</td>\n",
       "    </tr>\n",
       "  </tbody>\n",
       "</table>\n",
       "</div>"
      ],
      "text/plain": [
       "    MPG  Cylinders  Displacement  Horsepower  Weight  Acceleration  \\\n",
       "0  18.0          8         307.0       130.0  3504.0          12.0   \n",
       "1  15.0          8         350.0       165.0  3693.0          11.5   \n",
       "2  18.0          8         318.0       150.0  3436.0          11.0   \n",
       "3  16.0          8         304.0       150.0  3433.0          12.0   \n",
       "4  17.0          8         302.0       140.0  3449.0          10.5   \n",
       "\n",
       "   Model Year  Origin  \n",
       "0          70       1  \n",
       "1          70       1  \n",
       "2          70       1  \n",
       "3          70       1  \n",
       "4          70       1  "
      ]
     },
     "execution_count": 2,
     "metadata": {},
     "output_type": "execute_result"
    }
   ],
   "source": [
    "column_names = ['MPG', 'Cylinders', 'Displacement', 'Horsepower', 'Weight',\n",
    "                'Acceleration', 'Model Year', 'Origin']\n",
    "\n",
    "df = pd.read_csv(\"auto-mpg.data\", names=column_names,\n",
    "                          na_values='?', comment='\\t',\n",
    "                          sep=' ', skipinitialspace=True)\n",
    "                          \n",
    "df.head()                    "
   ]
  },
  {
   "cell_type": "markdown",
   "id": "final-accordance",
   "metadata": {},
   "source": [
    "Want to build a linear regression model, to predict MPG from HorsePower, ignoring the rest\n",
    "\n",
    "$y_{mpg} = \\alpha + \\beta * x_{horsepower}$\n",
    "\n",
    "But have to clean df"
   ]
  },
  {
   "cell_type": "code",
   "execution_count": 3,
   "id": "tired-basket",
   "metadata": {},
   "outputs": [
    {
     "data": {
      "text/plain": [
       "MPG             0\n",
       "Cylinders       0\n",
       "Displacement    0\n",
       "Horsepower      6\n",
       "Weight          0\n",
       "Acceleration    0\n",
       "Model Year      0\n",
       "Origin          0\n",
       "dtype: int64"
      ]
     },
     "execution_count": 3,
     "metadata": {},
     "output_type": "execute_result"
    }
   ],
   "source": [
    "df.isna().sum()"
   ]
  },
  {
   "cell_type": "code",
   "execution_count": 4,
   "id": "filled-timber",
   "metadata": {},
   "outputs": [],
   "source": [
    "df = df.dropna()"
   ]
  },
  {
   "cell_type": "markdown",
   "id": "entertaining-customer",
   "metadata": {},
   "source": [
    "Going to split the dataset into a set to FIT the model and to EVALUATE the model. Train/test sets"
   ]
  },
  {
   "cell_type": "markdown",
   "id": "single-ratio",
   "metadata": {},
   "source": [
    "Could do this with sklearn"
   ]
  },
  {
   "cell_type": "code",
   "execution_count": 5,
   "id": "unlikely-combat",
   "metadata": {},
   "outputs": [],
   "source": [
    "X_train, X_test, y_train, y_test = train_test_split(df[\"Horsepower\"], df[\"MPG\"], random_state=2, train_size=0.8)"
   ]
  },
  {
   "cell_type": "code",
   "execution_count": 6,
   "id": "rough-plain",
   "metadata": {
    "scrolled": true
   },
   "outputs": [
    {
     "data": {
      "text/plain": [
       "202     95.0\n",
       "184     92.0\n",
       "3      150.0\n",
       "176     90.0\n",
       "261    120.0\n",
       "       ...  \n",
       "301     70.0\n",
       "22      95.0\n",
       "73     130.0\n",
       "15      95.0\n",
       "170     78.0\n",
       "Name: Horsepower, Length: 313, dtype: float64"
      ]
     },
     "execution_count": 6,
     "metadata": {},
     "output_type": "execute_result"
    }
   ],
   "source": [
    "X_train"
   ]
  },
  {
   "cell_type": "markdown",
   "id": "concrete-brain",
   "metadata": {},
   "source": [
    "Sometimes it is useful to Normalise the data we are working with, so that the values all fall within a consistent range (if we had multiple features). Common one being StandardScaler in sklearn which makes the data have mean 0 and stddev 1\n",
    "\n",
    "Keras also has a \"layer\" that we can use to build this preprocessing into the model rather than doing it manually\n",
    "\n",
    "The `preprocessing.Normalization` layer is a clean and simple way to build that preprocessing into your model. You create the layer and `.adapt()` it to the data:"
   ]
  },
  {
   "cell_type": "code",
   "execution_count": 7,
   "id": "focal-danger",
   "metadata": {},
   "outputs": [
    {
     "data": {
      "text/plain": [
       "<keras.src.layers.preprocessing.normalization.Normalization at 0x200f1cf9950>"
      ]
     },
     "execution_count": 7,
     "metadata": {},
     "output_type": "execute_result"
    }
   ],
   "source": [
    "from tensorflow.keras.layers.experimental import preprocessing\n",
    "\n",
    "horsepower_normalizer = preprocessing.Normalization(input_shape=[1,])\n",
    "horsepower_normalizer.adapt(X_train.values.reshape(-1,1))\n",
    "horsepower_normalizer"
   ]
  },
  {
   "cell_type": "code",
   "execution_count": 8,
   "id": "cardiovascular-handy",
   "metadata": {},
   "outputs": [
    {
     "data": {
      "text/plain": [
       "array([ 95.,  92., 150.,  90., 120., 115., 110.,  88., 110.,  60.,  68.,\n",
       "       208.,  90., 105.,  52.,  65., 150., 225., 110., 165.,  66.,  88.,\n",
       "       170.,  83.,  65., 100.,  97.,  58., 110.,  95., 103.,  88.,  65.,\n",
       "       112.,  88.,  97.,  63., 170., 107.,  67., 125.,  71., 110., 198.,\n",
       "        96.,  74.,  96.,  78.,  65., 105., 100.,  91.,  62.,  67.,  95.,\n",
       "        86.,  68., 150., 160., 139.,  52.,  88., 130., 100.,  67.,  67.,\n",
       "       180.,  86.,  90., 150., 100., 158.,  65.,  75., 113.,  75., 165.,\n",
       "        71., 153.,  85.,  84.,  60., 140., 170.,  67.,  90.,  95., 150.,\n",
       "       149.,  75.,  72.,  83., 220.,  98.,  71., 150.,  95.,  80.,  72.,\n",
       "       150., 110.,  88., 137., 153.,  95., 102., 120.,  88.,  70., 100.,\n",
       "        78.,  72.,  65., 167., 180., 170., 100., 150., 116., 105.,  75.,\n",
       "        48., 110.,  90., 140.,  67., 215.,  46., 105., 198.,  71.,  75.,\n",
       "        86.,  68., 145., 230.,  68., 115.,  75., 150.,  75.,  67.,  83.,\n",
       "        67.,  68., 150.,  67., 150.,  84.,  63., 129.,  90., 190., 165.,\n",
       "        84.,  72.,  58.,  85.,  65.,  52., 100.,  86., 170., 115.,  84.,\n",
       "       105.,  80.,  75.,  75., 122., 115., 135., 180., 100.,  88., 138.,\n",
       "       120., 100.,  85.,  83.,  84., 105.,  88., 225.,  90.,  90.,  76.,\n",
       "        81.,  89.,  90.,  92.,  92., 130.,  69., 100.,  62.,  70.,  75.,\n",
       "       145.,  68., 139., 150.,  71.,  74.,  90.,  85., 150., 150.,  70.,\n",
       "       175., 130., 210.,  88., 105.,  98., 120.,  93.,  97.,  65., 132.,\n",
       "       110.,  61., 125.,  90.,  70., 108.,  88.,  67., 180.,  97., 105.,\n",
       "        65., 190.,  60.,  86., 100., 100., 165.,  97.,  82.,  95.,  46.,\n",
       "       145.,  60., 140.,  90., 100., 125., 150., 100.,  76., 200., 142.,\n",
       "       175., 105.,  88.,  85., 140., 140., 140., 110.,  75.,  97., 150.,\n",
       "        77.,  90.,  88.,  67.,  70., 110.,  70.,  78.,  65.,  92.,  95.,\n",
       "       110., 145.,  75.,  69.,  53., 150.,  67.,  48.,  90.,  54., 105.,\n",
       "       175., 105.,  76.,  88., 145., 150.,  70., 100.,  80.,  49.,  95.,\n",
       "        70., 155.,  75.,  88., 150.,  90., 175., 110., 140.,  88., 112.,\n",
       "        70.,  95., 130.,  95.,  78.])"
      ]
     },
     "execution_count": 8,
     "metadata": {},
     "output_type": "execute_result"
    }
   ],
   "source": [
    "X_train.values"
   ]
  },
  {
   "cell_type": "code",
   "execution_count": 9,
   "id": "clear-concentration",
   "metadata": {},
   "outputs": [
    {
     "name": "stdout",
     "output_type": "stream",
     "text": [
      "Normalized: [[-0.24380258 -0.32220343  1.1935464  -0.37447068  0.40953788  0.27886978\n",
      "   0.14820169 -0.4267379   0.14820169 -1.1584792  -0.94941026  2.7092962\n",
      "  -0.37447068  0.0175336  -1.3675482  -1.0278112   1.1935464   3.1535678\n",
      "   0.14820169  1.5855507  -1.0016775  -0.4267379   1.7162188  -0.557406\n",
      "  -1.0278112  -0.11313449 -0.19153534 -1.2107464   0.14820169 -0.24380258\n",
      "  -0.03473363 -0.4267379  -1.0278112   0.20046893 -0.4267379  -0.19153534\n",
      "  -1.0800784   1.7162188   0.06980084 -0.9755439   0.54020596 -0.8710094\n",
      "   0.14820169  2.4479601  -0.21766897 -0.79260856 -0.21766897 -0.6880741\n",
      "  -1.0278112   0.0175336  -0.11313449 -0.34833705 -1.106212   -0.9755439\n",
      "  -0.24380258 -0.47900516 -0.94941026  1.1935464   1.4548826   0.9060766\n",
      "  -1.3675482  -0.4267379   0.67087406 -0.11313449 -0.9755439  -0.9755439\n",
      "   1.977555   -0.47900516 -0.37447068  1.1935464  -0.11313449  1.4026154\n",
      "  -1.0278112  -0.76647496  0.22660255 -0.76647496  1.5855507  -0.8710094\n",
      "   1.2719473  -0.50513875 -0.5312724  -1.1584792   0.93221027  1.7162188\n",
      "  -0.9755439  -0.37447068 -0.24380258  1.1935464   1.1674128  -0.76647496\n",
      "  -0.8448758  -0.557406    3.0228996  -0.16540173 -0.8710094   1.1935464\n",
      "  -0.24380258 -0.63580686 -0.8448758   1.1935464   0.14820169 -0.4267379\n",
      "   0.8538094   1.2719473  -0.24380258 -0.06086725  0.40953788 -0.4267379\n",
      "  -0.89714307 -0.11313449 -0.6880741  -0.8448758  -1.0278112   1.637818\n",
      "   1.977555    1.7162188  -0.11313449  1.1935464   0.3050034   0.0175336\n",
      "  -0.76647496 -1.4720826   0.14820169 -0.37447068  0.93221027 -0.9755439\n",
      "   2.8922317  -1.5243499   0.0175336   2.4479601  -0.8710094  -0.76647496\n",
      "  -0.47900516 -0.94941026  1.0628784   3.284236   -0.94941026  0.27886978\n",
      "  -0.76647496  1.1935464  -0.76647496 -0.9755439  -0.557406   -0.9755439\n",
      "  -0.94941026  1.1935464  -0.9755439   1.1935464  -0.5312724  -1.0800784\n",
      "   0.64474046 -0.37447068  2.2388911   1.5855507  -0.5312724  -0.8448758\n",
      "  -1.2107464  -0.50513875 -1.0278112  -1.3675482  -0.11313449 -0.47900516\n",
      "   1.7162188   0.27886978 -0.5312724   0.0175336  -0.63580686 -0.76647496\n",
      "  -0.76647496  0.4618051   0.27886978  0.80154216  1.977555   -0.11313449\n",
      "  -0.4267379   0.879943    0.40953788 -0.11313449 -0.50513875 -0.557406\n",
      "  -0.5312724   0.0175336  -0.4267379   3.1535678  -0.37447068 -0.37447068\n",
      "  -0.7403413  -0.60967326 -0.40060428 -0.37447068 -0.32220343 -0.32220343\n",
      "   0.67087406 -0.92327666 -0.11313449 -1.106212   -0.89714307 -0.76647496\n",
      "   1.0628784  -0.94941026  0.9060766   1.1935464  -0.8710094  -0.79260856\n",
      "  -0.37447068 -0.50513875  1.1935464   1.1935464  -0.89714307  1.8468869\n",
      "   0.67087406  2.7615635  -0.4267379   0.0175336  -0.16540173  0.40953788\n",
      "  -0.29606983 -0.19153534 -1.0278112   0.7231413   0.14820169 -1.1323456\n",
      "   0.54020596 -0.37447068 -0.89714307  0.09593446 -0.4267379  -0.9755439\n",
      "   1.977555   -0.19153534  0.0175336  -1.0278112   2.2388911  -1.1584792\n",
      "  -0.47900516 -0.11313449 -0.11313449  1.5855507  -0.19153534 -0.5835396\n",
      "  -0.24380258 -1.5243499   1.0628784  -1.1584792   0.93221027 -0.37447068\n",
      "  -0.11313449  0.54020596  1.1935464  -0.11313449 -0.7403413   2.5002275\n",
      "   0.98447746  1.8468869   0.0175336  -0.4267379  -0.50513875  0.93221027\n",
      "   0.93221027  0.93221027  0.14820169 -0.76647496 -0.19153534  1.1935464\n",
      "  -0.7142077  -0.37447068 -0.4267379  -0.9755439  -0.89714307  0.14820169\n",
      "  -0.89714307 -0.6880741  -1.0278112  -0.32220343 -0.24380258  0.14820169\n",
      "   1.0628784  -0.76647496 -0.92327666 -1.3414146   1.1935464  -0.9755439\n",
      "  -1.4720826  -0.37447068 -1.3152809   0.0175336   1.8468869   0.0175336\n",
      "  -0.7403413  -0.4267379   1.0628784   1.1935464  -0.89714307 -0.11313449\n",
      "  -0.63580686 -1.4459491  -0.24380258 -0.89714307  1.3242146  -0.76647496\n",
      "  -0.4267379   1.1935464  -0.37447068  1.8468869   0.14820169  0.93221027\n",
      "  -0.4267379   0.20046893 -0.89714307 -0.24380258  0.67087406 -0.24380258\n",
      "  -0.6880741 ]]\n"
     ]
    }
   ],
   "source": [
    "print('Normalized:', horsepower_normalizer(X_train.values).numpy())"
   ]
  },
  {
   "cell_type": "markdown",
   "id": "brazilian-jersey",
   "metadata": {},
   "source": [
    "## Model 1: Linear Regression with TensorFlow\n",
    "Now let's actually build the model. We will use Sequential, first layer to Normalise the data and second layer to actually do the $y=mx+c $"
   ]
  },
  {
   "cell_type": "code",
   "execution_count": 10,
   "id": "biological-margin",
   "metadata": {},
   "outputs": [
    {
     "name": "stdout",
     "output_type": "stream",
     "text": [
      "Model: \"sequential\"\n",
      "_________________________________________________________________\n",
      " Layer (type)                Output Shape              Param #   \n",
      "=================================================================\n",
      " normalization (Normalizati  (None, 1)                 3         \n",
      " on)                                                             \n",
      "                                                                 \n",
      " dense (Dense)               (None, 1)                 2         \n",
      "                                                                 \n",
      "=================================================================\n",
      "Total params: 5 (24.00 Byte)\n",
      "Trainable params: 2 (8.00 Byte)\n",
      "Non-trainable params: 3 (16.00 Byte)\n",
      "_________________________________________________________________\n"
     ]
    }
   ],
   "source": [
    "model = tf.keras.Sequential([\n",
    "    horsepower_normalizer,\n",
    "    tf.keras.layers.Dense(1)\n",
    "])\n",
    "model.summary()\n",
    "\n",
    "#Can also define model like this:\n",
    "#model = tf.keras.Sequential()\n",
    "#model.add(horsepower_normalizer)\n",
    "#model.add(tf.keras.layers.Dense(1))\n",
    "#model.summary()"
   ]
  },
  {
   "cell_type": "markdown",
   "id": "surprising-ambassador",
   "metadata": {},
   "source": [
    "<a href=\"https://keras.io/api/layers/\">Keras Different Types of Layers</a>\n",
    "\n",
    "The number of inputs can either be set by the input_shape argument, or automatically when the model is run for the first time.\n",
    "\n",
    "Dense is the layer type that will allow Linear Regression\n",
    "\n",
    "### Compile and fit the model"
   ]
  },
  {
   "cell_type": "code",
   "execution_count": 11,
   "id": "early-intermediate",
   "metadata": {},
   "outputs": [],
   "source": [
    "model.compile(\n",
    "    optimizer=tf.optimizers.Adam(learning_rate=0.1),\n",
    "    loss='mean_squared_error')\n",
    "\n",
    "history = model.fit(\n",
    "    X_train, y_train,\n",
    "    epochs=500,\n",
    "    verbose=0\n",
    ")"
   ]
  },
  {
   "cell_type": "markdown",
   "id": "1a1af994",
   "metadata": {},
   "source": [
    "Next, view the history of the training process over all epochs"
   ]
  },
  {
   "cell_type": "code",
   "execution_count": 12,
   "id": "explicit-bulgarian",
   "metadata": {},
   "outputs": [
    {
     "name": "stdout",
     "output_type": "stream",
     "text": [
      "         loss  epoch\n",
      "0  595.070496      0\n",
      "1  541.412720      1\n",
      "2  491.118500      2\n",
      "3  446.045685      3\n",
      "4  404.177704      4\n",
      "          loss  epoch\n",
      "495  24.348125    495\n",
      "496  24.369349    496\n",
      "497  24.353220    497\n",
      "498  24.395269    498\n",
      "499  24.328583    499\n"
     ]
    }
   ],
   "source": [
    "hist = pd.DataFrame(history.history)\n",
    "hist['epoch'] = history.epoch\n",
    "print(hist.head())\n",
    "print(hist.tail())"
   ]
  },
  {
   "cell_type": "markdown",
   "id": "4b95a06d",
   "metadata": {},
   "source": [
    "Evaluate the model on the test set"
   ]
  },
  {
   "cell_type": "code",
   "execution_count": 13,
   "id": "82681233",
   "metadata": {},
   "outputs": [
    {
     "name": "stdout",
     "output_type": "stream",
     "text": [
      "3/3 [==============================] - 0s 2ms/step - loss: 22.6080\n",
      "TensorFlow Linear Regression Loss:  22.608\n"
     ]
    }
   ],
   "source": [
    "tfLinearRegressionEval = model.evaluate(X_test, y_test)\n",
    "print(\"TensorFlow Linear Regression Loss: \", round(tfLinearRegressionEval,4))"
   ]
  },
  {
   "cell_type": "markdown",
   "id": "0e480959",
   "metadata": {},
   "source": [
    "Below is a function to plot the progress of the training"
   ]
  },
  {
   "cell_type": "code",
   "execution_count": 14,
   "id": "democratic-variance",
   "metadata": {},
   "outputs": [],
   "source": [
    "def plot_loss(history):\n",
    "    plt.plot(history.history['loss'], label='loss')\n",
    "    try:\n",
    "        plt.plot(history.history['val_loss'], label='val_loss')\n",
    "    except:\n",
    "        None\n",
    "    #plt.ylim([0, 10])\n",
    "    plt.xlabel('Epoch')\n",
    "    plt.ylabel('Error [MPG]')\n",
    "    plt.legend()\n",
    "    plt.grid(True)"
   ]
  },
  {
   "cell_type": "code",
   "execution_count": 15,
   "id": "powered-technology",
   "metadata": {},
   "outputs": [
    {
     "data": {
      "image/png": "[encoded data removed]",
      "text/plain": [
       "<Figure size 640x480 with 1 Axes>"
      ]
     },
     "metadata": {},
     "output_type": "display_data"
    }
   ],
   "source": [
    "plot_loss(history)"
   ]
  },
  {
   "cell_type": "markdown",
   "id": "4f58952d",
   "metadata": {},
   "source": [
    "### Visualise the TensorFlow Linear Regression model\n",
    "Let's visualise the model. I've written a function below that will plot the original data and the predicted values"
   ]
  },
  {
   "cell_type": "code",
   "execution_count": 16,
   "id": "16715f3b",
   "metadata": {},
   "outputs": [],
   "source": [
    "def plot_horsepower(x, y):\n",
    "  plt.scatter(X_train, y_train, label='Data')\n",
    "  plt.plot(x, y, color='k', label='Predictions')\n",
    "  plt.xlabel('Horsepower')\n",
    "  plt.ylabel('MPG')\n",
    "  plt.legend()"
   ]
  },
  {
   "cell_type": "markdown",
   "id": "542c13dc",
   "metadata": {},
   "source": [
    "Let's view the model"
   ]
  },
  {
   "cell_type": "code",
   "execution_count": 17,
   "id": "0c61c3b4",
   "metadata": {},
   "outputs": [
    {
     "name": "stdout",
     "output_type": "stream",
     "text": [
      "8/8 [==============================] - 0s 2ms/step\n"
     ]
    },
    {
     "data": {
      "image/png": "[encoded data removed]",
      "text/plain": [
       "<Figure size 640x480 with 1 Axes>"
      ]
     },
     "metadata": {},
     "output_type": "display_data"
    }
   ],
   "source": [
    "x = np.linspace(0.0, 250, 251)\n",
    "y_pred = model.predict(x)\n",
    "plot_horsepower(x,y_pred)"
   ]
  },
  {
   "cell_type": "markdown",
   "id": "ed3c4487",
   "metadata": {},
   "source": [
    "## Model 2: Linear Regression with sklearn\n",
    "Let's try to fit a model with SKLearn's Linear Regression"
   ]
  },
  {
   "cell_type": "code",
   "execution_count": 18,
   "id": "grand-illinois",
   "metadata": {},
   "outputs": [],
   "source": [
    "from sklearn.linear_model import LinearRegression\n",
    "model_sk = LinearRegression()\n",
    "model_sk.fit(X_train.values.reshape(-1,1),y_train.values)\n",
    "yPredSK = model_sk.predict(X_test.values.reshape(-1,1))"
   ]
  },
  {
   "cell_type": "code",
   "execution_count": 19,
   "id": "alien-cheat",
   "metadata": {},
   "outputs": [
    {
     "name": "stdout",
     "output_type": "stream",
     "text": [
      "[-0.16007745]\n",
      "40.31638714059319\n",
      "sklearn Linear Regression Loss:  22.57\n"
     ]
    }
   ],
   "source": [
    "print(model_sk.coef_)\n",
    "print(model_sk.intercept_)\n",
    "sklearnLinearRegressionEval = mean_squared_error(y_test, yPredSK)\n",
    "print(\"sklearn Linear Regression Loss: \", round(sklearnLinearRegressionEval,4))"
   ]
  },
  {
   "cell_type": "markdown",
   "id": "adaf773b",
   "metadata": {},
   "source": [
    "Let's view the SKLearn model"
   ]
  },
  {
   "cell_type": "code",
   "execution_count": 20,
   "id": "olympic-valve",
   "metadata": {},
   "outputs": [
    {
     "data": {
      "image/png": "[encoded data removed]",
      "text/plain": [
       "<Figure size 640x480 with 1 Axes>"
      ]
     },
     "metadata": {},
     "output_type": "display_data"
    }
   ],
   "source": [
    "x = np.linspace(0.0, 250, 251)\n",
    "y_pred = model_sk.predict(x.reshape(-1,1))\n",
    "plot_horsepower(x,y_pred)"
   ]
  },
  {
   "cell_type": "markdown",
   "id": "83c45169",
   "metadata": {},
   "source": [
    "## Model 3: Regression with TensorFlow Neural Network\n",
    "\n",
    "Now using a TensorFlow Neural Network\n",
    "\n",
    "Going to go with two hidden layers with 64 units each\n",
    "The output layer will only have 1 unit (as it is a regression problem)"
   ]
  },
  {
   "cell_type": "code",
   "execution_count": 21,
   "id": "accessory-cornwall",
   "metadata": {},
   "outputs": [
    {
     "name": "stdout",
     "output_type": "stream",
     "text": [
      "Model: \"sequential_1\"\n",
      "_________________________________________________________________\n",
      " Layer (type)                Output Shape              Param #   \n",
      "=================================================================\n",
      " normalization (Normalizati  (None, 1)                 3         \n",
      " on)                                                             \n",
      "                                                                 \n",
      " dense_1 (Dense)             (None, 64)                128       \n",
      "                                                                 \n",
      " dense_2 (Dense)             (None, 64)                4160      \n",
      "                                                                 \n",
      " dense_3 (Dense)             (None, 1)                 65        \n",
      "                                                                 \n",
      "=================================================================\n",
      "Total params: 4356 (17.02 KB)\n",
      "Trainable params: 4353 (17.00 KB)\n",
      "Non-trainable params: 3 (16.00 Byte)\n",
      "_________________________________________________________________\n"
     ]
    }
   ],
   "source": [
    "modelNN = tf.keras.Sequential([\n",
    "      horsepower_normalizer,\n",
    "      tf.keras.layers.Dense(64, activation='relu'),\n",
    "      tf.keras.layers.Dense(64, activation='relu'),\n",
    "      tf.keras.layers.Dense(1)\n",
    "  ])\n",
    "\n",
    "modelNN.summary()"
   ]
  },
  {
   "cell_type": "code",
   "execution_count": 22,
   "id": "continent-lewis",
   "metadata": {},
   "outputs": [],
   "source": [
    "modelNN.compile(loss='mean_squared_error',\n",
    "                optimizer=tf.keras.optimizers.Adam(0.001))"
   ]
  },
  {
   "cell_type": "markdown",
   "id": "c305a122",
   "metadata": {},
   "source": [
    "This time I've decided to use a validation set to evaluate the system at each epoch\n",
    "\n",
    "Note that validation_split=0.2 takes the last 20% of the training data to be validation data, if I hadn't shuffled my data previously (using train_test_split) then I would need to now"
   ]
  },
  {
   "cell_type": "code",
   "execution_count": 23,
   "id": "emerging-demographic",
   "metadata": {},
   "outputs": [
    {
     "name": "stdout",
     "output_type": "stream",
     "text": [
      "Epoch 1/100\n",
      "8/8 [==============================] - 1s 25ms/step - loss: 619.5403 - val_loss: 585.8316\n",
      "Epoch 2/100\n",
      "8/8 [==============================] - 0s 6ms/step - loss: 610.5802 - val_loss: 577.0743\n",
      "Epoch 3/100\n",
      "8/8 [==============================] - 0s 6ms/step - loss: 600.7110 - val_loss: 566.6730\n",
      "Epoch 4/100\n",
      "8/8 [==============================] - 0s 6ms/step - loss: 588.5406 - val_loss: 553.7601\n",
      "Epoch 5/100\n",
      "8/8 [==============================] - 0s 7ms/step - loss: 573.7601 - val_loss: 536.9557\n",
      "Epoch 6/100\n",
      "8/8 [==============================] - 0s 7ms/step - loss: 554.2658 - val_loss: 515.2235\n",
      "Epoch 7/100\n",
      "8/8 [==============================] - 0s 6ms/step - loss: 529.3876 - val_loss: 487.7789\n",
      "Epoch 8/100\n",
      "8/8 [==============================] - 0s 6ms/step - loss: 498.5733 - val_loss: 454.2147\n",
      "Epoch 9/100\n",
      "8/8 [==============================] - 0s 6ms/step - loss: 461.7147 - val_loss: 414.3629\n",
      "Epoch 10/100\n",
      "8/8 [==============================] - 0s 6ms/step - loss: 418.5713 - val_loss: 368.9511\n",
      "Epoch 11/100\n",
      "8/8 [==============================] - 0s 6ms/step - loss: 370.6583 - val_loss: 318.6725\n",
      "Epoch 12/100\n",
      "8/8 [==============================] - 0s 6ms/step - loss: 318.2890 - val_loss: 265.5565\n",
      "Epoch 13/100\n",
      "8/8 [==============================] - 0s 7ms/step - loss: 263.3582 - val_loss: 211.2350\n",
      "Epoch 14/100\n",
      "8/8 [==============================] - 0s 7ms/step - loss: 209.0836 - val_loss: 157.7083\n",
      "Epoch 15/100\n",
      "8/8 [==============================] - 0s 6ms/step - loss: 156.5015 - val_loss: 109.2638\n",
      "Epoch 16/100\n",
      "8/8 [==============================] - 0s 7ms/step - loss: 109.7737 - val_loss: 69.6132\n",
      "Epoch 17/100\n",
      "8/8 [==============================] - 0s 7ms/step - loss: 72.5424 - val_loss: 41.9396\n",
      "Epoch 18/100\n",
      "8/8 [==============================] - 0s 6ms/step - loss: 47.0798 - val_loss: 26.6439\n",
      "Epoch 19/100\n",
      "8/8 [==============================] - 0s 6ms/step - loss: 33.0145 - val_loss: 20.7585\n",
      "Epoch 20/100\n",
      "8/8 [==============================] - 0s 7ms/step - loss: 27.4166 - val_loss: 19.8732\n",
      "Epoch 21/100\n",
      "8/8 [==============================] - 0s 6ms/step - loss: 25.5983 - val_loss: 20.2471\n",
      "Epoch 22/100\n",
      "8/8 [==============================] - 0s 7ms/step - loss: 25.1170 - val_loss: 20.4492\n",
      "Epoch 23/100\n",
      "8/8 [==============================] - 0s 6ms/step - loss: 24.6993 - val_loss: 20.1301\n",
      "Epoch 24/100\n",
      "8/8 [==============================] - 0s 6ms/step - loss: 24.4559 - val_loss: 19.8017\n",
      "Epoch 25/100\n",
      "8/8 [==============================] - 0s 7ms/step - loss: 24.2301 - val_loss: 19.5042\n",
      "Epoch 26/100\n",
      "8/8 [==============================] - 0s 6ms/step - loss: 24.0464 - val_loss: 19.2586\n",
      "Epoch 27/100\n",
      "8/8 [==============================] - 0s 13ms/step - loss: 23.8637 - val_loss: 19.1117\n",
      "Epoch 28/100\n",
      "8/8 [==============================] - 0s 6ms/step - loss: 23.6807 - val_loss: 18.9668\n",
      "Epoch 29/100\n",
      "8/8 [==============================] - 0s 6ms/step - loss: 23.5471 - val_loss: 18.7951\n",
      "Epoch 30/100\n",
      "8/8 [==============================] - 0s 6ms/step - loss: 23.3480 - val_loss: 18.8448\n",
      "Epoch 31/100\n",
      "8/8 [==============================] - 0s 6ms/step - loss: 23.2552 - val_loss: 18.8576\n",
      "Epoch 32/100\n",
      "8/8 [==============================] - 0s 6ms/step - loss: 23.0867 - val_loss: 18.6657\n",
      "Epoch 33/100\n",
      "8/8 [==============================] - 0s 6ms/step - loss: 22.9212 - val_loss: 18.4823\n",
      "Epoch 34/100\n",
      "8/8 [==============================] - 0s 6ms/step - loss: 22.8225 - val_loss: 18.2869\n",
      "Epoch 35/100\n",
      "8/8 [==============================] - 0s 6ms/step - loss: 22.6704 - val_loss: 18.2645\n",
      "Epoch 36/100\n",
      "8/8 [==============================] - 0s 7ms/step - loss: 22.5620 - val_loss: 18.1578\n",
      "Epoch 37/100\n",
      "8/8 [==============================] - 0s 6ms/step - loss: 22.4303 - val_loss: 18.1388\n",
      "Epoch 38/100\n",
      "8/8 [==============================] - 0s 6ms/step - loss: 22.3355 - val_loss: 17.9983\n",
      "Epoch 39/100\n",
      "8/8 [==============================] - 0s 6ms/step - loss: 22.2122 - val_loss: 17.9154\n",
      "Epoch 40/100\n",
      "8/8 [==============================] - 0s 7ms/step - loss: 22.1249 - val_loss: 17.9311\n",
      "Epoch 41/100\n",
      "8/8 [==============================] - 0s 6ms/step - loss: 22.0135 - val_loss: 17.8471\n",
      "Epoch 42/100\n",
      "8/8 [==============================] - 0s 6ms/step - loss: 21.9177 - val_loss: 17.6994\n",
      "Epoch 43/100\n",
      "8/8 [==============================] - 0s 6ms/step - loss: 21.8208 - val_loss: 17.6593\n",
      "Epoch 44/100\n",
      "8/8 [==============================] - 0s 8ms/step - loss: 21.7390 - val_loss: 17.5874\n",
      "Epoch 45/100\n",
      "8/8 [==============================] - 0s 8ms/step - loss: 21.6506 - val_loss: 17.4873\n",
      "Epoch 46/100\n",
      "8/8 [==============================] - 0s 6ms/step - loss: 21.6065 - val_loss: 17.3841\n",
      "Epoch 47/100\n",
      "8/8 [==============================] - 0s 6ms/step - loss: 21.5436 - val_loss: 17.5049\n",
      "Epoch 48/100\n",
      "8/8 [==============================] - 0s 6ms/step - loss: 21.4736 - val_loss: 17.3752\n",
      "Epoch 49/100\n",
      "8/8 [==============================] - 0s 6ms/step - loss: 21.3561 - val_loss: 17.3637\n",
      "Epoch 50/100\n",
      "8/8 [==============================] - 0s 6ms/step - loss: 21.3199 - val_loss: 17.3994\n",
      "Epoch 51/100\n",
      "8/8 [==============================] - 0s 7ms/step - loss: 21.2716 - val_loss: 17.2632\n",
      "Epoch 52/100\n",
      "8/8 [==============================] - 0s 7ms/step - loss: 21.1824 - val_loss: 17.2192\n",
      "Epoch 53/100\n",
      "8/8 [==============================] - 0s 7ms/step - loss: 21.1474 - val_loss: 17.0963\n",
      "Epoch 54/100\n",
      "8/8 [==============================] - 0s 6ms/step - loss: 21.0944 - val_loss: 17.0692\n",
      "Epoch 55/100\n",
      "8/8 [==============================] - 0s 7ms/step - loss: 21.0362 - val_loss: 17.1161\n",
      "Epoch 56/100\n",
      "8/8 [==============================] - 0s 7ms/step - loss: 20.9862 - val_loss: 17.0611\n",
      "Epoch 57/100\n",
      "8/8 [==============================] - 0s 7ms/step - loss: 20.9279 - val_loss: 17.0292\n",
      "Epoch 58/100\n",
      "8/8 [==============================] - 0s 9ms/step - loss: 20.9194 - val_loss: 16.9699\n",
      "Epoch 59/100\n",
      "8/8 [==============================] - 0s 7ms/step - loss: 20.8760 - val_loss: 17.0464\n",
      "Epoch 60/100\n",
      "8/8 [==============================] - 0s 7ms/step - loss: 20.8551 - val_loss: 16.9179\n",
      "Epoch 61/100\n",
      "8/8 [==============================] - 0s 6ms/step - loss: 20.8615 - val_loss: 16.7950\n",
      "Epoch 62/100\n",
      "8/8 [==============================] - 0s 7ms/step - loss: 20.7491 - val_loss: 16.9519\n",
      "Epoch 63/100\n",
      "8/8 [==============================] - 0s 7ms/step - loss: 20.7243 - val_loss: 17.0234\n",
      "Epoch 64/100\n",
      "8/8 [==============================] - 0s 7ms/step - loss: 20.6991 - val_loss: 16.9523\n",
      "Epoch 65/100\n",
      "8/8 [==============================] - 0s 7ms/step - loss: 20.6822 - val_loss: 16.7814\n",
      "Epoch 66/100\n",
      "8/8 [==============================] - 0s 6ms/step - loss: 20.6380 - val_loss: 16.8248\n",
      "Epoch 67/100\n",
      "8/8 [==============================] - 0s 7ms/step - loss: 20.6174 - val_loss: 16.7480\n",
      "Epoch 68/100\n",
      "8/8 [==============================] - 0s 6ms/step - loss: 20.5838 - val_loss: 16.7367\n",
      "Epoch 69/100\n",
      "8/8 [==============================] - 0s 7ms/step - loss: 20.6698 - val_loss: 16.9580\n",
      "Epoch 70/100\n",
      "8/8 [==============================] - 0s 7ms/step - loss: 20.5568 - val_loss: 16.7128\n",
      "Epoch 71/100\n",
      "8/8 [==============================] - 0s 7ms/step - loss: 20.5259 - val_loss: 16.6747\n",
      "Epoch 72/100\n",
      "8/8 [==============================] - 0s 6ms/step - loss: 20.5311 - val_loss: 16.7755\n",
      "Epoch 73/100\n",
      "8/8 [==============================] - 0s 7ms/step - loss: 20.4804 - val_loss: 16.7435\n",
      "Epoch 74/100\n",
      "8/8 [==============================] - 0s 7ms/step - loss: 20.6147 - val_loss: 16.4729\n",
      "Epoch 75/100\n",
      "8/8 [==============================] - 0s 7ms/step - loss: 20.5036 - val_loss: 16.7441\n",
      "Epoch 76/100\n",
      "8/8 [==============================] - 0s 7ms/step - loss: 20.4367 - val_loss: 16.7136\n",
      "Epoch 77/100\n",
      "8/8 [==============================] - 0s 7ms/step - loss: 20.4262 - val_loss: 16.7475\n",
      "Epoch 78/100\n",
      "8/8 [==============================] - 0s 6ms/step - loss: 20.4335 - val_loss: 16.5865\n",
      "Epoch 79/100\n",
      "8/8 [==============================] - 0s 7ms/step - loss: 20.3996 - val_loss: 16.6548\n",
      "Epoch 80/100\n",
      "8/8 [==============================] - 0s 6ms/step - loss: 20.3909 - val_loss: 16.5919\n",
      "Epoch 81/100\n",
      "8/8 [==============================] - 0s 6ms/step - loss: 20.4424 - val_loss: 16.6980\n",
      "Epoch 82/100\n",
      "8/8 [==============================] - 0s 7ms/step - loss: 20.3844 - val_loss: 16.5775\n",
      "Epoch 83/100\n",
      "8/8 [==============================] - 0s 7ms/step - loss: 20.3865 - val_loss: 16.4570\n",
      "Epoch 84/100\n",
      "8/8 [==============================] - 0s 6ms/step - loss: 20.3544 - val_loss: 16.4988\n",
      "Epoch 85/100\n",
      "8/8 [==============================] - 0s 7ms/step - loss: 20.3253 - val_loss: 16.5895\n",
      "Epoch 86/100\n",
      "8/8 [==============================] - 0s 6ms/step - loss: 20.4070 - val_loss: 16.8319\n",
      "Epoch 87/100\n",
      "8/8 [==============================] - 0s 7ms/step - loss: 20.3323 - val_loss: 16.7138\n",
      "Epoch 88/100\n",
      "8/8 [==============================] - 0s 13ms/step - loss: 20.3100 - val_loss: 16.4363\n",
      "Epoch 89/100\n",
      "8/8 [==============================] - 0s 7ms/step - loss: 20.3463 - val_loss: 16.5850\n",
      "Epoch 90/100\n",
      "8/8 [==============================] - 0s 6ms/step - loss: 20.2713 - val_loss: 16.5115\n",
      "Epoch 91/100\n",
      "8/8 [==============================] - 0s 6ms/step - loss: 20.3084 - val_loss: 16.4237\n",
      "Epoch 92/100\n",
      "8/8 [==============================] - 0s 6ms/step - loss: 20.2853 - val_loss: 16.5029\n",
      "Epoch 93/100\n",
      "8/8 [==============================] - 0s 6ms/step - loss: 20.2689 - val_loss: 16.5795\n",
      "Epoch 94/100\n",
      "8/8 [==============================] - 0s 6ms/step - loss: 20.2881 - val_loss: 16.4557\n",
      "Epoch 95/100\n",
      "8/8 [==============================] - 0s 6ms/step - loss: 20.2789 - val_loss: 16.4591\n",
      "Epoch 96/100\n",
      "8/8 [==============================] - 0s 6ms/step - loss: 20.2516 - val_loss: 16.6204\n",
      "Epoch 97/100\n",
      "8/8 [==============================] - 0s 6ms/step - loss: 20.2524 - val_loss: 16.6705\n",
      "Epoch 98/100\n",
      "8/8 [==============================] - 0s 6ms/step - loss: 20.3114 - val_loss: 16.4604\n",
      "Epoch 99/100\n",
      "8/8 [==============================] - 0s 8ms/step - loss: 20.2757 - val_loss: 16.5804\n",
      "Epoch 100/100\n",
      "8/8 [==============================] - 0s 7ms/step - loss: 20.2337 - val_loss: 16.5565\n"
     ]
    }
   ],
   "source": [
    "historyNN = modelNN.fit(\n",
    "    X_train, y_train,\n",
    "    validation_split=0.2,\n",
    "    epochs=100\n",
    ")"
   ]
  },
  {
   "cell_type": "code",
   "execution_count": 24,
   "id": "steady-detroit",
   "metadata": {},
   "outputs": [
    {
     "data": {
      "image/png": "[encoded data removed]",
      "text/plain": [
       "<Figure size 640x480 with 1 Axes>"
      ]
     },
     "metadata": {},
     "output_type": "display_data"
    }
   ],
   "source": [
    "plot_loss(historyNN)"
   ]
  },
  {
   "cell_type": "markdown",
   "id": "cd2a24e0",
   "metadata": {},
   "source": [
    "Again, let's visualise the ANN model"
   ]
  },
  {
   "cell_type": "code",
   "execution_count": 25,
   "id": "demanding-surprise",
   "metadata": {},
   "outputs": [
    {
     "name": "stdout",
     "output_type": "stream",
     "text": [
      "8/8 [==============================] - 0s 2ms/step\n"
     ]
    },
    {
     "data": {
      "image/png": "[encoded data removed]",
      "text/plain": [
       "<Figure size 640x480 with 1 Axes>"
      ]
     },
     "metadata": {},
     "output_type": "display_data"
    }
   ],
   "source": [
    "x = tf.linspace(0.0, 250, 251)\n",
    "y = modelNN.predict(x)\n",
    "plot_horsepower(x,y)"
   ]
  },
  {
   "cell_type": "markdown",
   "id": "0bc4e21f",
   "metadata": {},
   "source": [
    "Notice the different shape"
   ]
  },
  {
   "cell_type": "code",
   "execution_count": 26,
   "id": "atomic-filling",
   "metadata": {},
   "outputs": [
    {
     "name": "stdout",
     "output_type": "stream",
     "text": [
      "3/3 [==============================] - 0s 3ms/step - loss: 18.3551\n",
      "TensorFlow Linear Regression Loss:  18.3551\n"
     ]
    }
   ],
   "source": [
    "tfNNEval = modelNN.evaluate(X_test, y_test)\n",
    "print(\"TensorFlow Linear Regression Loss: \", round(tfNNEval,4))"
   ]
  },
  {
   "cell_type": "code",
   "execution_count": 27,
   "id": "f3749cdd",
   "metadata": {},
   "outputs": [
    {
     "name": "stdout",
     "output_type": "stream",
     "text": [
      "Model 1: TensorFlow Linear Regression Loss:  22.608\n",
      "Model 2: sklearn Linear Regression Loss:  22.57\n",
      "Model 3: TensorFlow Linear Regression Loss:  18.3551\n"
     ]
    }
   ],
   "source": [
    "print(\"Model 1: TensorFlow Linear Regression Loss: \", round(tfLinearRegressionEval,4))\n",
    "print(\"Model 2: sklearn Linear Regression Loss: \", round(sklearnLinearRegressionEval,4))\n",
    "print(\"Model 3: TensorFlow Linear Regression Loss: \", round(tfNNEval,4))"
   ]
  },
  {
   "cell_type": "markdown",
   "id": "e87fd338",
   "metadata": {},
   "source": [
    "The ANN gave the best score! The non-linear NN model better captured the underlying trend"
   ]
  }
 ],
 "metadata": {
  "kernelspec": {
   "display_name": "base",
   "language": "python",
   "name": "python3"
  },
  "language_info": {
   "codemirror_mode": {
    "name": "ipython",
    "version": 3
   },
   "file_extension": ".py",
   "mimetype": "text/x-python",
   "name": "python",
   "nbconvert_exporter": "python",
   "pygments_lexer": "ipython3",
   "version": "3.11.3"
  }
 },
 "nbformat": 4,
 "nbformat_minor": 5
}
