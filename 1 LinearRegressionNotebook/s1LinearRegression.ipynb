{
 "cells": [
  {
   "cell_type": "markdown",
   "id": "ac9164e6",
   "metadata": {},
   "source": [
    "# Linear Regression"
   ]
  },
  {
   "cell_type": "markdown",
   "id": "c17aded6",
   "metadata": {},
   "source": [
    "https://scikit-learn.org/stable/modules/generated/sklearn.linear_model.LinearRegression.html\n"
   ]
  },
  {
   "cell_type": "markdown",
   "id": "6ee092f7",
   "metadata": {},
   "source": [
    "Step 1, import the things we probably always want"
   ]
  },
  {
   "cell_type": "code",
   "execution_count": 52,
   "id": "d4c59225",
   "metadata": {},
   "outputs": [],
   "source": [
    "import numpy as np\n",
    "import matplotlib.pyplot as plt\n",
    "\n",
    "import pandas as pd"
   ]
  },
  {
   "cell_type": "markdown",
   "id": "aaa7d6b7",
   "metadata": {},
   "source": [
    "These ones are not for always, but I like this plotting style for this workbook"
   ]
  },
  {
   "cell_type": "code",
   "execution_count": 53,
   "id": "3be0b531",
   "metadata": {},
   "outputs": [],
   "source": [
    "import matplotlib\n",
    "matplotlib.style.use('ggplot')"
   ]
  },
  {
   "cell_type": "markdown",
   "id": "ef369d06",
   "metadata": {},
   "source": [
    "Before we can see if a straight line model even applies, we have to have a look at it."
   ]
  },
  {
   "cell_type": "markdown",
   "id": "aee29e31",
   "metadata": {},
   "source": [
    "Let's take this set\n",
    "\n",
    "X has values 5,7,9,11,13,15\n",
    "\n",
    "y has 11,14,20,24,29,31\n",
    "\n",
    "and we want to build a model\n",
    "$\\hat{y} = w_0 + w_1x$"
   ]
  },
  {
   "cell_type": "code",
   "execution_count": 54,
   "id": "3e321d0c",
   "metadata": {},
   "outputs": [],
   "source": [
    "X = np.array([5, 7, 9, 11, 13, 15])\n",
    "y = np.array([11, 14, 20, 24, 29, 31])"
   ]
  },
  {
   "cell_type": "markdown",
   "id": "5881e04d",
   "metadata": {},
   "source": [
    "Let's plot it to see if a linear model makes sense for this"
   ]
  },
  {
   "cell_type": "code",
   "execution_count": 55,
   "id": "d53ed028",
   "metadata": {},
   "outputs": [
    {
     "data": {
      "image/png": "[encoded data removed]",
      "text/plain": [
       "<Figure size 640x480 with 1 Axes>"
      ]
     },
     "metadata": {},
     "output_type": "display_data"
    }
   ],
   "source": [
    "plt.scatter(X,y)\n",
    "plt.show()"
   ]
  },
  {
   "cell_type": "markdown",
   "id": "9ba48643",
   "metadata": {},
   "source": [
    "not a perfect linear, but pretty linear.\n",
    "\n",
    "We can check the correlation coefficient "
   ]
  },
  {
   "cell_type": "code",
   "execution_count": 56,
   "id": "09bda59b",
   "metadata": {},
   "outputs": [
    {
     "data": {
      "text/plain": [
       "array([[1.        , 0.99322298],\n",
       "       [0.99322298, 1.        ]])"
      ]
     },
     "execution_count": 56,
     "metadata": {},
     "output_type": "execute_result"
    }
   ],
   "source": [
    "np.corrcoef(X, y)"
   ]
  },
  {
   "cell_type": "markdown",
   "id": "f57be27a",
   "metadata": {},
   "source": [
    "0.99322, very high correlation!\n",
    "\n",
    "Next thing we need to do is if we want to use linear regression where we have Y are outputs and X are inputs, we need to ensure that X is A2 dimensional vector."
   ]
  },
  {
   "cell_type": "markdown",
   "id": "43c937eb",
   "metadata": {},
   "source": [
    "## Data Structure: let's look at X and y in more detail"
   ]
  },
  {
   "cell_type": "code",
   "execution_count": 57,
   "id": "6872f561",
   "metadata": {},
   "outputs": [
    {
     "data": {
      "text/plain": [
       "(6,)"
      ]
     },
     "execution_count": 57,
     "metadata": {},
     "output_type": "execute_result"
    }
   ],
   "source": [
    "y.shape"
   ]
  },
  {
   "cell_type": "code",
   "execution_count": 58,
   "id": "5b834798",
   "metadata": {},
   "outputs": [
    {
     "data": {
      "text/plain": [
       "1"
      ]
     },
     "execution_count": 58,
     "metadata": {},
     "output_type": "execute_result"
    }
   ],
   "source": [
    "y.ndim"
   ]
  },
  {
   "cell_type": "markdown",
   "id": "387225d1",
   "metadata": {},
   "source": [
    "y is clearly a 1d array, as expected - good"
   ]
  },
  {
   "cell_type": "code",
   "execution_count": 59,
   "id": "70f7e3d1",
   "metadata": {},
   "outputs": [
    {
     "data": {
      "text/plain": [
       "(6,)"
      ]
     },
     "execution_count": 59,
     "metadata": {},
     "output_type": "execute_result"
    }
   ],
   "source": [
    "X.shape"
   ]
  },
  {
   "cell_type": "code",
   "execution_count": 60,
   "id": "31e618e0",
   "metadata": {},
   "outputs": [
    {
     "data": {
      "text/plain": [
       "1"
      ]
     },
     "execution_count": 60,
     "metadata": {},
     "output_type": "execute_result"
    }
   ],
   "source": [
    "X.ndim"
   ]
  },
  {
   "cell_type": "markdown",
   "id": "1215ddf9",
   "metadata": {},
   "source": [
    "X is also a 1d array, not good. It needs to be a 2d array"
   ]
  },
  {
   "cell_type": "code",
   "execution_count": 61,
   "id": "a32b07cd",
   "metadata": {},
   "outputs": [
    {
     "data": {
      "text/plain": [
       "array([ 5,  7,  9, 11, 13, 15])"
      ]
     },
     "execution_count": 61,
     "metadata": {},
     "output_type": "execute_result"
    }
   ],
   "source": [
    "X"
   ]
  },
  {
   "cell_type": "markdown",
   "id": "6a04a209",
   "metadata": {},
   "source": [
    "It's written as one row, but really we need 6 rows with one entry in each row. Let's reshape the array"
   ]
  },
  {
   "cell_type": "code",
   "execution_count": 62,
   "id": "22a68dc0",
   "metadata": {},
   "outputs": [],
   "source": [
    "X = X.reshape(-1,1)"
   ]
  },
  {
   "cell_type": "code",
   "execution_count": 63,
   "id": "7c8f25a3",
   "metadata": {},
   "outputs": [
    {
     "data": {
      "text/plain": [
       "(6, 1)"
      ]
     },
     "execution_count": 63,
     "metadata": {},
     "output_type": "execute_result"
    }
   ],
   "source": [
    "X.shape"
   ]
  },
  {
   "cell_type": "markdown",
   "id": "5a469e5e",
   "metadata": {},
   "source": [
    "becomes 2d"
   ]
  },
  {
   "cell_type": "code",
   "execution_count": 64,
   "id": "c43f7ba0",
   "metadata": {},
   "outputs": [
    {
     "data": {
      "text/plain": [
       "2"
      ]
     },
     "execution_count": 64,
     "metadata": {},
     "output_type": "execute_result"
    }
   ],
   "source": [
    "X.ndim"
   ]
  },
  {
   "cell_type": "markdown",
   "id": "6923c9ad",
   "metadata": {},
   "source": [
    "2d array. Good. Let's look at it"
   ]
  },
  {
   "cell_type": "code",
   "execution_count": 65,
   "id": "1fcbe6ea",
   "metadata": {},
   "outputs": [
    {
     "data": {
      "text/plain": [
       "array([[ 5],\n",
       "       [ 7],\n",
       "       [ 9],\n",
       "       [11],\n",
       "       [13],\n",
       "       [15]])"
      ]
     },
     "execution_count": 65,
     "metadata": {},
     "output_type": "execute_result"
    }
   ],
   "source": [
    "X"
   ]
  },
  {
   "cell_type": "markdown",
   "id": "d8bad5f5",
   "metadata": {},
   "source": [
    "6 rows now"
   ]
  },
  {
   "cell_type": "markdown",
   "id": "a7925a63",
   "metadata": {},
   "source": [
    "## Section 3, build the model"
   ]
  },
  {
   "cell_type": "code",
   "execution_count": 66,
   "id": "2d1c5cd6",
   "metadata": {},
   "outputs": [],
   "source": [
    "from sklearn.linear_model import LinearRegression"
   ]
  },
  {
   "cell_type": "code",
   "execution_count": 67,
   "id": "279f6b0c",
   "metadata": {},
   "outputs": [
    {
     "name": "stdout",
     "output_type": "stream",
     "text": [
      "\u001b[0;31mInit signature:\u001b[0m\n",
      "\u001b[0mLinearRegression\u001b[0m\u001b[0;34m(\u001b[0m\u001b[0;34m\u001b[0m\n",
      "\u001b[0;34m\u001b[0m    \u001b[0;34m*\u001b[0m\u001b[0;34m,\u001b[0m\u001b[0;34m\u001b[0m\n",
      "\u001b[0;34m\u001b[0m    \u001b[0mfit_intercept\u001b[0m\u001b[0;34m=\u001b[0m\u001b[0;32mTrue\u001b[0m\u001b[0;34m,\u001b[0m\u001b[0;34m\u001b[0m\n",
      "\u001b[0;34m\u001b[0m    \u001b[0mcopy_X\u001b[0m\u001b[0;34m=\u001b[0m\u001b[0;32mTrue\u001b[0m\u001b[0;34m,\u001b[0m\u001b[0;34m\u001b[0m\n",
      "\u001b[0;34m\u001b[0m    \u001b[0mn_jobs\u001b[0m\u001b[0;34m=\u001b[0m\u001b[0;32mNone\u001b[0m\u001b[0;34m,\u001b[0m\u001b[0;34m\u001b[0m\n",
      "\u001b[0;34m\u001b[0m    \u001b[0mpositive\u001b[0m\u001b[0;34m=\u001b[0m\u001b[0;32mFalse\u001b[0m\u001b[0;34m,\u001b[0m\u001b[0;34m\u001b[0m\n",
      "\u001b[0;34m\u001b[0m\u001b[0;34m)\u001b[0m\u001b[0;34m\u001b[0m\u001b[0;34m\u001b[0m\u001b[0m\n",
      "\u001b[0;31mDocstring:\u001b[0m     \n",
      "Ordinary least squares Linear Regression.\n",
      "\n",
      "LinearRegression fits a linear model with coefficients w = (w1, ..., wp)\n",
      "to minimize the residual sum of squares between the observed targets in\n",
      "the dataset, and the targets predicted by the linear approximation.\n",
      "\n",
      "Parameters\n",
      "----------\n",
      "fit_intercept : bool, default=True\n",
      "    Whether to calculate the intercept for this model. If set\n",
      "    to False, no intercept will be used in calculations\n",
      "    (i.e. data is expected to be centered).\n",
      "\n",
      "copy_X : bool, default=True\n",
      "    If True, X will be copied; else, it may be overwritten.\n",
      "\n",
      "n_jobs : int, default=None\n",
      "    The number of jobs to use for the computation. This will only provide\n",
      "    speedup in case of sufficiently large problems, that is if firstly\n",
      "    `n_targets > 1` and secondly `X` is sparse or if `positive` is set\n",
      "    to `True`. ``None`` means 1 unless in a\n",
      "    :obj:`joblib.parallel_backend` context. ``-1`` means using all\n",
      "    processors. See :term:`Glossary <n_jobs>` for more details.\n",
      "\n",
      "positive : bool, default=False\n",
      "    When set to ``True``, forces the coefficients to be positive. This\n",
      "    option is only supported for dense arrays.\n",
      "\n",
      "    .. versionadded:: 0.24\n",
      "\n",
      "Attributes\n",
      "----------\n",
      "coef_ : array of shape (n_features, ) or (n_targets, n_features)\n",
      "    Estimated coefficients for the linear regression problem.\n",
      "    If multiple targets are passed during the fit (y 2D), this\n",
      "    is a 2D array of shape (n_targets, n_features), while if only\n",
      "    one target is passed, this is a 1D array of length n_features.\n",
      "\n",
      "rank_ : int\n",
      "    Rank of matrix `X`. Only available when `X` is dense.\n",
      "\n",
      "singular_ : array of shape (min(X, y),)\n",
      "    Singular values of `X`. Only available when `X` is dense.\n",
      "\n",
      "intercept_ : float or array of shape (n_targets,)\n",
      "    Independent term in the linear model. Set to 0.0 if\n",
      "    `fit_intercept = False`.\n",
      "\n",
      "n_features_in_ : int\n",
      "    Number of features seen during :term:`fit`.\n",
      "\n",
      "    .. versionadded:: 0.24\n",
      "\n",
      "feature_names_in_ : ndarray of shape (`n_features_in_`,)\n",
      "    Names of features seen during :term:`fit`. Defined only when `X`\n",
      "    has feature names that are all strings.\n",
      "\n",
      "    .. versionadded:: 1.0\n",
      "\n",
      "See Also\n",
      "--------\n",
      "Ridge : Ridge regression addresses some of the\n",
      "    problems of Ordinary Least Squares by imposing a penalty on the\n",
      "    size of the coefficients with l2 regularization.\n",
      "Lasso : The Lasso is a linear model that estimates\n",
      "    sparse coefficients with l1 regularization.\n",
      "ElasticNet : Elastic-Net is a linear regression\n",
      "    model trained with both l1 and l2 -norm regularization of the\n",
      "    coefficients.\n",
      "\n",
      "Notes\n",
      "-----\n",
      "From the implementation point of view, this is just plain Ordinary\n",
      "Least Squares (scipy.linalg.lstsq) or Non Negative Least Squares\n",
      "(scipy.optimize.nnls) wrapped as a predictor object.\n",
      "\n",
      "Examples\n",
      "--------\n",
      ">>> import numpy as np\n",
      ">>> from sklearn.linear_model import LinearRegression\n",
      ">>> X = np.array([[1, 1], [1, 2], [2, 2], [2, 3]])\n",
      ">>> # y = 1 * x_0 + 2 * x_1 + 3\n",
      ">>> y = np.dot(X, np.array([1, 2])) + 3\n",
      ">>> reg = LinearRegression().fit(X, y)\n",
      ">>> reg.score(X, y)\n",
      "1.0\n",
      ">>> reg.coef_\n",
      "array([1., 2.])\n",
      ">>> reg.intercept_\n",
      "3.0...\n",
      ">>> reg.predict(np.array([[3, 5]]))\n",
      "array([16.])\n",
      "\u001b[0;31mFile:\u001b[0m           ~/anaconda3/envs/base_3.11/lib/python3.11/site-packages/sklearn/linear_model/_base.py\n",
      "\u001b[0;31mType:\u001b[0m           ABCMeta\n",
      "\u001b[0;31mSubclasses:\u001b[0m     "
     ]
    }
   ],
   "source": [
    "LinearRegression?"
   ]
  },
  {
   "cell_type": "markdown",
   "id": "31a58de4",
   "metadata": {},
   "source": [
    "Create the model, with sklearn you initialise the model with an \"empty constructor\" of the base form of the model. LinearRegression is the constructor"
   ]
  },
  {
   "cell_type": "code",
   "execution_count": 68,
   "id": "fde104c3",
   "metadata": {},
   "outputs": [],
   "source": [
    "model = LinearRegression()"
   ]
  },
  {
   "cell_type": "markdown",
   "id": "513f85e3",
   "metadata": {},
   "source": [
    "Now \"fit\" the model using X and y. Use an appropriate ? after method name to see. .fit expects the X part to be a matrix, but we have a 1 dimensional array. Pay attention to the error message when you just do x,y\n",
    "\n",
    "X is 2d vector, y is 1d vector"
   ]
  },
  {
   "cell_type": "code",
   "execution_count": 69,
   "id": "b39524b2",
   "metadata": {},
   "outputs": [
    {
     "data": {
      "text/html": [
       "<style>#sk-container-id-4 {color: black;background-color: white;}#sk-container-id-4 pre{padding: 0;}#sk-container-id-4 div.sk-toggleable {background-color: white;}#sk-container-id-4 label.sk-toggleable__label {cursor: pointer;display: block;width: 100%;margin-bottom: 0;padding: 0.3em;box-sizing: border-box;text-align: center;}#sk-container-id-4 label.sk-toggleable__label-arrow:before {content: \"▸\";float: left;margin-right: 0.25em;color: #696969;}#sk-container-id-4 label.sk-toggleable__label-arrow:hover:before {color: black;}#sk-container-id-4 div.sk-estimator:hover label.sk-toggleable__label-arrow:before {color: black;}#sk-container-id-4 div.sk-toggleable__content {max-height: 0;max-width: 0;overflow: hidden;text-align: left;background-color: #f0f8ff;}#sk-container-id-4 div.sk-toggleable__content pre {margin: 0.2em;color: black;border-radius: 0.25em;background-color: #f0f8ff;}#sk-container-id-4 input.sk-toggleable__control:checked~div.sk-toggleable__content {max-height: 200px;max-width: 100%;overflow: auto;}#sk-container-id-4 input.sk-toggleable__control:checked~label.sk-toggleable__label-arrow:before {content: \"▾\";}#sk-container-id-4 div.sk-estimator input.sk-toggleable__control:checked~label.sk-toggleable__label {background-color: #d4ebff;}#sk-container-id-4 div.sk-label input.sk-toggleable__control:checked~label.sk-toggleable__label {background-color: #d4ebff;}#sk-container-id-4 input.sk-hidden--visually {border: 0;clip: rect(1px 1px 1px 1px);clip: rect(1px, 1px, 1px, 1px);height: 1px;margin: -1px;overflow: hidden;padding: 0;position: absolute;width: 1px;}#sk-container-id-4 div.sk-estimator {font-family: monospace;background-color: #f0f8ff;border: 1px dotted black;border-radius: 0.25em;box-sizing: border-box;margin-bottom: 0.5em;}#sk-container-id-4 div.sk-estimator:hover {background-color: #d4ebff;}#sk-container-id-4 div.sk-parallel-item::after {content: \"\";width: 100%;border-bottom: 1px solid gray;flex-grow: 1;}#sk-container-id-4 div.sk-label:hover label.sk-toggleable__label {background-color: #d4ebff;}#sk-container-id-4 div.sk-serial::before {content: \"\";position: absolute;border-left: 1px solid gray;box-sizing: border-box;top: 0;bottom: 0;left: 50%;z-index: 0;}#sk-container-id-4 div.sk-serial {display: flex;flex-direction: column;align-items: center;background-color: white;padding-right: 0.2em;padding-left: 0.2em;position: relative;}#sk-container-id-4 div.sk-item {position: relative;z-index: 1;}#sk-container-id-4 div.sk-parallel {display: flex;align-items: stretch;justify-content: center;background-color: white;position: relative;}#sk-container-id-4 div.sk-item::before, #sk-container-id-4 div.sk-parallel-item::before {content: \"\";position: absolute;border-left: 1px solid gray;box-sizing: border-box;top: 0;bottom: 0;left: 50%;z-index: -1;}#sk-container-id-4 div.sk-parallel-item {display: flex;flex-direction: column;z-index: 1;position: relative;background-color: white;}#sk-container-id-4 div.sk-parallel-item:first-child::after {align-self: flex-end;width: 50%;}#sk-container-id-4 div.sk-parallel-item:last-child::after {align-self: flex-start;width: 50%;}#sk-container-id-4 div.sk-parallel-item:only-child::after {width: 0;}#sk-container-id-4 div.sk-dashed-wrapped {border: 1px dashed gray;margin: 0 0.4em 0.5em 0.4em;box-sizing: border-box;padding-bottom: 0.4em;background-color: white;}#sk-container-id-4 div.sk-label label {font-family: monospace;font-weight: bold;display: inline-block;line-height: 1.2em;}#sk-container-id-4 div.sk-label-container {text-align: center;}#sk-container-id-4 div.sk-container {/* jupyter's `normalize.less` sets `[hidden] { display: none; }` but bootstrap.min.css set `[hidden] { display: none !important; }` so we also need the `!important` here to be able to override the default hidden behavior on the sphinx rendered scikit-learn.org. See: https://github.com/scikit-learn/scikit-learn/issues/21755 */display: inline-block !important;position: relative;}#sk-container-id-4 div.sk-text-repr-fallback {display: none;}</style><div id=\"sk-container-id-4\" class=\"sk-top-container\"><div class=\"sk-text-repr-fallback\"><pre>LinearRegression()</pre><b>In a Jupyter environment, please rerun this cell to show the HTML representation or trust the notebook. <br />On GitHub, the HTML representation is unable to render, please try loading this page with nbviewer.org.</b></div><div class=\"sk-container\" hidden><div class=\"sk-item\"><div class=\"sk-estimator sk-toggleable\"><input class=\"sk-toggleable__control sk-hidden--visually\" id=\"sk-estimator-id-4\" type=\"checkbox\" checked><label for=\"sk-estimator-id-4\" class=\"sk-toggleable__label sk-toggleable__label-arrow\">LinearRegression</label><div class=\"sk-toggleable__content\"><pre>LinearRegression()</pre></div></div></div></div></div>"
      ],
      "text/plain": [
       "LinearRegression()"
      ]
     },
     "execution_count": 69,
     "metadata": {},
     "output_type": "execute_result"
    }
   ],
   "source": [
    "model.fit(X,y)"
   ]
  },
  {
   "cell_type": "markdown",
   "id": "087f75ab",
   "metadata": {},
   "source": [
    "It returns me just this linear regression model, but nothing has been done with it yet.\n",
    "7 minutes 27 seconds\n",
    "It's just a linear model.\n",
    "7 minutes 29 seconds\n",
    "We can query it in the next section and we can also kind of query, you know, what are the coefficients of the model, the W zero and the West one.\n",
    "7 minutes 37 seconds\n",
    "But we can also query what's the performance of the error on the model.\n",
    "7 minutes 43 seconds\n"
   ]
  },
  {
   "cell_type": "markdown",
   "id": "d76462a4",
   "metadata": {},
   "source": [
    "## Section 4 Inferences"
   ]
  },
  {
   "cell_type": "code",
   "execution_count": 70,
   "id": "06b6733d",
   "metadata": {},
   "outputs": [
    {
     "data": {
      "text/plain": [
       "array([2.12857143])"
      ]
     },
     "execution_count": 70,
     "metadata": {},
     "output_type": "execute_result"
    }
   ],
   "source": [
    "model.coef_"
   ]
  },
  {
   "cell_type": "code",
   "execution_count": 71,
   "id": "472117a7",
   "metadata": {},
   "outputs": [
    {
     "data": {
      "text/plain": [
       "0.2142857142857153"
      ]
     },
     "execution_count": 71,
     "metadata": {},
     "output_type": "execute_result"
    }
   ],
   "source": [
    "model.intercept_"
   ]
  },
  {
   "cell_type": "markdown",
   "id": "0b3883e9",
   "metadata": {},
   "source": [
    "There are the parameters\n",
    "\n",
    "$\\hat{y} = 0.2142857142857153 + 2.12857143 x$\n",
    "\n",
    "is the model\n",
    "\n"
   ]
  },
  {
   "cell_type": "markdown",
   "id": "82bff9f1",
   "metadata": {},
   "source": [
    "\n",
    "So what I can do is I can actually build a module model manually."
   ]
  },
  {
   "cell_type": "code",
   "execution_count": 72,
   "id": "9d395a74",
   "metadata": {},
   "outputs": [],
   "source": [
    "w0 = model.intercept_\n",
    "w1 = model.coef_[0]"
   ]
  },
  {
   "cell_type": "code",
   "execution_count": 73,
   "id": "01387085",
   "metadata": {},
   "outputs": [],
   "source": [
    "predictions = w0 + np.dot(w1,X).reshape(1,-1)"
   ]
  },
  {
   "cell_type": "code",
   "execution_count": 74,
   "id": "bc993e96",
   "metadata": {},
   "outputs": [
    {
     "data": {
      "text/plain": [
       "array([[10.85714286, 15.11428571, 19.37142857, 23.62857143, 27.88571429,\n",
       "        32.14285714]])"
      ]
     },
     "execution_count": 74,
     "metadata": {},
     "output_type": "execute_result"
    }
   ],
   "source": [
    "predictions"
   ]
  },
  {
   "cell_type": "markdown",
   "id": "b75f897f",
   "metadata": {},
   "source": [
    "Using the built in .predict"
   ]
  },
  {
   "cell_type": "code",
   "execution_count": 75,
   "id": "4cae2939",
   "metadata": {},
   "outputs": [],
   "source": [
    "pred = model.predict(X)"
   ]
  },
  {
   "cell_type": "code",
   "execution_count": 76,
   "id": "2806975b",
   "metadata": {},
   "outputs": [
    {
     "data": {
      "text/plain": [
       "array([10.85714286, 15.11428571, 19.37142857, 23.62857143, 27.88571429,\n",
       "       32.14285714])"
      ]
     },
     "execution_count": 76,
     "metadata": {},
     "output_type": "execute_result"
    }
   ],
   "source": [
    "pred"
   ]
  },
  {
   "cell_type": "markdown",
   "id": "4122e64c",
   "metadata": {},
   "source": [
    "So my predictions and as you can see here, the predictions by building the model myself versus the predictions by using SK learns built in predict model are exactly the same.\n",
    "\n",
    "9 minutes 9 seconds\n",
    "If you look at these two, those two numbers, I can actually do it nicely here with Python where I can just query, are these predictions from the model equal to the model I built?\n",
    "9 minutes 19 seconds\n",
    "Are they the same?\n",
    "9 minutes 20 seconds\n",
    "And you can see they're all true."
   ]
  },
  {
   "cell_type": "code",
   "execution_count": 77,
   "id": "a5801c56",
   "metadata": {},
   "outputs": [
    {
     "data": {
      "text/plain": [
       "array([[ True,  True,  True,  True,  True,  True]])"
      ]
     },
     "execution_count": 77,
     "metadata": {},
     "output_type": "execute_result"
    }
   ],
   "source": [
    "pred == predictions"
   ]
  },
  {
   "cell_type": "markdown",
   "id": "caaf497f",
   "metadata": {},
   "source": [
    "They're the same."
   ]
  },
  {
   "cell_type": "markdown",
   "id": "92da7fc2",
   "metadata": {},
   "source": [
    "The next thing then is evaluating, as I said, the error and the quality of the model."
   ]
  },
  {
   "cell_type": "markdown",
   "id": "7d5d20f3",
   "metadata": {},
   "source": [
    "## Section 5 Evaluation"
   ]
  },
  {
   "cell_type": "code",
   "execution_count": 78,
   "id": "0c2f831e",
   "metadata": {},
   "outputs": [],
   "source": [
    "from sklearn.metrics import mean_squared_error as mse\n",
    "from sklearn.metrics import r2_score as r2\n",
    "#from sklearn.metrics import root_mean_squared_error as rms"
   ]
  },
  {
   "cell_type": "markdown",
   "id": "af1537ee",
   "metadata": {},
   "source": [
    "I had to comment out rms on my ATU laptop as sklearn is not up to date - it might work for you do so try uncommenting"
   ]
  },
  {
   "cell_type": "code",
   "execution_count": 79,
   "id": "87ef62c9",
   "metadata": {},
   "outputs": [
    {
     "data": {
      "text/plain": [
       "0.723809523809522"
      ]
     },
     "execution_count": 79,
     "metadata": {},
     "output_type": "execute_result"
    }
   ],
   "source": [
    "mse(y,pred)"
   ]
  },
  {
   "cell_type": "code",
   "execution_count": 80,
   "id": "ae1a72b1",
   "metadata": {},
   "outputs": [
    {
     "data": {
      "text/plain": [
       "0.9864918906909576"
      ]
     },
     "execution_count": 80,
     "metadata": {},
     "output_type": "execute_result"
    }
   ],
   "source": [
    "r2(y,pred)"
   ]
  },
  {
   "cell_type": "markdown",
   "id": "86517fb3",
   "metadata": {},
   "source": [
    "Very close to 1!\n",
    "\n",
    "So again, this shows that my model, my predictions are very close to the actual values of Y."
   ]
  },
  {
   "cell_type": "code",
   "execution_count": 81,
   "id": "84fbfe9e",
   "metadata": {},
   "outputs": [],
   "source": [
    "#rms(y,pred)"
   ]
  },
  {
   "cell_type": "code",
   "execution_count": 82,
   "id": "d884cac9-62a1-4e01-975e-bc7b71e1b413",
   "metadata": {},
   "outputs": [],
   "source": [
    "rmse = np.sqrt(mse(y,pred))"
   ]
  },
  {
   "cell_type": "code",
   "execution_count": 83,
   "id": "7ac03f6f-151b-47f9-bb07-fd4767d40f7a",
   "metadata": {},
   "outputs": [
    {
     "data": {
      "text/plain": [
       "0.8507699593953244"
      ]
     },
     "execution_count": 83,
     "metadata": {},
     "output_type": "execute_result"
    }
   ],
   "source": [
    "rmse"
   ]
  },
  {
   "cell_type": "markdown",
   "id": "bb8990dc",
   "metadata": {},
   "source": [
    "But the other thing you can do is you can actually visualise the model and we can see here versus the data I provided and the model, they're a very close match and you can see where the sum of the errors are in the predictions.\n",
    "10 minutes 56 seconds\n",
    "And that's accounting for it not being a perfect 1."
   ]
  },
  {
   "cell_type": "code",
   "execution_count": 84,
   "id": "0d7ea64b",
   "metadata": {},
   "outputs": [
    {
     "data": {
      "image/png": "[encoded data removed]",
      "text/plain": [
       "<Figure size 640x480 with 1 Axes>"
      ]
     },
     "metadata": {},
     "output_type": "display_data"
    }
   ],
   "source": [
    "plt.plot(X,y,'o')\n",
    "plt.plot(X,pred)\n",
    "plt.show()"
   ]
  },
  {
   "cell_type": "markdown",
   "id": "850d09ca",
   "metadata": {},
   "source": [
    "shows the line of best fit"
   ]
  },
  {
   "cell_type": "code",
   "execution_count": 85,
   "id": "696c8ffb",
   "metadata": {},
   "outputs": [
    {
     "data": {
      "text/plain": [
       "0.9864918906909576"
      ]
     },
     "execution_count": 85,
     "metadata": {},
     "output_type": "execute_result"
    }
   ],
   "source": [
    "model.score(X,y)"
   ]
  },
  {
   "cell_type": "markdown",
   "id": "516c4ff5",
   "metadata": {},
   "source": [
    "You just do model dot score and you can see here in 9864, which just shows you that the under the hood scoring the model in SK Learn is using the R-squared metric.\n",
    "11 minutes 13 seconds\n",
    "You can change that metric, I think in this parameter setting you can change it, but by default the R-squared metric.\n",
    "11 minutes 18 seconds\n"
   ]
  },
  {
   "cell_type": "markdown",
   "id": "5eb34eee",
   "metadata": {},
   "source": [
    "Agrees with the r2 from above"
   ]
  },
  {
   "cell_type": "markdown",
   "id": "1f9610c7",
   "metadata": {},
   "source": [
    "## Simple linear regression with automobile data\n",
    "We will now use sklearn to to predict automobile milesage per gallon (mpg) and evaluate these predictions. We first load the data and split them into a training set and a testing set."
   ]
  },
  {
   "cell_type": "code",
   "execution_count": 86,
   "id": "9417d125",
   "metadata": {},
   "outputs": [
    {
     "data": {
      "text/html": [
       "<div>\n",
       "<style scoped>\n",
       "    .dataframe tbody tr th:only-of-type {\n",
       "        vertical-align: middle;\n",
       "    }\n",
       "\n",
       "    .dataframe tbody tr th {\n",
       "        vertical-align: top;\n",
       "    }\n",
       "\n",
       "    .dataframe thead th {\n",
       "        text-align: right;\n",
       "    }\n",
       "</style>\n",
       "<table border=\"1\" class=\"dataframe\">\n",
       "  <thead>\n",
       "    <tr style=\"text-align: right;\">\n",
       "      <th></th>\n",
       "      <th>name</th>\n",
       "      <th>mpg</th>\n",
       "      <th>cyl</th>\n",
       "      <th>disp</th>\n",
       "      <th>hp</th>\n",
       "      <th>drat</th>\n",
       "      <th>wt</th>\n",
       "      <th>qsec</th>\n",
       "      <th>vs</th>\n",
       "      <th>am</th>\n",
       "      <th>gear</th>\n",
       "      <th>carb</th>\n",
       "    </tr>\n",
       "  </thead>\n",
       "  <tbody>\n",
       "    <tr>\n",
       "      <th>0</th>\n",
       "      <td>Mazda RX4</td>\n",
       "      <td>21.0</td>\n",
       "      <td>6</td>\n",
       "      <td>160.0</td>\n",
       "      <td>110</td>\n",
       "      <td>3.90</td>\n",
       "      <td>2.620</td>\n",
       "      <td>16.46</td>\n",
       "      <td>0</td>\n",
       "      <td>1</td>\n",
       "      <td>4</td>\n",
       "      <td>4</td>\n",
       "    </tr>\n",
       "    <tr>\n",
       "      <th>1</th>\n",
       "      <td>Mazda RX4 Wag</td>\n",
       "      <td>21.0</td>\n",
       "      <td>6</td>\n",
       "      <td>160.0</td>\n",
       "      <td>110</td>\n",
       "      <td>3.90</td>\n",
       "      <td>2.875</td>\n",
       "      <td>17.02</td>\n",
       "      <td>0</td>\n",
       "      <td>1</td>\n",
       "      <td>4</td>\n",
       "      <td>4</td>\n",
       "    </tr>\n",
       "    <tr>\n",
       "      <th>2</th>\n",
       "      <td>Datsun 710</td>\n",
       "      <td>22.8</td>\n",
       "      <td>4</td>\n",
       "      <td>108.0</td>\n",
       "      <td>93</td>\n",
       "      <td>3.85</td>\n",
       "      <td>2.320</td>\n",
       "      <td>18.61</td>\n",
       "      <td>1</td>\n",
       "      <td>1</td>\n",
       "      <td>4</td>\n",
       "      <td>1</td>\n",
       "    </tr>\n",
       "    <tr>\n",
       "      <th>3</th>\n",
       "      <td>Hornet 4 Drive</td>\n",
       "      <td>21.4</td>\n",
       "      <td>6</td>\n",
       "      <td>258.0</td>\n",
       "      <td>110</td>\n",
       "      <td>3.08</td>\n",
       "      <td>3.215</td>\n",
       "      <td>19.44</td>\n",
       "      <td>1</td>\n",
       "      <td>0</td>\n",
       "      <td>3</td>\n",
       "      <td>1</td>\n",
       "    </tr>\n",
       "    <tr>\n",
       "      <th>4</th>\n",
       "      <td>Hornet Sportabout</td>\n",
       "      <td>18.7</td>\n",
       "      <td>8</td>\n",
       "      <td>360.0</td>\n",
       "      <td>175</td>\n",
       "      <td>3.15</td>\n",
       "      <td>3.440</td>\n",
       "      <td>17.02</td>\n",
       "      <td>0</td>\n",
       "      <td>0</td>\n",
       "      <td>3</td>\n",
       "      <td>2</td>\n",
       "    </tr>\n",
       "  </tbody>\n",
       "</table>\n",
       "</div>"
      ],
      "text/plain": [
       "                name   mpg  cyl   disp   hp  drat     wt   qsec  vs  am  gear  \\\n",
       "0          Mazda RX4  21.0    6  160.0  110  3.90  2.620  16.46   0   1     4   \n",
       "1      Mazda RX4 Wag  21.0    6  160.0  110  3.90  2.875  17.02   0   1     4   \n",
       "2         Datsun 710  22.8    4  108.0   93  3.85  2.320  18.61   1   1     4   \n",
       "3     Hornet 4 Drive  21.4    6  258.0  110  3.08  3.215  19.44   1   0     3   \n",
       "4  Hornet Sportabout  18.7    8  360.0  175  3.15  3.440  17.02   0   0     3   \n",
       "\n",
       "   carb  \n",
       "0     4  \n",
       "1     4  \n",
       "2     1  \n",
       "3     1  \n",
       "4     2  "
      ]
     },
     "execution_count": 86,
     "metadata": {},
     "output_type": "execute_result"
    }
   ],
   "source": [
    "#load mtcars\n",
    "dfcars=pd.read_csv(\"mtcars.csv\")\n",
    "dfcars=dfcars.rename(columns={\"Unnamed: 0\":\"name\"})\n",
    "dfcars.head()"
   ]
  },
  {
   "cell_type": "markdown",
   "id": "8509f406",
   "metadata": {},
   "source": [
    "We need to choose the variables that we think will be good predictors for the dependent variable `mpg`. \n",
    "\n",
    ">**EXERCISE:**  Pick one variable to use as a predictor for simple linear regression.  Create a markdown cell below and discuss your reasons.  You may want to justify this with some visualizations.  Is there a second variable you'd like to use as well, say for multiple linear regression with two predictors?"
   ]
  },
  {
   "cell_type": "code",
   "execution_count": 90,
   "id": "a5bcf43d",
   "metadata": {},
   "outputs": [],
   "source": [
    "# option 1\n",
    "import statsmodels.api as sm\n",
    "# #your code (if any) here\n",
    "\n",
    "# # 2. Regression analysis\n",
    "\n",
    "# X = dfcars[['cyl', 'disp', 'hp', 'drat', 'wt', 'qsec', 'vs', 'am', 'gear', 'carb']]  # Predictor variables\n",
    "# y = dfcars['mpg']  # Dependent variable\n",
    "# # Add a constant to the model (intercept)\n",
    "# X = sm.add_constant(X)\n",
    "\n",
    "# # Fit the model\n",
    "# model = sm.OLS(y, X).fit()\n",
    "\n",
    "# # Print the model summary\n",
    "# print(model.summary())"
   ]
  },
  {
   "cell_type": "code",
   "execution_count": 103,
   "id": "d1d27ff6",
   "metadata": {},
   "outputs": [
    {
     "data": {
      "image/png": "[encoded data removed]",
      "text/plain": [
       "<Figure size 640x480 with 1 Axes>"
      ]
     },
     "metadata": {},
     "output_type": "display_data"
    }
   ],
   "source": [
    "# option 2\n",
    "\n",
    "# i pick weight, then try others\n",
    "\n",
    "X = dfcars['wt']  # Predictor variables\n",
    "y = dfcars['mpg']  # Dependent variable\n",
    "\n",
    "plt.scatter(X,y)\n",
    "plt.show()"
   ]
  },
  {
   "cell_type": "code",
   "execution_count": 104,
   "id": "a0b12b09",
   "metadata": {},
   "outputs": [
    {
     "data": {
      "text/plain": [
       "array([[ 1.        , -0.86765938],\n",
       "       [-0.86765938,  1.        ]])"
      ]
     },
     "execution_count": 104,
     "metadata": {},
     "output_type": "execute_result"
    }
   ],
   "source": [
    "np.corrcoef(X, y)"
   ]
  },
  {
   "cell_type": "code",
   "execution_count": 109,
   "id": "1d562f61",
   "metadata": {},
   "outputs": [
    {
     "data": {
      "image/png": "[encoded data removed]",
      "text/plain": [
       "<Figure size 640x480 with 1 Axes>"
      ]
     },
     "metadata": {},
     "output_type": "display_data"
    }
   ],
   "source": [
    "X = dfcars['hp']  # Predictor variables 'cyl', 'disp', 'hp', 'drat', 'wt', 'qsec', 'vs', 'am', 'gear', 'carb']\n",
    "y = dfcars['mpg']  # Dependent variable\n",
    "\n",
    "plt.scatter(X,y)\n",
    "plt.show()"
   ]
  },
  {
   "cell_type": "code",
   "execution_count": 110,
   "id": "0491df91",
   "metadata": {},
   "outputs": [
    {
     "data": {
      "text/plain": [
       "array([[ 1.        , -0.77616837],\n",
       "       [-0.77616837,  1.        ]])"
      ]
     },
     "execution_count": 110,
     "metadata": {},
     "output_type": "execute_result"
    }
   ],
   "source": [
    "np.corrcoef(X, y)"
   ]
  },
  {
   "cell_type": "markdown",
   "id": "0b81a000",
   "metadata": {},
   "source": [
    "i pick weight bc of highest correlation coefficient among all variables"
   ]
  },
  {
   "cell_type": "markdown",
   "id": "a3aabda4",
   "metadata": {},
   "source": [
    "> **EXERCISE:** With sklearn fit the training data using simple linear regression. \n",
    "\n",
    "> Plot the data and the prediction.  \n",
    "\n",
    ">Print out the mean squared error for the set"
   ]
  },
  {
   "cell_type": "code",
   "execution_count": 37,
   "id": "0c286fca",
   "metadata": {},
   "outputs": [],
   "source": [
    "#your code here\n",
    "#define  predictor and response for set\n",
    "\n",
    "\n"
   ]
  },
  {
   "cell_type": "code",
   "execution_count": 38,
   "id": "1ca91170",
   "metadata": {},
   "outputs": [],
   "source": [
    "#your code here\n",
    "# create linear regression object with sklearn\n",
    "\n",
    "\n",
    "#your code here\n",
    "# train the model and make predictions\n",
    "\n",
    "\n",
    "#your code here\n",
    "#print out coefficients\n",
    "\n"
   ]
  },
  {
   "cell_type": "code",
   "execution_count": 39,
   "id": "167d6c5e",
   "metadata": {},
   "outputs": [],
   "source": [
    "# your code here\n",
    "# Plot outputs\n"
   ]
  },
  {
   "cell_type": "markdown",
   "id": "e71e97bc",
   "metadata": {},
   "source": [
    "# Diabetes Dataset - Multiple linear regression "
   ]
  },
  {
   "cell_type": "markdown",
   "id": "8ce3698c",
   "metadata": {},
   "source": [
    "Now we are going to fit the training data (from the diabetes dataset built into sklearn) using multiple linear regression with multiple predictors. "
   ]
  },
  {
   "cell_type": "code",
   "execution_count": null,
   "id": "9481bb29",
   "metadata": {},
   "outputs": [],
   "source": [
    "from sklearn import datasets\n",
    "diabetes = datasets.load_diabetes()\n",
    "print(diabetes.DESCR)"
   ]
  },
  {
   "cell_type": "code",
   "execution_count": null,
   "id": "f5e64e59",
   "metadata": {},
   "outputs": [],
   "source": [
    "data = pd.DataFrame(diabetes.data, columns=diabetes.feature_names)\n",
    "data.boxplot(rot=90)\n",
    "data.head()"
   ]
  },
  {
   "cell_type": "markdown",
   "id": "e91c555c",
   "metadata": {},
   "source": [
    "Above I put the data into a pandas dataframe and then tried to visualise it. You will notice all of the data is in a similar range\n",
    "\n",
    "### Normalised data\n",
    "They all have a mean of 0 and standard deviation of 1. This is called Normalising the data and is a common step that I'll get into later on.\n",
    "\n",
    "The obvious one you'll notice is the sex variable. This has two options which are 0.050680 or -0.044642, when usually with 2 options we would go with 0 and 1. The numbers were changed due to this normalisation\n",
    "\n",
    "\n",
    "\n",
    "but I definitely know age doesn't go from minus .1 to plus .1.\n",
    "15 minutes 26 seconds\n",
    "And I'm guess that as well, well sex as well doesn't go from this value to that value.\n",
    "15 minutes 31 seconds\n",
    "So what is going on, and you can see it here, there's some, there seems to be discrete values, point O 5 or negative point O 4.\n",
    "15 minutes 39 seconds\n",
    "So what happens is that in order to make all the data correspond to the same sort of ranges, often what people do is a very first step with a data set is they do something called normalising the data set.\n",
    "15 minutes 51 seconds\n",
    "And normalising the data set is scaling all the values so that they're all within similar margins.\n",
    "15 minutes 58 seconds\n",
    "I'll talk more about why they do this, but it's basically to ensure that one variable doesn't have a really large influence.\n",
    "16 minutes 4 seconds\n",
    "That if all the values here were in the range of .2 to -.2, we had a value that was between 0 and 100.\n",
    "16 minutes 10 seconds\n",
    "Like that's, you know, multiple orders of magnitude bigger than all the others.\n",
    "16 minutes 15 seconds\n",
    "And it's going to have a really skewed effect.\n",
    "16 minutes 16 seconds\n",
    "So it's best to keep all your samples, what we're talking about, again, within certain ranges in order that one of these features.\n",
    "16 minutes 23 seconds\n",
    "Imagine you had a really, really tiny feature that was like milli or like micro 10 to the -6 here, even though it might contain really significant information, because it's so, so tiny, the numbers would be so, so tiny.\n",
    "16 minutes 36 seconds\n",
    "The numbers would be lost in the algorithm.\n",
    "16 minutes 38 seconds\n",
    "The algorithm wouldn't just detect those tiny numbers.\n",
    "16 minutes 40 seconds\n",
    "So again, it's good to have everything normalised.\n",
    "16 minutes 44 seconds\n",
    "Put everything in the data's frame, visualise it.\n",
    "16 minutes 46 seconds\n",
    "It's all in a similar range.\n",
    "16 minutes 49 seconds\n",
    "Or I just talked about the normalised.\n",
    "16 minutes 50 seconds\n",
    "All of them mean a zero and a standard deviation of one, a very common step.\n",
    "16 minutes 55 seconds\n",
    "We'll talk about again the E.\n",
    "16 minutes 56 seconds\n",
    "The best example there is what age or sex, which has got two options when either you go with plus 1 -, 1 or 011 or whatever.\n",
    "17 minutes 4 seconds\n",
    "So all of these numbers were changed.\n",
    "17 minutes 6 seconds\n",
    "You know, these aren't the real numbers of S1 or S2.\n",
    "17 minutes 9 seconds\n",
    "They're all changed because of the normalisation."
   ]
  },
  {
   "cell_type": "code",
   "execution_count": 42,
   "id": "df911626",
   "metadata": {},
   "outputs": [],
   "source": [
    "X = data \n",
    "y = diabetes.target"
   ]
  },
  {
   "cell_type": "code",
   "execution_count": 43,
   "id": "f0017b49",
   "metadata": {},
   "outputs": [],
   "source": [
    "lr = LinearRegression()"
   ]
  },
  {
   "cell_type": "code",
   "execution_count": null,
   "id": "7c18afa8",
   "metadata": {},
   "outputs": [],
   "source": [
    "lr.fit(X,y)"
   ]
  },
  {
   "cell_type": "code",
   "execution_count": null,
   "id": "d19d6f58-cc77-4e92-b0ac-7b0ee8ba761a",
   "metadata": {},
   "outputs": [],
   "source": [
    "r_squared = lr.score(X,y)\n",
    "r_squared"
   ]
  },
  {
   "cell_type": "markdown",
   "id": "4637559e-a051-4606-a5c8-ecc8eeb28afc",
   "metadata": {},
   "source": [
    "Let's do a slightly different r2"
   ]
  },
  {
   "cell_type": "code",
   "execution_count": null,
   "id": "dce17faf-aff0-4266-a459-487f0d8a4caa",
   "metadata": {},
   "outputs": [],
   "source": [
    "adjusted_r_squared = 1 - (1-r_squared)*(len(y)-1)/(len(y)-X.shape[1]-1)\n",
    "adjusted_r_squared"
   ]
  },
  {
   "cell_type": "code",
   "execution_count": null,
   "id": "e750521e",
   "metadata": {},
   "outputs": [],
   "source": [
    "lr.coef_"
   ]
  },
  {
   "cell_type": "markdown",
   "id": "384b15b5",
   "metadata": {},
   "source": [
    "And what I can do, which is interesting, is look at the actual coefficients.\n",
    "17 minutes 56 seconds\n",
    "So if I see here and I'll see them in a graphical format a bit more, some of them are quite small and some of them are quite large.\n",
    "18 minutes 3 seconds\n",
    "And what that means, the intercept isn't survivable.\n",
    "18 minutes 6 seconds\n",
    "But what that means is that see this one here, which relates to age.\n",
    "18 minutes 10 seconds\n",
    "That very first column is the age column.\n",
    "18 minutes 13 seconds\n",
    "Because of such a tiny coefficient, it's scaled by only a tiny amount.\n",
    "18 minutes 16 seconds\n",
    "It probably means that age isn't a very good predictor of the output of this measure of the progression of the disease, and some of these are better predictions.\n",
    "18 minutes 26 seconds\n",
    "So sex would be a marginally better predictor.\n",
    "18 minutes 29 seconds\n",
    "But this S1, whatever this blood work is, has got a very high influence on the output these coefficients show on.\n",
    "18 minutes 36 seconds\n",
    "Similarly, the S5S3 doesn't seem to have so much of an influence.\n",
    "18 minutes 41 seconds\n",
    "Some of the coefficients are very large.\n",
    "18 minutes 43 seconds\n",
    "Looks like age doesn't contribute as much.\n",
    "18 minutes 45 seconds\n",
    "Sometimes the large coefficients are problematic.\n",
    "18 minutes 47 seconds\n",
    "We'll talk about that again.\n",
    "18 minutes 49 seconds\n",
    "It's coming up in the next few weeks.\n",
    "18 minutes 50 seconds\n",
    "Often removing these insignificant ones makes the model smaller and can actually improve the performance of the module.\n",
    "18 minutes 58 seconds\n",
    "But we don't have, at this point in time, enough knowledge to figure it out.\n",
    "19 minutes 1 second\n",
    "It would involve stripping some of these things out of the model and using various combinations.\n",
    "19 minutes 5 seconds\n",
    "You know, maybe only these three features by itself might give you a better model.\n",
    "19 minutes 9 seconds\n",
    "So this is the kind of work you do as a machine learning in the real world as you'd be looking at which of these features together in the model really give the best predictive performance of the outbush.\n",
    "19 minutes 21 seconds\n",
    "You know, it's possible to get a better model without age.\n",
    "19 minutes 24 seconds\n",
    "S3S4 and S6 strip all that out.\n",
    "19 minutes 27 seconds\n",
    "You could actually get better performance and it's something you can have a look at yourselves.\n",
    "19 minutes 30 seconds\n",
    "With pandas, you should have enough skill to strip out different columns, strip out these columns, refeed it all back into the model, and refish the model.\n",
    "19 minutes 40 seconds\n",
    "And again, you can look at your outputs to see if you can beat this score, your R-squared score of .5 O at the moment."
   ]
  },
  {
   "cell_type": "code",
   "execution_count": null,
   "id": "dba41940",
   "metadata": {},
   "outputs": [],
   "source": [
    "lr.intercept_"
   ]
  },
  {
   "cell_type": "code",
   "execution_count": null,
   "id": "5afba4c0",
   "metadata": {},
   "outputs": [],
   "source": [
    "coef=pd.Series(lr.coef_ , index=diabetes.feature_names)\n",
    "coef.plot(kind='bar', color = list('rgbkymc'))\n",
    "plt.ylabel('Coefficient')"
   ]
  },
  {
   "cell_type": "markdown",
   "id": "0a41404d",
   "metadata": {},
   "source": [
    "Some of those coefficients are very large, and it looks like age does not contribute as much as the others\n",
    "\n",
    "The very large coefficients can often be problematic so we'll have to think about this one again later\n",
    "\n",
    "Maybe removing age will give us a better model\n",
    "\n",
    "We don't really have enough knowledge to figure it out. It's possible you would get a better model without age, s3, s4 and s6"
   ]
  }
 ],
 "metadata": {
  "kernelspec": {
   "display_name": "base_3.11",
   "language": "python",
   "name": "python3"
  },
  "language_info": {
   "codemirror_mode": {
    "name": "ipython",
    "version": 3
   },
   "file_extension": ".py",
   "mimetype": "text/x-python",
   "name": "python",
   "nbconvert_exporter": "python",
   "pygments_lexer": "ipython3",
   "version": "3.11.5"
  }
 },
 "nbformat": 4,
 "nbformat_minor": 5
}
