{
 "cells": [
  {
   "cell_type": "markdown",
   "id": "ac9164e6",
   "metadata": {},
   "source": [
    "# Linear Regression"
   ]
  },
  {
   "cell_type": "markdown",
   "id": "c17aded6",
   "metadata": {},
   "source": [
    "https://scikit-learn.org/stable/modules/generated/sklearn.linear_model.LinearRegression.html\n"
   ]
  },
  {
   "cell_type": "markdown",
   "id": "6ee092f7",
   "metadata": {},
   "source": [
    "Step 1, import the things we probably always want"
   ]
  },
  {
   "cell_type": "code",
   "execution_count": 1,
   "id": "d4c59225",
   "metadata": {},
   "outputs": [],
   "source": [
    "import numpy as np\n",
    "import matplotlib.pyplot as plt\n",
    "\n",
    "import pandas as pd"
   ]
  },
  {
   "cell_type": "markdown",
   "id": "aaa7d6b7",
   "metadata": {},
   "source": [
    "These ones are not for always, but I like this plotting style for this workbook"
   ]
  },
  {
   "cell_type": "code",
   "execution_count": 2,
   "id": "3be0b531",
   "metadata": {},
   "outputs": [],
   "source": [
    "import matplotlib\n",
    "matplotlib.style.use('ggplot')"
   ]
  },
  {
   "cell_type": "markdown",
   "id": "ef369d06",
   "metadata": {},
   "source": [
    "Before we can see if a straight line model even applies, we have to have a look at it."
   ]
  },
  {
   "cell_type": "markdown",
   "id": "aee29e31",
   "metadata": {},
   "source": [
    "Let's take this set\n",
    "\n",
    "X has values 5,7,9,11,13,15\n",
    "\n",
    "y has 11,14,20,24,29,31\n",
    "\n",
    "and we want to build a model\n",
    "$\\hat{y} = w_0 + w_1x$"
   ]
  },
  {
   "cell_type": "code",
   "execution_count": 3,
   "id": "3e321d0c",
   "metadata": {},
   "outputs": [],
   "source": [
    "X = np.array([5, 7, 9, 11, 13, 15])\n",
    "y = np.array([11, 14, 20, 24, 29, 31])"
   ]
  },
  {
   "cell_type": "markdown",
   "id": "5881e04d",
   "metadata": {},
   "source": [
    "Let's plot it to see if a linear model makes sense for this"
   ]
  },
  {
   "cell_type": "code",
   "execution_count": 4,
   "id": "d53ed028",
   "metadata": {},
   "outputs": [
    {
     "data": {
      "image/png": "[encoded data removed]",
      "text/plain": [
       "<Figure size 640x480 with 1 Axes>"
      ]
     },
     "metadata": {},
     "output_type": "display_data"
    }
   ],
   "source": [
    "plt.scatter(X,y)\n",
    "plt.show()"
   ]
  },
  {
   "cell_type": "markdown",
   "id": "9ba48643",
   "metadata": {},
   "source": [
    "not a perfect linear, but pretty linear.\n",
    "\n",
    "We can check the correlation coefficient "
   ]
  },
  {
   "cell_type": "code",
   "execution_count": 5,
   "id": "09bda59b",
   "metadata": {},
   "outputs": [
    {
     "data": {
      "text/plain": [
       "array([[1.        , 0.99322298],\n",
       "       [0.99322298, 1.        ]])"
      ]
     },
     "execution_count": 5,
     "metadata": {},
     "output_type": "execute_result"
    }
   ],
   "source": [
    "np.corrcoef(X, y)"
   ]
  },
  {
   "cell_type": "markdown",
   "id": "f57be27a",
   "metadata": {},
   "source": [
    "0.99322, very high correlation!\n",
    "\n",
    "Next thing we need to do is if we want to use linear regression where we have Y are outputs and X are inputs, we need to ensure that X is A2 dimensional vector."
   ]
  },
  {
   "cell_type": "markdown",
   "id": "43c937eb",
   "metadata": {},
   "source": [
    "## Data Structure: let's look at X and y in more detail\n",
    "\n",
    "![array](array.png)\n",
    "![array](img/array.png)"
   ]
  },
  {
   "cell_type": "code",
   "execution_count": 6,
   "id": "9262064c",
   "metadata": {},
   "outputs": [],
   "source": [
    "# eg\n",
    "gest=np.array([[ [1,2,3],  ]])"
   ]
  },
  {
   "cell_type": "code",
   "execution_count": 7,
   "id": "56f9349f",
   "metadata": {},
   "outputs": [
    {
     "data": {
      "text/plain": [
       "(1, 1, 3)"
      ]
     },
     "execution_count": 7,
     "metadata": {},
     "output_type": "execute_result"
    }
   ],
   "source": [
    "# eg\n",
    "gest.shape"
   ]
  },
  {
   "cell_type": "code",
   "execution_count": 8,
   "id": "964d8659",
   "metadata": {},
   "outputs": [
    {
     "data": {
      "text/plain": [
       "array([11, 14, 20, 24, 29, 31])"
      ]
     },
     "execution_count": 8,
     "metadata": {},
     "output_type": "execute_result"
    }
   ],
   "source": [
    "y"
   ]
  },
  {
   "cell_type": "code",
   "execution_count": 9,
   "id": "9b272cb0",
   "metadata": {},
   "outputs": [
    {
     "data": {
      "text/html": [
       "<div>\n",
       "<style scoped>\n",
       "    .dataframe tbody tr th:only-of-type {\n",
       "        vertical-align: middle;\n",
       "    }\n",
       "\n",
       "    .dataframe tbody tr th {\n",
       "        vertical-align: top;\n",
       "    }\n",
       "\n",
       "    .dataframe thead th {\n",
       "        text-align: right;\n",
       "    }\n",
       "</style>\n",
       "<table border=\"1\" class=\"dataframe\">\n",
       "  <thead>\n",
       "    <tr style=\"text-align: right;\">\n",
       "      <th></th>\n",
       "      <th>0</th>\n",
       "    </tr>\n",
       "  </thead>\n",
       "  <tbody>\n",
       "    <tr>\n",
       "      <th>0</th>\n",
       "      <td>11</td>\n",
       "    </tr>\n",
       "    <tr>\n",
       "      <th>1</th>\n",
       "      <td>14</td>\n",
       "    </tr>\n",
       "    <tr>\n",
       "      <th>2</th>\n",
       "      <td>20</td>\n",
       "    </tr>\n",
       "    <tr>\n",
       "      <th>3</th>\n",
       "      <td>24</td>\n",
       "    </tr>\n",
       "    <tr>\n",
       "      <th>4</th>\n",
       "      <td>29</td>\n",
       "    </tr>\n",
       "    <tr>\n",
       "      <th>5</th>\n",
       "      <td>31</td>\n",
       "    </tr>\n",
       "  </tbody>\n",
       "</table>\n",
       "</div>"
      ],
      "text/plain": [
       "    0\n",
       "0  11\n",
       "1  14\n",
       "2  20\n",
       "3  24\n",
       "4  29\n",
       "5  31"
      ]
     },
     "execution_count": 9,
     "metadata": {},
     "output_type": "execute_result"
    }
   ],
   "source": [
    "pd.DataFrame(y)"
   ]
  },
  {
   "cell_type": "code",
   "execution_count": 10,
   "id": "6872f561",
   "metadata": {},
   "outputs": [
    {
     "data": {
      "text/plain": [
       "(6,)"
      ]
     },
     "execution_count": 10,
     "metadata": {},
     "output_type": "execute_result"
    }
   ],
   "source": [
    "y.shape"
   ]
  },
  {
   "cell_type": "code",
   "execution_count": 11,
   "id": "401effbd",
   "metadata": {},
   "outputs": [
    {
     "data": {
      "text/plain": [
       "array([11, 14, 20, 24, 29, 31])"
      ]
     },
     "execution_count": 11,
     "metadata": {},
     "output_type": "execute_result"
    }
   ],
   "source": [
    "y"
   ]
  },
  {
   "cell_type": "code",
   "execution_count": 12,
   "id": "5b834798",
   "metadata": {},
   "outputs": [
    {
     "data": {
      "text/plain": [
       "1"
      ]
     },
     "execution_count": 12,
     "metadata": {},
     "output_type": "execute_result"
    }
   ],
   "source": [
    "y.ndim"
   ]
  },
  {
   "cell_type": "markdown",
   "id": "387225d1",
   "metadata": {},
   "source": [
    "y is clearly a 1d array, as expected - good"
   ]
  },
  {
   "cell_type": "code",
   "execution_count": 13,
   "id": "70f7e3d1",
   "metadata": {},
   "outputs": [
    {
     "data": {
      "text/plain": [
       "(6,)"
      ]
     },
     "execution_count": 13,
     "metadata": {},
     "output_type": "execute_result"
    }
   ],
   "source": [
    "X.shape"
   ]
  },
  {
   "cell_type": "code",
   "execution_count": 14,
   "id": "31e618e0",
   "metadata": {},
   "outputs": [
    {
     "data": {
      "text/plain": [
       "1"
      ]
     },
     "execution_count": 14,
     "metadata": {},
     "output_type": "execute_result"
    }
   ],
   "source": [
    "X.ndim"
   ]
  },
  {
   "cell_type": "markdown",
   "id": "1215ddf9",
   "metadata": {},
   "source": [
    "X is also a 1d array, not good. It needs to be a 2d array"
   ]
  },
  {
   "cell_type": "code",
   "execution_count": 15,
   "id": "a32b07cd",
   "metadata": {},
   "outputs": [
    {
     "data": {
      "text/plain": [
       "array([ 5,  7,  9, 11, 13, 15])"
      ]
     },
     "execution_count": 15,
     "metadata": {},
     "output_type": "execute_result"
    }
   ],
   "source": [
    "X"
   ]
  },
  {
   "cell_type": "markdown",
   "id": "6a04a209",
   "metadata": {},
   "source": [
    "It's written as one row, but really we need 6 rows with one entry in each row. Let's reshape the array"
   ]
  },
  {
   "cell_type": "code",
   "execution_count": 16,
   "id": "22a68dc0",
   "metadata": {},
   "outputs": [],
   "source": [
    "X = X.reshape(-1,1)"
   ]
  },
  {
   "cell_type": "code",
   "execution_count": 17,
   "id": "7c8f25a3",
   "metadata": {},
   "outputs": [
    {
     "data": {
      "text/plain": [
       "(6, 1)"
      ]
     },
     "execution_count": 17,
     "metadata": {},
     "output_type": "execute_result"
    }
   ],
   "source": [
    "X.shape"
   ]
  },
  {
   "cell_type": "markdown",
   "id": "5a469e5e",
   "metadata": {},
   "source": [
    "becomes 2d"
   ]
  },
  {
   "cell_type": "code",
   "execution_count": 18,
   "id": "c43f7ba0",
   "metadata": {},
   "outputs": [
    {
     "data": {
      "text/plain": [
       "2"
      ]
     },
     "execution_count": 18,
     "metadata": {},
     "output_type": "execute_result"
    }
   ],
   "source": [
    "X.ndim"
   ]
  },
  {
   "cell_type": "markdown",
   "id": "6923c9ad",
   "metadata": {},
   "source": [
    "2d array. Good. Let's look at it"
   ]
  },
  {
   "cell_type": "code",
   "execution_count": 19,
   "id": "1fcbe6ea",
   "metadata": {},
   "outputs": [
    {
     "data": {
      "text/plain": [
       "array([[ 5],\n",
       "       [ 7],\n",
       "       [ 9],\n",
       "       [11],\n",
       "       [13],\n",
       "       [15]])"
      ]
     },
     "execution_count": 19,
     "metadata": {},
     "output_type": "execute_result"
    }
   ],
   "source": [
    "X"
   ]
  },
  {
   "cell_type": "markdown",
   "id": "d8bad5f5",
   "metadata": {},
   "source": [
    "6 rows now"
   ]
  },
  {
   "cell_type": "markdown",
   "id": "a7925a63",
   "metadata": {},
   "source": [
    "## Section 3, build the model"
   ]
  },
  {
   "cell_type": "code",
   "execution_count": 20,
   "id": "2d1c5cd6",
   "metadata": {},
   "outputs": [],
   "source": [
    "from sklearn.linear_model import LinearRegression"
   ]
  },
  {
   "cell_type": "code",
   "execution_count": 21,
   "id": "279f6b0c",
   "metadata": {},
   "outputs": [
    {
     "name": "stdout",
     "output_type": "stream",
     "text": [
      "\u001b[1;31mInit signature:\u001b[0m\n",
      "\u001b[0mLinearRegression\u001b[0m\u001b[1;33m(\u001b[0m\u001b[1;33m\n",
      "\u001b[0m    \u001b[1;33m*\u001b[0m\u001b[1;33m,\u001b[0m\u001b[1;33m\n",
      "\u001b[0m    \u001b[0mfit_intercept\u001b[0m\u001b[1;33m=\u001b[0m\u001b[1;32mTrue\u001b[0m\u001b[1;33m,\u001b[0m\u001b[1;33m\n",
      "\u001b[0m    \u001b[0mcopy_X\u001b[0m\u001b[1;33m=\u001b[0m\u001b[1;32mTrue\u001b[0m\u001b[1;33m,\u001b[0m\u001b[1;33m\n",
      "\u001b[0m    \u001b[0mn_jobs\u001b[0m\u001b[1;33m=\u001b[0m\u001b[1;32mNone\u001b[0m\u001b[1;33m,\u001b[0m\u001b[1;33m\n",
      "\u001b[0m    \u001b[0mpositive\u001b[0m\u001b[1;33m=\u001b[0m\u001b[1;32mFalse\u001b[0m\u001b[1;33m,\u001b[0m\u001b[1;33m\n",
      "\u001b[0m\u001b[1;33m)\u001b[0m\u001b[1;33m\u001b[0m\u001b[1;33m\u001b[0m\u001b[0m\n",
      "\u001b[1;31mDocstring:\u001b[0m     \n",
      "Ordinary least squares Linear Regression.\n",
      "\n",
      "LinearRegression fits a linear model with coefficients w = (w1, ..., wp)\n",
      "to minimize the residual sum of squares between the observed targets in\n",
      "the dataset, and the targets predicted by the linear approximation.\n",
      "\n",
      "Parameters\n",
      "----------\n",
      "fit_intercept : bool, default=True\n",
      "    Whether to calculate the intercept for this model. If set\n",
      "    to False, no intercept will be used in calculations\n",
      "    (i.e. data is expected to be centered).\n",
      "\n",
      "copy_X : bool, default=True\n",
      "    If True, X will be copied; else, it may be overwritten.\n",
      "\n",
      "n_jobs : int, default=None\n",
      "    The number of jobs to use for the computation. This will only provide\n",
      "    speedup in case of sufficiently large problems, that is if firstly\n",
      "    `n_targets > 1` and secondly `X` is sparse or if `positive` is set\n",
      "    to `True`. ``None`` means 1 unless in a\n",
      "    :obj:`joblib.parallel_backend` context. ``-1`` means using all\n",
      "    processors. See :term:`Glossary <n_jobs>` for more details.\n",
      "\n",
      "positive : bool, default=False\n",
      "    When set to ``True``, forces the coefficients to be positive. This\n",
      "    option is only supported for dense arrays.\n",
      "\n",
      "    .. versionadded:: 0.24\n",
      "\n",
      "Attributes\n",
      "----------\n",
      "coef_ : array of shape (n_features, ) or (n_targets, n_features)\n",
      "    Estimated coefficients for the linear regression problem.\n",
      "    If multiple targets are passed during the fit (y 2D), this\n",
      "    is a 2D array of shape (n_targets, n_features), while if only\n",
      "    one target is passed, this is a 1D array of length n_features.\n",
      "\n",
      "rank_ : int\n",
      "    Rank of matrix `X`. Only available when `X` is dense.\n",
      "\n",
      "singular_ : array of shape (min(X, y),)\n",
      "    Singular values of `X`. Only available when `X` is dense.\n",
      "\n",
      "intercept_ : float or array of shape (n_targets,)\n",
      "    Independent term in the linear model. Set to 0.0 if\n",
      "    `fit_intercept = False`.\n",
      "\n",
      "n_features_in_ : int\n",
      "    Number of features seen during :term:`fit`.\n",
      "\n",
      "    .. versionadded:: 0.24\n",
      "\n",
      "feature_names_in_ : ndarray of shape (`n_features_in_`,)\n",
      "    Names of features seen during :term:`fit`. Defined only when `X`\n",
      "    has feature names that are all strings.\n",
      "\n",
      "    .. versionadded:: 1.0\n",
      "\n",
      "See Also\n",
      "--------\n",
      "Ridge : Ridge regression addresses some of the\n",
      "    problems of Ordinary Least Squares by imposing a penalty on the\n",
      "    size of the coefficients with l2 regularization.\n",
      "Lasso : The Lasso is a linear model that estimates\n",
      "    sparse coefficients with l1 regularization.\n",
      "ElasticNet : Elastic-Net is a linear regression\n",
      "    model trained with both l1 and l2 -norm regularization of the\n",
      "    coefficients.\n",
      "\n",
      "Notes\n",
      "-----\n",
      "From the implementation point of view, this is just plain Ordinary\n",
      "Least Squares (scipy.linalg.lstsq) or Non Negative Least Squares\n",
      "(scipy.optimize.nnls) wrapped as a predictor object.\n",
      "\n",
      "Examples\n",
      "--------\n",
      ">>> import numpy as np\n",
      ">>> from sklearn.linear_model import LinearRegression\n",
      ">>> X = np.array([[1, 1], [1, 2], [2, 2], [2, 3]])\n",
      ">>> # y = 1 * x_0 + 2 * x_1 + 3\n",
      ">>> y = np.dot(X, np.array([1, 2])) + 3\n",
      ">>> reg = LinearRegression().fit(X, y)\n",
      ">>> reg.score(X, y)\n",
      "1.0\n",
      ">>> reg.coef_\n",
      "array([1., 2.])\n",
      ">>> reg.intercept_\n",
      "3.0...\n",
      ">>> reg.predict(np.array([[3, 5]]))\n",
      "array([16.])\n",
      "\u001b[1;31mFile:\u001b[0m           c:\\users\\radzi\\anaconda3\\lib\\site-packages\\sklearn\\linear_model\\_base.py\n",
      "\u001b[1;31mType:\u001b[0m           ABCMeta\n",
      "\u001b[1;31mSubclasses:\u001b[0m     "
     ]
    }
   ],
   "source": [
    "LinearRegression?"
   ]
  },
  {
   "cell_type": "markdown",
   "id": "31a58de4",
   "metadata": {},
   "source": [
    "Create the model, with sklearn you initialise the model with an \"empty constructor\" of the base form of the model. LinearRegression is the constructor"
   ]
  },
  {
   "cell_type": "code",
   "execution_count": 22,
   "id": "fde104c3",
   "metadata": {},
   "outputs": [],
   "source": [
    "model = LinearRegression()"
   ]
  },
  {
   "cell_type": "markdown",
   "id": "513f85e3",
   "metadata": {},
   "source": [
    "Now \"fit\" the model using X and y. Use an appropriate ? after method name to see. .fit expects the X part to be a matrix, but we have a 1 dimensional array. Pay attention to the error message when you just do x,y\n",
    "\n",
    "X is 2d vector, y is 1d vector"
   ]
  },
  {
   "cell_type": "code",
   "execution_count": 23,
   "id": "b39524b2",
   "metadata": {},
   "outputs": [
    {
     "data": {
      "text/html": [
       "<style>#sk-container-id-1 {\n",
       "  /* Definition of color scheme common for light and dark mode */\n",
       "  --sklearn-color-text: black;\n",
       "  --sklearn-color-line: gray;\n",
       "  /* Definition of color scheme for unfitted estimators */\n",
       "  --sklearn-color-unfitted-level-0: #fff5e6;\n",
       "  --sklearn-color-unfitted-level-1: #f6e4d2;\n",
       "  --sklearn-color-unfitted-level-2: #ffe0b3;\n",
       "  --sklearn-color-unfitted-level-3: chocolate;\n",
       "  /* Definition of color scheme for fitted estimators */\n",
       "  --sklearn-color-fitted-level-0: #f0f8ff;\n",
       "  --sklearn-color-fitted-level-1: #d4ebff;\n",
       "  --sklearn-color-fitted-level-2: #b3dbfd;\n",
       "  --sklearn-color-fitted-level-3: cornflowerblue;\n",
       "\n",
       "  /* Specific color for light theme */\n",
       "  --sklearn-color-text-on-default-background: var(--sg-text-color, var(--theme-code-foreground, var(--jp-content-font-color1, black)));\n",
       "  --sklearn-color-background: var(--sg-background-color, var(--theme-background, var(--jp-layout-color0, white)));\n",
       "  --sklearn-color-border-box: var(--sg-text-color, var(--theme-code-foreground, var(--jp-content-font-color1, black)));\n",
       "  --sklearn-color-icon: #696969;\n",
       "\n",
       "  @media (prefers-color-scheme: dark) {\n",
       "    /* Redefinition of color scheme for dark theme */\n",
       "    --sklearn-color-text-on-default-background: var(--sg-text-color, var(--theme-code-foreground, var(--jp-content-font-color1, white)));\n",
       "    --sklearn-color-background: var(--sg-background-color, var(--theme-background, var(--jp-layout-color0, #111)));\n",
       "    --sklearn-color-border-box: var(--sg-text-color, var(--theme-code-foreground, var(--jp-content-font-color1, white)));\n",
       "    --sklearn-color-icon: #878787;\n",
       "  }\n",
       "}\n",
       "\n",
       "#sk-container-id-1 {\n",
       "  color: var(--sklearn-color-text);\n",
       "}\n",
       "\n",
       "#sk-container-id-1 pre {\n",
       "  padding: 0;\n",
       "}\n",
       "\n",
       "#sk-container-id-1 input.sk-hidden--visually {\n",
       "  border: 0;\n",
       "  clip: rect(1px 1px 1px 1px);\n",
       "  clip: rect(1px, 1px, 1px, 1px);\n",
       "  height: 1px;\n",
       "  margin: -1px;\n",
       "  overflow: hidden;\n",
       "  padding: 0;\n",
       "  position: absolute;\n",
       "  width: 1px;\n",
       "}\n",
       "\n",
       "#sk-container-id-1 div.sk-dashed-wrapped {\n",
       "  border: 1px dashed var(--sklearn-color-line);\n",
       "  margin: 0 0.4em 0.5em 0.4em;\n",
       "  box-sizing: border-box;\n",
       "  padding-bottom: 0.4em;\n",
       "  background-color: var(--sklearn-color-background);\n",
       "}\n",
       "\n",
       "#sk-container-id-1 div.sk-container {\n",
       "  /* jupyter's `normalize.less` sets `[hidden] { display: none; }`\n",
       "     but bootstrap.min.css set `[hidden] { display: none !important; }`\n",
       "     so we also need the `!important` here to be able to override the\n",
       "     default hidden behavior on the sphinx rendered scikit-learn.org.\n",
       "     See: https://github.com/scikit-learn/scikit-learn/issues/21755 */\n",
       "  display: inline-block !important;\n",
       "  position: relative;\n",
       "}\n",
       "\n",
       "#sk-container-id-1 div.sk-text-repr-fallback {\n",
       "  display: none;\n",
       "}\n",
       "\n",
       "div.sk-parallel-item,\n",
       "div.sk-serial,\n",
       "div.sk-item {\n",
       "  /* draw centered vertical line to link estimators */\n",
       "  background-image: linear-gradient(var(--sklearn-color-text-on-default-background), var(--sklearn-color-text-on-default-background));\n",
       "  background-size: 2px 100%;\n",
       "  background-repeat: no-repeat;\n",
       "  background-position: center center;\n",
       "}\n",
       "\n",
       "/* Parallel-specific style estimator block */\n",
       "\n",
       "#sk-container-id-1 div.sk-parallel-item::after {\n",
       "  content: \"\";\n",
       "  width: 100%;\n",
       "  border-bottom: 2px solid var(--sklearn-color-text-on-default-background);\n",
       "  flex-grow: 1;\n",
       "}\n",
       "\n",
       "#sk-container-id-1 div.sk-parallel {\n",
       "  display: flex;\n",
       "  align-items: stretch;\n",
       "  justify-content: center;\n",
       "  background-color: var(--sklearn-color-background);\n",
       "  position: relative;\n",
       "}\n",
       "\n",
       "#sk-container-id-1 div.sk-parallel-item {\n",
       "  display: flex;\n",
       "  flex-direction: column;\n",
       "}\n",
       "\n",
       "#sk-container-id-1 div.sk-parallel-item:first-child::after {\n",
       "  align-self: flex-end;\n",
       "  width: 50%;\n",
       "}\n",
       "\n",
       "#sk-container-id-1 div.sk-parallel-item:last-child::after {\n",
       "  align-self: flex-start;\n",
       "  width: 50%;\n",
       "}\n",
       "\n",
       "#sk-container-id-1 div.sk-parallel-item:only-child::after {\n",
       "  width: 0;\n",
       "}\n",
       "\n",
       "/* Serial-specific style estimator block */\n",
       "\n",
       "#sk-container-id-1 div.sk-serial {\n",
       "  display: flex;\n",
       "  flex-direction: column;\n",
       "  align-items: center;\n",
       "  background-color: var(--sklearn-color-background);\n",
       "  padding-right: 1em;\n",
       "  padding-left: 1em;\n",
       "}\n",
       "\n",
       "\n",
       "/* Toggleable style: style used for estimator/Pipeline/ColumnTransformer box that is\n",
       "clickable and can be expanded/collapsed.\n",
       "- Pipeline and ColumnTransformer use this feature and define the default style\n",
       "- Estimators will overwrite some part of the style using the `sk-estimator` class\n",
       "*/\n",
       "\n",
       "/* Pipeline and ColumnTransformer style (default) */\n",
       "\n",
       "#sk-container-id-1 div.sk-toggleable {\n",
       "  /* Default theme specific background. It is overwritten whether we have a\n",
       "  specific estimator or a Pipeline/ColumnTransformer */\n",
       "  background-color: var(--sklearn-color-background);\n",
       "}\n",
       "\n",
       "/* Toggleable label */\n",
       "#sk-container-id-1 label.sk-toggleable__label {\n",
       "  cursor: pointer;\n",
       "  display: block;\n",
       "  width: 100%;\n",
       "  margin-bottom: 0;\n",
       "  padding: 0.5em;\n",
       "  box-sizing: border-box;\n",
       "  text-align: center;\n",
       "}\n",
       "\n",
       "#sk-container-id-1 label.sk-toggleable__label-arrow:before {\n",
       "  /* Arrow on the left of the label */\n",
       "  content: \"▸\";\n",
       "  float: left;\n",
       "  margin-right: 0.25em;\n",
       "  color: var(--sklearn-color-icon);\n",
       "}\n",
       "\n",
       "#sk-container-id-1 label.sk-toggleable__label-arrow:hover:before {\n",
       "  color: var(--sklearn-color-text);\n",
       "}\n",
       "\n",
       "/* Toggleable content - dropdown */\n",
       "\n",
       "#sk-container-id-1 div.sk-toggleable__content {\n",
       "  max-height: 0;\n",
       "  max-width: 0;\n",
       "  overflow: hidden;\n",
       "  text-align: left;\n",
       "  /* unfitted */\n",
       "  background-color: var(--sklearn-color-unfitted-level-0);\n",
       "}\n",
       "\n",
       "#sk-container-id-1 div.sk-toggleable__content.fitted {\n",
       "  /* fitted */\n",
       "  background-color: var(--sklearn-color-fitted-level-0);\n",
       "}\n",
       "\n",
       "#sk-container-id-1 div.sk-toggleable__content pre {\n",
       "  margin: 0.2em;\n",
       "  border-radius: 0.25em;\n",
       "  color: var(--sklearn-color-text);\n",
       "  /* unfitted */\n",
       "  background-color: var(--sklearn-color-unfitted-level-0);\n",
       "}\n",
       "\n",
       "#sk-container-id-1 div.sk-toggleable__content.fitted pre {\n",
       "  /* unfitted */\n",
       "  background-color: var(--sklearn-color-fitted-level-0);\n",
       "}\n",
       "\n",
       "#sk-container-id-1 input.sk-toggleable__control:checked~div.sk-toggleable__content {\n",
       "  /* Expand drop-down */\n",
       "  max-height: 200px;\n",
       "  max-width: 100%;\n",
       "  overflow: auto;\n",
       "}\n",
       "\n",
       "#sk-container-id-1 input.sk-toggleable__control:checked~label.sk-toggleable__label-arrow:before {\n",
       "  content: \"▾\";\n",
       "}\n",
       "\n",
       "/* Pipeline/ColumnTransformer-specific style */\n",
       "\n",
       "#sk-container-id-1 div.sk-label input.sk-toggleable__control:checked~label.sk-toggleable__label {\n",
       "  color: var(--sklearn-color-text);\n",
       "  background-color: var(--sklearn-color-unfitted-level-2);\n",
       "}\n",
       "\n",
       "#sk-container-id-1 div.sk-label.fitted input.sk-toggleable__control:checked~label.sk-toggleable__label {\n",
       "  background-color: var(--sklearn-color-fitted-level-2);\n",
       "}\n",
       "\n",
       "/* Estimator-specific style */\n",
       "\n",
       "/* Colorize estimator box */\n",
       "#sk-container-id-1 div.sk-estimator input.sk-toggleable__control:checked~label.sk-toggleable__label {\n",
       "  /* unfitted */\n",
       "  background-color: var(--sklearn-color-unfitted-level-2);\n",
       "}\n",
       "\n",
       "#sk-container-id-1 div.sk-estimator.fitted input.sk-toggleable__control:checked~label.sk-toggleable__label {\n",
       "  /* fitted */\n",
       "  background-color: var(--sklearn-color-fitted-level-2);\n",
       "}\n",
       "\n",
       "#sk-container-id-1 div.sk-label label.sk-toggleable__label,\n",
       "#sk-container-id-1 div.sk-label label {\n",
       "  /* The background is the default theme color */\n",
       "  color: var(--sklearn-color-text-on-default-background);\n",
       "}\n",
       "\n",
       "/* On hover, darken the color of the background */\n",
       "#sk-container-id-1 div.sk-label:hover label.sk-toggleable__label {\n",
       "  color: var(--sklearn-color-text);\n",
       "  background-color: var(--sklearn-color-unfitted-level-2);\n",
       "}\n",
       "\n",
       "/* Label box, darken color on hover, fitted */\n",
       "#sk-container-id-1 div.sk-label.fitted:hover label.sk-toggleable__label.fitted {\n",
       "  color: var(--sklearn-color-text);\n",
       "  background-color: var(--sklearn-color-fitted-level-2);\n",
       "}\n",
       "\n",
       "/* Estimator label */\n",
       "\n",
       "#sk-container-id-1 div.sk-label label {\n",
       "  font-family: monospace;\n",
       "  font-weight: bold;\n",
       "  display: inline-block;\n",
       "  line-height: 1.2em;\n",
       "}\n",
       "\n",
       "#sk-container-id-1 div.sk-label-container {\n",
       "  text-align: center;\n",
       "}\n",
       "\n",
       "/* Estimator-specific */\n",
       "#sk-container-id-1 div.sk-estimator {\n",
       "  font-family: monospace;\n",
       "  border: 1px dotted var(--sklearn-color-border-box);\n",
       "  border-radius: 0.25em;\n",
       "  box-sizing: border-box;\n",
       "  margin-bottom: 0.5em;\n",
       "  /* unfitted */\n",
       "  background-color: var(--sklearn-color-unfitted-level-0);\n",
       "}\n",
       "\n",
       "#sk-container-id-1 div.sk-estimator.fitted {\n",
       "  /* fitted */\n",
       "  background-color: var(--sklearn-color-fitted-level-0);\n",
       "}\n",
       "\n",
       "/* on hover */\n",
       "#sk-container-id-1 div.sk-estimator:hover {\n",
       "  /* unfitted */\n",
       "  background-color: var(--sklearn-color-unfitted-level-2);\n",
       "}\n",
       "\n",
       "#sk-container-id-1 div.sk-estimator.fitted:hover {\n",
       "  /* fitted */\n",
       "  background-color: var(--sklearn-color-fitted-level-2);\n",
       "}\n",
       "\n",
       "/* Specification for estimator info (e.g. \"i\" and \"?\") */\n",
       "\n",
       "/* Common style for \"i\" and \"?\" */\n",
       "\n",
       ".sk-estimator-doc-link,\n",
       "a:link.sk-estimator-doc-link,\n",
       "a:visited.sk-estimator-doc-link {\n",
       "  float: right;\n",
       "  font-size: smaller;\n",
       "  line-height: 1em;\n",
       "  font-family: monospace;\n",
       "  background-color: var(--sklearn-color-background);\n",
       "  border-radius: 1em;\n",
       "  height: 1em;\n",
       "  width: 1em;\n",
       "  text-decoration: none !important;\n",
       "  margin-left: 1ex;\n",
       "  /* unfitted */\n",
       "  border: var(--sklearn-color-unfitted-level-1) 1pt solid;\n",
       "  color: var(--sklearn-color-unfitted-level-1);\n",
       "}\n",
       "\n",
       ".sk-estimator-doc-link.fitted,\n",
       "a:link.sk-estimator-doc-link.fitted,\n",
       "a:visited.sk-estimator-doc-link.fitted {\n",
       "  /* fitted */\n",
       "  border: var(--sklearn-color-fitted-level-1) 1pt solid;\n",
       "  color: var(--sklearn-color-fitted-level-1);\n",
       "}\n",
       "\n",
       "/* On hover */\n",
       "div.sk-estimator:hover .sk-estimator-doc-link:hover,\n",
       ".sk-estimator-doc-link:hover,\n",
       "div.sk-label-container:hover .sk-estimator-doc-link:hover,\n",
       ".sk-estimator-doc-link:hover {\n",
       "  /* unfitted */\n",
       "  background-color: var(--sklearn-color-unfitted-level-3);\n",
       "  color: var(--sklearn-color-background);\n",
       "  text-decoration: none;\n",
       "}\n",
       "\n",
       "div.sk-estimator.fitted:hover .sk-estimator-doc-link.fitted:hover,\n",
       ".sk-estimator-doc-link.fitted:hover,\n",
       "div.sk-label-container:hover .sk-estimator-doc-link.fitted:hover,\n",
       ".sk-estimator-doc-link.fitted:hover {\n",
       "  /* fitted */\n",
       "  background-color: var(--sklearn-color-fitted-level-3);\n",
       "  color: var(--sklearn-color-background);\n",
       "  text-decoration: none;\n",
       "}\n",
       "\n",
       "/* Span, style for the box shown on hovering the info icon */\n",
       ".sk-estimator-doc-link span {\n",
       "  display: none;\n",
       "  z-index: 9999;\n",
       "  position: relative;\n",
       "  font-weight: normal;\n",
       "  right: .2ex;\n",
       "  padding: .5ex;\n",
       "  margin: .5ex;\n",
       "  width: min-content;\n",
       "  min-width: 20ex;\n",
       "  max-width: 50ex;\n",
       "  color: var(--sklearn-color-text);\n",
       "  box-shadow: 2pt 2pt 4pt #999;\n",
       "  /* unfitted */\n",
       "  background: var(--sklearn-color-unfitted-level-0);\n",
       "  border: .5pt solid var(--sklearn-color-unfitted-level-3);\n",
       "}\n",
       "\n",
       ".sk-estimator-doc-link.fitted span {\n",
       "  /* fitted */\n",
       "  background: var(--sklearn-color-fitted-level-0);\n",
       "  border: var(--sklearn-color-fitted-level-3);\n",
       "}\n",
       "\n",
       ".sk-estimator-doc-link:hover span {\n",
       "  display: block;\n",
       "}\n",
       "\n",
       "/* \"?\"-specific style due to the `<a>` HTML tag */\n",
       "\n",
       "#sk-container-id-1 a.estimator_doc_link {\n",
       "  float: right;\n",
       "  font-size: 1rem;\n",
       "  line-height: 1em;\n",
       "  font-family: monospace;\n",
       "  background-color: var(--sklearn-color-background);\n",
       "  border-radius: 1rem;\n",
       "  height: 1rem;\n",
       "  width: 1rem;\n",
       "  text-decoration: none;\n",
       "  /* unfitted */\n",
       "  color: var(--sklearn-color-unfitted-level-1);\n",
       "  border: var(--sklearn-color-unfitted-level-1) 1pt solid;\n",
       "}\n",
       "\n",
       "#sk-container-id-1 a.estimator_doc_link.fitted {\n",
       "  /* fitted */\n",
       "  border: var(--sklearn-color-fitted-level-1) 1pt solid;\n",
       "  color: var(--sklearn-color-fitted-level-1);\n",
       "}\n",
       "\n",
       "/* On hover */\n",
       "#sk-container-id-1 a.estimator_doc_link:hover {\n",
       "  /* unfitted */\n",
       "  background-color: var(--sklearn-color-unfitted-level-3);\n",
       "  color: var(--sklearn-color-background);\n",
       "  text-decoration: none;\n",
       "}\n",
       "\n",
       "#sk-container-id-1 a.estimator_doc_link.fitted:hover {\n",
       "  /* fitted */\n",
       "  background-color: var(--sklearn-color-fitted-level-3);\n",
       "}\n",
       "</style><div id=\"sk-container-id-1\" class=\"sk-top-container\"><div class=\"sk-text-repr-fallback\"><pre>LinearRegression()</pre><b>In a Jupyter environment, please rerun this cell to show the HTML representation or trust the notebook. <br />On GitHub, the HTML representation is unable to render, please try loading this page with nbviewer.org.</b></div><div class=\"sk-container\" hidden><div class=\"sk-item\"><div class=\"sk-estimator fitted sk-toggleable\"><input class=\"sk-toggleable__control sk-hidden--visually\" id=\"sk-estimator-id-1\" type=\"checkbox\" checked><label for=\"sk-estimator-id-1\" class=\"sk-toggleable__label fitted sk-toggleable__label-arrow fitted\">&nbsp;&nbsp;LinearRegression<a class=\"sk-estimator-doc-link fitted\" rel=\"noreferrer\" target=\"_blank\" href=\"https://scikit-learn.org/1.4/modules/generated/sklearn.linear_model.LinearRegression.html\">?<span>Documentation for LinearRegression</span></a><span class=\"sk-estimator-doc-link fitted\">i<span>Fitted</span></span></label><div class=\"sk-toggleable__content fitted\"><pre>LinearRegression()</pre></div> </div></div></div></div>"
      ],
      "text/plain": [
       "LinearRegression()"
      ]
     },
     "execution_count": 23,
     "metadata": {},
     "output_type": "execute_result"
    }
   ],
   "source": [
    "model.fit(X,y)"
   ]
  },
  {
   "cell_type": "markdown",
   "id": "087f75ab",
   "metadata": {},
   "source": [
    "It returns me just this linear regression model, but nothing has been done with it yet.\n",
    "7 minutes 27 seconds\n",
    "It's just a linear model.\n",
    "7 minutes 29 seconds\n",
    "We can query it in the next section and we can also kind of query, you know, what are the coefficients of the model, the W zero and the West one.\n",
    "7 minutes 37 seconds\n",
    "But we can also query what's the performance of the error on the model.\n",
    "7 minutes 43 seconds\n"
   ]
  },
  {
   "cell_type": "markdown",
   "id": "d76462a4",
   "metadata": {},
   "source": [
    "## Section 4 Inferences"
   ]
  },
  {
   "cell_type": "code",
   "execution_count": 24,
   "id": "06b6733d",
   "metadata": {},
   "outputs": [
    {
     "data": {
      "text/plain": [
       "array([2.12857143])"
      ]
     },
     "execution_count": 24,
     "metadata": {},
     "output_type": "execute_result"
    }
   ],
   "source": [
    "model.coef_"
   ]
  },
  {
   "cell_type": "code",
   "execution_count": 25,
   "id": "472117a7",
   "metadata": {},
   "outputs": [
    {
     "data": {
      "text/plain": [
       "0.2142857142857153"
      ]
     },
     "execution_count": 25,
     "metadata": {},
     "output_type": "execute_result"
    }
   ],
   "source": [
    "model.intercept_"
   ]
  },
  {
   "cell_type": "markdown",
   "id": "0b3883e9",
   "metadata": {},
   "source": [
    "There are the parameters\n",
    "\n",
    "$\\hat{y} = 0.2142857142857153 + 2.12857143 x$\n",
    "\n",
    "is the model\n",
    "\n"
   ]
  },
  {
   "cell_type": "markdown",
   "id": "82bff9f1",
   "metadata": {},
   "source": [
    "\n",
    "So what I can do is I can actually build a module model manually."
   ]
  },
  {
   "cell_type": "code",
   "execution_count": 26,
   "id": "9d395a74",
   "metadata": {},
   "outputs": [],
   "source": [
    "w0 = model.intercept_\n",
    "w1 = model.coef_[0]"
   ]
  },
  {
   "cell_type": "code",
   "execution_count": 27,
   "id": "a8f0673e",
   "metadata": {},
   "outputs": [
    {
     "data": {
      "text/plain": [
       "(2.1285714285714286, (6, 1))"
      ]
     },
     "execution_count": 27,
     "metadata": {},
     "output_type": "execute_result"
    }
   ],
   "source": [
    "w1,X.shape"
   ]
  },
  {
   "cell_type": "markdown",
   "id": "ca077b31",
   "metadata": {},
   "source": [
    "![npdot](npdot.jpg)"
   ]
  },
  {
   "cell_type": "code",
   "execution_count": 28,
   "id": "276009f2",
   "metadata": {},
   "outputs": [
    {
     "data": {
      "text/plain": [
       "array([[10.64285714],\n",
       "       [14.9       ],\n",
       "       [19.15714286],\n",
       "       [23.41428571],\n",
       "       [27.67142857],\n",
       "       [31.92857143]])"
      ]
     },
     "execution_count": 28,
     "metadata": {},
     "output_type": "execute_result"
    }
   ],
   "source": [
    "#w0 + \n",
    "np.dot(w1,X)\n",
    "#.reshape(1,-1) "
   ]
  },
  {
   "cell_type": "code",
   "execution_count": 29,
   "id": "36e96a76",
   "metadata": {},
   "outputs": [
    {
     "data": {
      "text/plain": [
       "0.2142857142857153"
      ]
     },
     "execution_count": 29,
     "metadata": {},
     "output_type": "execute_result"
    }
   ],
   "source": [
    "w0"
   ]
  },
  {
   "cell_type": "code",
   "execution_count": 30,
   "id": "725ff545",
   "metadata": {},
   "outputs": [
    {
     "data": {
      "text/plain": [
       "(1, 6)"
      ]
     },
     "execution_count": 30,
     "metadata": {},
     "output_type": "execute_result"
    }
   ],
   "source": [
    "np.dot(w1,X).reshape(1,-1).shape"
   ]
  },
  {
   "cell_type": "code",
   "execution_count": 31,
   "id": "d8617717",
   "metadata": {},
   "outputs": [
    {
     "data": {
      "text/plain": [
       "(6, 1)"
      ]
     },
     "execution_count": 31,
     "metadata": {},
     "output_type": "execute_result"
    }
   ],
   "source": [
    "np.dot(w1,X).shape"
   ]
  },
  {
   "cell_type": "code",
   "execution_count": 32,
   "id": "adb2be94",
   "metadata": {},
   "outputs": [
    {
     "data": {
      "text/plain": [
       "(1, 6)"
      ]
     },
     "execution_count": 32,
     "metadata": {},
     "output_type": "execute_result"
    }
   ],
   "source": [
    "(w0 + np.dot(w1,X).reshape(1,-1)).shape"
   ]
  },
  {
   "cell_type": "code",
   "execution_count": 33,
   "id": "f53a8c44",
   "metadata": {},
   "outputs": [
    {
     "ename": "NameError",
     "evalue": "name 'predictions' is not defined",
     "output_type": "error",
     "traceback": [
      "\u001b[1;31m---------------------------------------------------------------------------\u001b[0m",
      "\u001b[1;31mNameError\u001b[0m                                 Traceback (most recent call last)",
      "Cell \u001b[1;32mIn[33], line 1\u001b[0m\n\u001b[1;32m----> 1\u001b[0m predictions\n",
      "\u001b[1;31mNameError\u001b[0m: name 'predictions' is not defined"
     ]
    }
   ],
   "source": [
    "predictions"
   ]
  },
  {
   "cell_type": "code",
   "execution_count": 246,
   "id": "01387085",
   "metadata": {},
   "outputs": [],
   "source": [
    "predictions = w0 + np.dot(w1,X).reshape(1,-1) "
   ]
  },
  {
   "cell_type": "code",
   "execution_count": null,
   "id": "bc993e96",
   "metadata": {},
   "outputs": [],
   "source": [
    "predictions"
   ]
  },
  {
   "cell_type": "code",
   "execution_count": null,
   "id": "b00a22d9",
   "metadata": {},
   "outputs": [],
   "source": []
  },
  {
   "cell_type": "markdown",
   "id": "b75f897f",
   "metadata": {},
   "source": [
    "Using the built in .predict"
   ]
  },
  {
   "cell_type": "code",
   "execution_count": 179,
   "id": "4cae2939",
   "metadata": {},
   "outputs": [],
   "source": [
    "pred = model.predict(X)"
   ]
  },
  {
   "cell_type": "code",
   "execution_count": null,
   "id": "2806975b",
   "metadata": {},
   "outputs": [],
   "source": [
    "pred"
   ]
  },
  {
   "cell_type": "markdown",
   "id": "4122e64c",
   "metadata": {},
   "source": [
    "So my predictions and as you can see here, the predictions by building the model myself versus the predictions by using SK learns built in predict model are exactly the same.\n",
    "\n",
    "9 minutes 9 seconds\n",
    "If you look at these two, those two numbers, I can actually do it nicely here with Python where I can just query, are these predictions from the model equal to the model I built?\n",
    "9 minutes 19 seconds\n",
    "Are they the same?\n",
    "9 minutes 20 seconds\n",
    "And you can see they're all true."
   ]
  },
  {
   "cell_type": "code",
   "execution_count": null,
   "id": "a5801c56",
   "metadata": {},
   "outputs": [],
   "source": [
    "pred == predictions"
   ]
  },
  {
   "cell_type": "markdown",
   "id": "caaf497f",
   "metadata": {},
   "source": [
    "They're the same."
   ]
  },
  {
   "cell_type": "markdown",
   "id": "92da7fc2",
   "metadata": {},
   "source": [
    "The next thing then is evaluating, as I said, the error and the quality of the model."
   ]
  },
  {
   "cell_type": "markdown",
   "id": "7d5d20f3",
   "metadata": {},
   "source": [
    "## Section 5 Evaluation"
   ]
  },
  {
   "cell_type": "code",
   "execution_count": 182,
   "id": "0c2f831e",
   "metadata": {},
   "outputs": [],
   "source": [
    "from sklearn.metrics import mean_squared_error as mse\n",
    "from sklearn.metrics import r2_score as r2\n",
    "from sklearn.metrics import root_mean_squared_error as rms"
   ]
  },
  {
   "cell_type": "markdown",
   "id": "af1537ee",
   "metadata": {},
   "source": [
    "I had to comment out rms on my ATU laptop as sklearn is not up to date - it might work for you do so try uncommenting\n",
    "\n",
    "root_mean_squared_error\n",
    "\n",
    "sklearn.metrics.root_mean_squared_error(y_true, y_pred, *, sample_weight=None, multioutput='uniform_average')\n",
    "\n",
    "Root mean squared error regression loss.\n",
    "\n",
    "from sklearn.metrics import root_mean_squared_error\n",
    "y_true = [3, -0.5, 2, 7]\n",
    "y_pred = [2.5, 0.0, 2, 8]\n",
    "root_mean_squared_error(y_true, y_pred)\n",
    "y_true = [[0.5, 1],[-1, 1],[7, -6]]\n",
    "y_pred = [[0, 2],[-1, 2],[8, -5]]\n",
    "root_mean_squared_error(y_true, y_pred)"
   ]
  },
  {
   "cell_type": "code",
   "execution_count": null,
   "id": "87ef62c9",
   "metadata": {},
   "outputs": [],
   "source": [
    "mse(y,pred)"
   ]
  },
  {
   "cell_type": "code",
   "execution_count": null,
   "id": "ae1a72b1",
   "metadata": {},
   "outputs": [],
   "source": [
    "r2(y,pred)"
   ]
  },
  {
   "cell_type": "markdown",
   "id": "86517fb3",
   "metadata": {},
   "source": [
    "Very close to 1!\n",
    "\n",
    "So again, this shows that my model, my predictions are very close to the actual values of Y."
   ]
  },
  {
   "cell_type": "code",
   "execution_count": null,
   "id": "84fbfe9e",
   "metadata": {},
   "outputs": [],
   "source": [
    "rms(y,pred)"
   ]
  },
  {
   "cell_type": "code",
   "execution_count": 186,
   "id": "d884cac9-62a1-4e01-975e-bc7b71e1b413",
   "metadata": {},
   "outputs": [],
   "source": [
    "rmse = np.sqrt(mse(y,pred))"
   ]
  },
  {
   "cell_type": "code",
   "execution_count": null,
   "id": "7ac03f6f-151b-47f9-bb07-fd4767d40f7a",
   "metadata": {},
   "outputs": [],
   "source": [
    "rmse # same as rms above"
   ]
  },
  {
   "cell_type": "markdown",
   "id": "bb8990dc",
   "metadata": {},
   "source": [
    "But the other thing you can do is you can actually visualise the model and we can see here versus the data I provided and the model, they're a very close match and you can see where the sum of the errors are in the predictions.\n",
    "\n",
    "And that's accounting for it not being a perfect 1."
   ]
  },
  {
   "cell_type": "code",
   "execution_count": null,
   "id": "0d7ea64b",
   "metadata": {},
   "outputs": [],
   "source": [
    "plt.plot(X,y,'o')\n",
    "plt.plot(X,pred)\n",
    "plt.show()"
   ]
  },
  {
   "cell_type": "markdown",
   "id": "850d09ca",
   "metadata": {},
   "source": [
    "shows the line of best fit"
   ]
  },
  {
   "cell_type": "code",
   "execution_count": null,
   "id": "696c8ffb",
   "metadata": {},
   "outputs": [],
   "source": [
    "model.score(X,y)"
   ]
  },
  {
   "cell_type": "markdown",
   "id": "516c4ff5",
   "metadata": {},
   "source": [
    "You just do model dot score and you can see here in 9864, which just shows you that the under the hood scoring the model in SK Learn is using the R-squared metric.\n",
    "11 minutes 13 seconds\n",
    "You can change that metric, I think in this parameter setting you can change it, but by default the R-squared metric.\n",
    "11 minutes 18 seconds\n"
   ]
  },
  {
   "cell_type": "markdown",
   "id": "5eb34eee",
   "metadata": {},
   "source": [
    "Agrees with the r2 from above"
   ]
  },
  {
   "cell_type": "markdown",
   "id": "1f9610c7",
   "metadata": {},
   "source": [
    "## Simple linear regression with automobile data\n",
    "We will now use sklearn to to predict automobile milesage per gallon (mpg) and evaluate these predictions. We first load the data and split them into a training set and a testing set.\n",
    "\n",
    "https://numpy.org/doc/stable/reference/generated/numpy.dot.html\n",
    "https://scikit-learn.org/1.5/auto_examples/linear_model/plot_ols.html\n",
    "https://scikit-learn.org/stable/auto_examples/linear_model/plot_ols.html#sphx-glr-auto-examples-linear-model-plot-ols-py\n",
    "https://scikit-learn.org/stable/modules/linear_model.html\n",
    "https://www.geeksforgeeks.org/split-pandas-dataframe-by-rows/\n",
    "https://scikit-learn.org/stable/modules/generated/sklearn.model_selection.train_test_split.html"
   ]
  },
  {
   "cell_type": "code",
   "execution_count": null,
   "id": "9417d125",
   "metadata": {},
   "outputs": [],
   "source": [
    "#load mtcars\n",
    "dfcars=pd.read_csv(\"mtcars.csv\")\n",
    "dfcars=dfcars.rename(columns={\"Unnamed: 0\":\"name\"})\n",
    "dfcars.head()"
   ]
  },
  {
   "cell_type": "markdown",
   "id": "8509f406",
   "metadata": {},
   "source": [
    "We need to choose the variables that we think will be good predictors for the dependent variable `mpg`. \n",
    "\n",
    ">**EXERCISE:**  Pick one variable to use as a predictor for simple linear regression.  Create a markdown cell below and discuss your reasons.  You may want to justify this with some visualizations.  Is there a second variable you'd like to use as well, say for multiple linear regression with two predictors?"
   ]
  },
  {
   "cell_type": "code",
   "execution_count": null,
   "id": "87e6422a",
   "metadata": {},
   "outputs": [],
   "source": [
    "# i pick weight, then try others\n",
    "\n",
    "X = dfcars['wt']  # Predictor variables\n",
    "y = dfcars['mpg']  # Dependent variable\n",
    "\n",
    "plt.scatter(X,y)\n",
    "plt.show()"
   ]
  },
  {
   "cell_type": "code",
   "execution_count": null,
   "id": "02dc1c18",
   "metadata": {},
   "outputs": [],
   "source": [
    "np.corrcoef(X, y)"
   ]
  },
  {
   "cell_type": "code",
   "execution_count": null,
   "id": "64640f55",
   "metadata": {},
   "outputs": [],
   "source": [
    "dfcars['wt'].corr(dfcars['mpg']) "
   ]
  },
  {
   "cell_type": "code",
   "execution_count": null,
   "id": "88b1e39d",
   "metadata": {},
   "outputs": [],
   "source": [
    "X"
   ]
  },
  {
   "cell_type": "code",
   "execution_count": null,
   "id": "8c8d041a",
   "metadata": {},
   "outputs": [],
   "source": [
    "y"
   ]
  },
  {
   "cell_type": "code",
   "execution_count": null,
   "id": "9af5c635",
   "metadata": {},
   "outputs": [],
   "source": [
    "X = dfcars['wt'].to_numpy().reshape(-1, 1) # reshape because of single feature\n",
    "y = dfcars['mpg'].to_numpy()\n",
    "\n",
    "X.shape, y.shape"
   ]
  },
  {
   "cell_type": "code",
   "execution_count": null,
   "id": "c3ed25c7",
   "metadata": {},
   "outputs": [],
   "source": [
    "reg = LinearRegression()\n",
    "reg.fit(X, y)"
   ]
  },
  {
   "cell_type": "code",
   "execution_count": null,
   "id": "f51e9266",
   "metadata": {},
   "outputs": [],
   "source": [
    "reg.coef_, reg.intercept_"
   ]
  },
  {
   "cell_type": "code",
   "execution_count": 199,
   "id": "2a48a6db",
   "metadata": {},
   "outputs": [],
   "source": [
    "from sklearn.model_selection import train_test_split"
   ]
  },
  {
   "cell_type": "code",
   "execution_count": null,
   "id": "5ddf11a4",
   "metadata": {},
   "outputs": [],
   "source": [
    "dfcars.shape, .2 *32"
   ]
  },
  {
   "cell_type": "code",
   "execution_count": 201,
   "id": "0a3e5e71",
   "metadata": {},
   "outputs": [],
   "source": [
    "# split data X\n",
    "Xy_train, Xy_test = train_test_split(dfcars, train_size=0.8, random_state=42)"
   ]
  },
  {
   "cell_type": "code",
   "execution_count": null,
   "id": "bfa9458b",
   "metadata": {},
   "outputs": [],
   "source": [
    "X_train = Xy_train['wt'].to_numpy().reshape(-1,1)\n",
    "y_train = Xy_train['mpg'].to_numpy()\n",
    "\n",
    "X_test = Xy_test['wt'].to_numpy().reshape(-1,1)\n",
    "y_test = Xy_test['mpg'].to_numpy()\n",
    "\n",
    "X_train.shape, y_train.shape\n",
    "#type(X_train)"
   ]
  },
  {
   "cell_type": "code",
   "execution_count": 203,
   "id": "2b8d45e5",
   "metadata": {},
   "outputs": [],
   "source": [
    "reg = LinearRegression()\n",
    "reg.fit(X=X_train, y=y_train)\n",
    "y_pred = reg.predict(X=X_test)"
   ]
  },
  {
   "cell_type": "code",
   "execution_count": null,
   "id": "e8ade22c",
   "metadata": {},
   "outputs": [],
   "source": [
    "plt.scatter(X_test, y_test, color='k')\n",
    "plt.scatter(X_test, y_pred, color='b', linewidths=3)\n",
    "plt.show()"
   ]
  },
  {
   "cell_type": "code",
   "execution_count": null,
   "id": "962496ee",
   "metadata": {},
   "outputs": [],
   "source": [
    "# evaluate \n",
    "print(\"Coefficients: \\n\", reg.coef_)"
   ]
  },
  {
   "cell_type": "code",
   "execution_count": null,
   "id": "d762e238",
   "metadata": {},
   "outputs": [],
   "source": [
    "print(\"Mean squared error: %.2f\" % mse(y_test, y_pred))"
   ]
  },
  {
   "cell_type": "code",
   "execution_count": null,
   "id": "461e2e4d",
   "metadata": {},
   "outputs": [],
   "source": [
    "r2(y_test,y_pred)"
   ]
  },
  {
   "cell_type": "code",
   "execution_count": null,
   "id": "fa9afe86",
   "metadata": {},
   "outputs": [],
   "source": []
  },
  {
   "cell_type": "code",
   "execution_count": null,
   "id": "967a0a40",
   "metadata": {},
   "outputs": [],
   "source": []
  },
  {
   "cell_type": "code",
   "execution_count": null,
   "id": "1d6266c4",
   "metadata": {},
   "outputs": [],
   "source": []
  },
  {
   "cell_type": "code",
   "execution_count": null,
   "id": "af2dfa2b",
   "metadata": {},
   "outputs": [],
   "source": []
  },
  {
   "cell_type": "markdown",
   "id": "2564981a",
   "metadata": {},
   "source": [
    "### look at data structure\n",
    "\n",
    "https://scikit-learn.org/stable/modules/generated/sklearn.linear_model.LinearRegression.html\n",
    "\n",
    "    coef_array of shape (n_features, ) or (n_targets, n_features)\n",
    "\n",
    "        Estimated coefficients for the linear regression problem. If multiple targets are passed during the fit (y 2D), this is a 2D array of shape (n_targets, n_features), while if only one target is passed, this is a 1D array of length n_features.\n",
    "\n",
    "If y is 1-dimensional (common for target variables), we reshape it using \n",
    "y.values.reshape(-1, 1) to ensure it's in 2D format as required by some machine learning models."
   ]
  },
  {
   "cell_type": "code",
   "execution_count": null,
   "id": "7f5a9a72",
   "metadata": {},
   "outputs": [],
   "source": [
    "print(f\"Initial X.shape: {X.shape}, X.ndim: {X.ndim}\")"
   ]
  },
  {
   "cell_type": "code",
   "execution_count": null,
   "id": "bb741a0b",
   "metadata": {},
   "outputs": [],
   "source": [
    "y"
   ]
  },
  {
   "cell_type": "code",
   "execution_count": null,
   "id": "d8d7c153",
   "metadata": {},
   "outputs": [],
   "source": [
    "print(f\"Initial y.shape: {y.shape}, y.ndim: {y.ndim}\")"
   ]
  },
  {
   "cell_type": "markdown",
   "id": "0b81a000",
   "metadata": {},
   "source": [
    "pick weight bc of highest correlation coefficient among all variables"
   ]
  },
  {
   "cell_type": "markdown",
   "id": "a3aabda4",
   "metadata": {},
   "source": [
    "> **EXERCISE:** With sklearn fit the training data using simple linear regression. \n",
    "\n",
    "> Plot the data and the prediction.  \n",
    "\n",
    ">Print out the mean squared error for the set"
   ]
  },
  {
   "cell_type": "code",
   "execution_count": 211,
   "id": "0c286fca",
   "metadata": {},
   "outputs": [],
   "source": [
    "#your code here\n",
    "#define  predictor and response for set\n",
    "\n",
    "# Split the data into training and test sets\n"
   ]
  },
  {
   "cell_type": "code",
   "execution_count": 212,
   "id": "ba6a6a60",
   "metadata": {},
   "outputs": [],
   "source": [
    "#your code here\n",
    "# create linear regression object with sklearn\n"
   ]
  },
  {
   "cell_type": "code",
   "execution_count": 213,
   "id": "8ff06424",
   "metadata": {},
   "outputs": [],
   "source": [
    "#your code here\n",
    "# train the model and make predictions\n"
   ]
  },
  {
   "cell_type": "code",
   "execution_count": 214,
   "id": "69dda449",
   "metadata": {},
   "outputs": [],
   "source": [
    "# Predict mpg for the test set\n"
   ]
  },
  {
   "cell_type": "code",
   "execution_count": 215,
   "id": "1ca91170",
   "metadata": {},
   "outputs": [],
   "source": [
    "#your code here\n",
    "#print out coefficients\n",
    "\n",
    "# Evaluate the model\n",
    "\n"
   ]
  },
  {
   "cell_type": "code",
   "execution_count": 216,
   "id": "5cf06136",
   "metadata": {},
   "outputs": [],
   "source": [
    "# your code here\n",
    "# Plot outputs"
   ]
  },
  {
   "cell_type": "code",
   "execution_count": null,
   "id": "187c7a3d",
   "metadata": {},
   "outputs": [],
   "source": []
  },
  {
   "cell_type": "markdown",
   "id": "e71e97bc",
   "metadata": {},
   "source": [
    "# Diabetes Dataset - Multiple linear regression "
   ]
  },
  {
   "cell_type": "markdown",
   "id": "8ce3698c",
   "metadata": {},
   "source": [
    "Now we are going to fit the training data (from the diabetes dataset built into sklearn) using multiple linear regression with multiple predictors. "
   ]
  },
  {
   "cell_type": "code",
   "execution_count": null,
   "id": "9481bb29",
   "metadata": {},
   "outputs": [],
   "source": [
    "from sklearn import datasets\n",
    "diabetes = datasets.load_diabetes()\n",
    "print(diabetes.DESCR)"
   ]
  },
  {
   "cell_type": "code",
   "execution_count": null,
   "id": "f5e64e59",
   "metadata": {},
   "outputs": [],
   "source": [
    "data = pd.DataFrame(diabetes.data, columns=diabetes.feature_names)\n",
    "data.boxplot(rot=90)\n",
    "data.head()"
   ]
  },
  {
   "cell_type": "markdown",
   "id": "e91c555c",
   "metadata": {},
   "source": [
    "Above I put the data into a pandas dataframe and then tried to visualise it. You will notice all of the data is in a similar range\n",
    "\n",
    "### Normalised data\n",
    "They all have a mean of 0 and standard deviation of 1. This is called Normalising the data and is a common step that I'll get into later on.\n",
    "\n",
    "The obvious one you'll notice is the sex variable. This has two options which are 0.050680 or -0.044642, when usually with 2 options we would go with 0 and 1. The numbers were changed due to this normalisation\n",
    "\n",
    "\n",
    "\n",
    "but I definitely know age doesn't go from minus .1 to plus .1.\n",
    "15 minutes 26 seconds\n",
    "And I'm guess that as well, well sex as well doesn't go from this value to that value.\n",
    "15 minutes 31 seconds\n",
    "So what is going on, and you can see it here, there's some, there seems to be discrete values, point O 5 or negative point O 4.\n",
    "15 minutes 39 seconds\n",
    "So what happens is that in order to make all the data correspond to the same sort of ranges, often what people do is a very first step with a data set is they do something called normalising the data set.\n",
    "15 minutes 51 seconds\n",
    "And normalising the data set is scaling all the values so that they're all within similar margins.\n",
    "15 minutes 58 seconds\n",
    "I'll talk more about why they do this, but it's basically to ensure that one variable doesn't have a really large influence.\n",
    "16 minutes 4 seconds\n",
    "That if all the values here were in the range of .2 to -.2, we had a value that was between 0 and 100.\n",
    "16 minutes 10 seconds\n",
    "Like that's, you know, multiple orders of magnitude bigger than all the others.\n",
    "16 minutes 15 seconds\n",
    "And it's going to have a really skewed effect.\n",
    "16 minutes 16 seconds\n",
    "So it's best to keep all your samples, what we're talking about, again, within certain ranges in order that one of these features.\n",
    "16 minutes 23 seconds\n",
    "Imagine you had a really, really tiny feature that was like milli or like micro 10 to the -6 here, even though it might contain really significant information, because it's so, so tiny, the numbers would be so, so tiny.\n",
    "16 minutes 36 seconds\n",
    "The numbers would be lost in the algorithm.\n",
    "16 minutes 38 seconds\n",
    "The algorithm wouldn't just detect those tiny numbers.\n",
    "16 minutes 40 seconds\n",
    "So again, it's good to have everything normalised.\n",
    "16 minutes 44 seconds\n",
    "Put everything in the data's frame, visualise it.\n",
    "16 minutes 46 seconds\n",
    "It's all in a similar range.\n",
    "16 minutes 49 seconds\n",
    "Or I just talked about the normalised.\n",
    "16 minutes 50 seconds\n",
    "All of them mean a zero and a standard deviation of one, a very common step.\n",
    "16 minutes 55 seconds\n",
    "We'll talk about again the E.\n",
    "16 minutes 56 seconds\n",
    "The best example there is what age or sex, which has got two options when either you go with plus 1 -, 1 or 011 or whatever.\n",
    "17 minutes 4 seconds\n",
    "So all of these numbers were changed.\n",
    "17 minutes 6 seconds\n",
    "You know, these aren't the real numbers of S1 or S2.\n",
    "17 minutes 9 seconds\n",
    "They're all changed because of the normalisation."
   ]
  },
  {
   "cell_type": "code",
   "execution_count": 219,
   "id": "df911626",
   "metadata": {},
   "outputs": [],
   "source": [
    "X = data \n",
    "y = diabetes.target"
   ]
  },
  {
   "cell_type": "code",
   "execution_count": 220,
   "id": "f0017b49",
   "metadata": {},
   "outputs": [],
   "source": [
    "lr = LinearRegression()"
   ]
  },
  {
   "cell_type": "code",
   "execution_count": null,
   "id": "7c18afa8",
   "metadata": {},
   "outputs": [],
   "source": [
    "lr.fit(X,y)"
   ]
  },
  {
   "cell_type": "code",
   "execution_count": null,
   "id": "d19d6f58-cc77-4e92-b0ac-7b0ee8ba761a",
   "metadata": {},
   "outputs": [],
   "source": [
    "r_squared = lr.score(X,y)\n",
    "r_squared"
   ]
  },
  {
   "cell_type": "markdown",
   "id": "4637559e-a051-4606-a5c8-ecc8eeb28afc",
   "metadata": {},
   "source": [
    "Let's do a slightly different r2"
   ]
  },
  {
   "cell_type": "code",
   "execution_count": null,
   "id": "dce17faf-aff0-4266-a459-487f0d8a4caa",
   "metadata": {},
   "outputs": [],
   "source": [
    "adjusted_r_squared = 1 - (1-r_squared)*(len(y)-1)/(len(y)-X.shape[1]-1)\n",
    "adjusted_r_squared"
   ]
  },
  {
   "cell_type": "code",
   "execution_count": null,
   "id": "e750521e",
   "metadata": {},
   "outputs": [],
   "source": [
    "lr.coef_"
   ]
  },
  {
   "cell_type": "markdown",
   "id": "384b15b5",
   "metadata": {},
   "source": [
    "And what I can do, which is interesting, is look at the actual coefficients.\n",
    "17 minutes 56 seconds\n",
    "So if I see here and I'll see them in a graphical format a bit more, some of them are quite small and some of them are quite large.\n",
    "18 minutes 3 seconds\n",
    "And what that means, the intercept isn't survivable.\n",
    "18 minutes 6 seconds\n",
    "But what that means is that see this one here, which relates to age.\n",
    "18 minutes 10 seconds\n",
    "That very first column is the age column.\n",
    "18 minutes 13 seconds\n",
    "Because of such a tiny coefficient, it's scaled by only a tiny amount.\n",
    "18 minutes 16 seconds\n",
    "It probably means that age isn't a very good predictor of the output of this measure of the progression of the disease, and some of these are better predictions.\n",
    "18 minutes 26 seconds\n",
    "So sex would be a marginally better predictor.\n",
    "18 minutes 29 seconds\n",
    "But this S1, whatever this blood work is, has got a very high influence on the output these coefficients show on.\n",
    "18 minutes 36 seconds\n",
    "Similarly, the S5S3 doesn't seem to have so much of an influence.\n",
    "18 minutes 41 seconds\n",
    "Some of the coefficients are very large.\n",
    "18 minutes 43 seconds\n",
    "Looks like age doesn't contribute as much.\n",
    "18 minutes 45 seconds\n",
    "Sometimes the large coefficients are problematic.\n",
    "18 minutes 47 seconds\n",
    "We'll talk about that again.\n",
    "18 minutes 49 seconds\n",
    "It's coming up in the next few weeks.\n",
    "18 minutes 50 seconds\n",
    "Often removing these insignificant ones makes the model smaller and can actually improve the performance of the module.\n",
    "18 minutes 58 seconds\n",
    "But we don't have, at this point in time, enough knowledge to figure it out.\n",
    "19 minutes 1 second\n",
    "It would involve stripping some of these things out of the model and using various combinations.\n",
    "19 minutes 5 seconds\n",
    "You know, maybe only these three features by itself might give you a better model.\n",
    "19 minutes 9 seconds\n",
    "So this is the kind of work you do as a machine learning in the real world as you'd be looking at which of these features together in the model really give the best predictive performance of the outbush.\n",
    "19 minutes 21 seconds\n",
    "You know, it's possible to get a better model without age.\n",
    "19 minutes 24 seconds\n",
    "S3S4 and S6 strip all that out.\n",
    "19 minutes 27 seconds\n",
    "You could actually get better performance and it's something you can have a look at yourselves.\n",
    "19 minutes 30 seconds\n",
    "With pandas, you should have enough skill to strip out different columns, strip out these columns, refeed it all back into the model, and refish the model.\n",
    "19 minutes 40 seconds\n",
    "And again, you can look at your outputs to see if you can beat this score, your R-squared score of .5 O at the moment."
   ]
  },
  {
   "cell_type": "code",
   "execution_count": null,
   "id": "dba41940",
   "metadata": {},
   "outputs": [],
   "source": [
    "lr.intercept_"
   ]
  },
  {
   "cell_type": "code",
   "execution_count": null,
   "id": "5afba4c0",
   "metadata": {},
   "outputs": [],
   "source": [
    "coef=pd.Series(lr.coef_ , index=diabetes.feature_names)\n",
    "coef.plot(kind='bar', color = list('rgbkymc'))\n",
    "plt.ylabel('Coefficient')"
   ]
  },
  {
   "cell_type": "markdown",
   "id": "0a41404d",
   "metadata": {},
   "source": [
    "Some of those coefficients are very large, and it looks like age does not contribute as much as the others\n",
    "\n",
    "The very large coefficients can often be problematic so we'll have to think about this one again later\n",
    "\n",
    "Maybe removing age will give us a better model\n",
    "\n",
    "We don't really have enough knowledge to figure it out. It's possible you would get a better model without age, s3, s4 and s6"
   ]
  }
 ],
 "metadata": {
  "kernelspec": {
   "display_name": "base",
   "language": "python",
   "name": "python3"
  },
  "language_info": {
   "codemirror_mode": {
    "name": "ipython",
    "version": 3
   },
   "file_extension": ".py",
   "mimetype": "text/x-python",
   "name": "python",
   "nbconvert_exporter": "python",
   "pygments_lexer": "ipython3",
   "version": "3.12.4"
  }
 },
 "nbformat": 4,
 "nbformat_minor": 5
}
