{
 "cells": [
  {
   "cell_type": "markdown",
   "id": "6730848e-ddff-4295-9535-8c1b7cd7d08a",
   "metadata": {},
   "source": [
    "# Face Recognition (LFW Dataset)\n",
    "\n",
    "In a previous lab we used an multi-layer perceptron NN to build a face recognition model for some famous faces. Now let's see how a CNN does"
   ]
  },
  {
   "cell_type": "code",
   "execution_count": 1,
   "id": "dd296333-b002-4418-825e-9acda36e156e",
   "metadata": {},
   "outputs": [],
   "source": [
    "import pandas as pd\n",
    "import numpy as np\n",
    "import matplotlib.pyplot as plt\n",
    "from sklearn.datasets import fetch_lfw_people\n",
    "from sklearn.model_selection import train_test_split\n",
    "import tensorflow as tf\n",
    "from tensorflow.keras import layers"
   ]
  },
  {
   "cell_type": "code",
   "execution_count": 2,
   "id": "b0c17ccd-3288-4464-b13b-7b49e0b3999f",
   "metadata": {},
   "outputs": [],
   "source": [
    "faces = fetch_lfw_people(min_faces_per_person=60, resize=1)"
   ]
  },
  {
   "cell_type": "markdown",
   "id": "b72d0420",
   "metadata": {},
   "source": [
    "I'm deliberately picking faces.images over faces.data here due to the shape. "
   ]
  },
  {
   "cell_type": "code",
   "execution_count": 3,
   "id": "416d04ff-da77-4609-80a4-6ccc9700eefd",
   "metadata": {},
   "outputs": [
    {
     "data": {
      "text/plain": [
       "array([[0.5254902 , 0.5176471 , 0.5058824 , ..., 0.25882354, 0.25882354,\n",
       "        0.25490198],\n",
       "       [0.5385621 , 0.5424837 , 0.54901963, ..., 0.2653595 , 0.26143792,\n",
       "        0.25882354],\n",
       "       [0.5542484 , 0.5660131 , 0.5660131 , ..., 0.2627451 , 0.26143792,\n",
       "        0.2640523 ],\n",
       "       ...,\n",
       "       [0.25620916, 0.52679735, 0.71895427, ..., 0.00653595, 0.00653595,\n",
       "        0.        ],\n",
       "       [0.19738562, 0.44183007, 0.6640523 , ..., 0.00653595, 0.00261438,\n",
       "        0.        ],\n",
       "       [0.1267974 , 0.34640524, 0.56993467, ..., 0.00653595, 0.00261438,\n",
       "        0.        ]], dtype=float32)"
      ]
     },
     "execution_count": 3,
     "metadata": {},
     "output_type": "execute_result"
    }
   ],
   "source": [
    "X = faces.images\n",
    "y = faces.target\n",
    "X[0]"
   ]
  },
  {
   "cell_type": "markdown",
   "id": "0e043f4a-67dc-4bf6-b1cc-cfd6ed18edeb",
   "metadata": {},
   "source": [
    "All values are between 0 and 1 so greyscale. No need to do any /255 like we did in the digits dataset"
   ]
  },
  {
   "cell_type": "code",
   "execution_count": 4,
   "id": "acf827a3-de1c-4487-b4a7-767ccc04ffd9",
   "metadata": {},
   "outputs": [
    {
     "data": {
      "text/plain": [
       "array([1, 3, 3, ..., 7, 3, 5], dtype=int64)"
      ]
     },
     "execution_count": 4,
     "metadata": {},
     "output_type": "execute_result"
    }
   ],
   "source": [
    "y"
   ]
  },
  {
   "cell_type": "markdown",
   "id": "aecaa5ac-6a1e-4a43-ab89-55d3e9a1e82e",
   "metadata": {},
   "source": [
    "## Important\n",
    "\n",
    "Always look at the y vector. These are labels from 0 to 7. This means we need SparseCategoricalCrossentropy "
   ]
  },
  {
   "cell_type": "code",
   "execution_count": 5,
   "id": "522e0198-6351-4bfa-a121-6682cb914fc3",
   "metadata": {},
   "outputs": [
    {
     "data": {
      "text/plain": [
       "8"
      ]
     },
     "execution_count": 5,
     "metadata": {},
     "output_type": "execute_result"
    }
   ],
   "source": [
    "numberofclasses = np.unique(y).size\n",
    "numberofclasses"
   ]
  },
  {
   "cell_type": "code",
   "execution_count": 6,
   "id": "9607e80a-5127-4c3c-8d1d-88b7615f9083",
   "metadata": {},
   "outputs": [
    {
     "data": {
      "text/plain": [
       "(1348, 125, 94)"
      ]
     },
     "execution_count": 6,
     "metadata": {},
     "output_type": "execute_result"
    }
   ],
   "source": [
    "X.shape"
   ]
  },
  {
   "cell_type": "markdown",
   "id": "df2eebeb-92ac-4bd1-93d0-795d83684ed2",
   "metadata": {},
   "source": [
    "So we have 8 different people to train our model on and 1348 total images. The image resolution is 125x94\n"
   ]
  },
  {
   "cell_type": "markdown",
   "id": "153069b7-e494-4a15-85e0-dec6ad73ad46",
   "metadata": {},
   "source": [
    "First step set the Input shape, then we should normalise the data between 0 and 1\n",
    "\n",
    "However faces dataset is already between 0 and 1 so this rescaling is not needed"
   ]
  },
  {
   "cell_type": "code",
   "execution_count": 7,
   "id": "8d277998",
   "metadata": {},
   "outputs": [],
   "source": [
    "X_train, X_test, y_train, y_test = train_test_split(X,y, random_state=1138)"
   ]
  },
  {
   "cell_type": "code",
   "execution_count": 8,
   "id": "5e0508a0-5e29-4175-aa41-0c844d37447c",
   "metadata": {},
   "outputs": [],
   "source": [
    "model = tf.keras.models.Sequential()\n",
    "model.add(tf.keras.Input(shape=(125, 94, 1)))\n",
    "model.add(layers.Conv2D(16, 3, padding='same', activation='relu'))\n",
    "model.add(layers.MaxPooling2D())\n",
    "model.add(layers.Conv2D(32, 3, padding='same', activation='relu'))\n",
    "model.add(layers.MaxPooling2D())\n",
    "model.add(layers.Conv2D(64, 3, padding='same', activation='relu'))\n",
    "model.add(layers.MaxPooling2D())\n",
    "model.add(layers.Flatten())\n",
    "model.add(layers.Dense(128, activation='relu'))\n",
    "model.add(layers.Dense(numberofclasses, activation='softmax'))"
   ]
  },
  {
   "cell_type": "code",
   "execution_count": 9,
   "id": "94f24f7d-0c7c-4c15-8508-43292501c2f0",
   "metadata": {},
   "outputs": [
    {
     "name": "stdout",
     "output_type": "stream",
     "text": [
      "Model: \"sequential\"\n",
      "_________________________________________________________________\n",
      " Layer (type)                Output Shape              Param #   \n",
      "=================================================================\n",
      " conv2d (Conv2D)             (None, 125, 94, 16)       160       \n",
      "                                                                 \n",
      " max_pooling2d (MaxPooling2  (None, 62, 47, 16)        0         \n",
      " D)                                                              \n",
      "                                                                 \n",
      " conv2d_1 (Conv2D)           (None, 62, 47, 32)        4640      \n",
      "                                                                 \n",
      " max_pooling2d_1 (MaxPoolin  (None, 31, 23, 32)        0         \n",
      " g2D)                                                            \n",
      "                                                                 \n",
      " conv2d_2 (Conv2D)           (None, 31, 23, 64)        18496     \n",
      "                                                                 \n",
      " max_pooling2d_2 (MaxPoolin  (None, 15, 11, 64)        0         \n",
      " g2D)                                                            \n",
      "                                                                 \n",
      " flatten (Flatten)           (None, 10560)             0         \n",
      "                                                                 \n",
      " dense (Dense)               (None, 128)               1351808   \n",
      "                                                                 \n",
      " dense_1 (Dense)             (None, 8)                 1032      \n",
      "                                                                 \n",
      "=================================================================\n",
      "Total params: 1376136 (5.25 MB)\n",
      "Trainable params: 1376136 (5.25 MB)\n",
      "Non-trainable params: 0 (0.00 Byte)\n",
      "_________________________________________________________________\n"
     ]
    }
   ],
   "source": [
    "model.summary()"
   ]
  },
  {
   "cell_type": "code",
   "execution_count": 10,
   "id": "d971d1b6-0fbf-4dea-a63d-b41c66115686",
   "metadata": {},
   "outputs": [],
   "source": [
    "model.compile(\n",
    "    optimizer=tf.keras.optimizers.Adam(0.001),\n",
    "    loss=tf.keras.losses.SparseCategoricalCrossentropy(from_logits=False),  #from_logits=False as softmax is on the output of the CNN\n",
    "    metrics=['accuracy'],\n",
    ")"
   ]
  },
  {
   "cell_type": "code",
   "execution_count": 11,
   "id": "aae6911c-0acb-4caa-8ccf-d89408c8d75e",
   "metadata": {},
   "outputs": [
    {
     "name": "stdout",
     "output_type": "stream",
     "text": [
      "Epoch 1/25\n",
      "26/26 [==============================] - 7s 184ms/step - loss: 1.8506 - accuracy: 0.3700 - val_loss: 1.8031 - val_accuracy: 0.3744\n",
      "Epoch 2/25\n",
      "26/26 [==============================] - 4s 164ms/step - loss: 1.7672 - accuracy: 0.3911 - val_loss: 1.7548 - val_accuracy: 0.3744\n",
      "Epoch 3/25\n",
      "26/26 [==============================] - 4s 167ms/step - loss: 1.6100 - accuracy: 0.4134 - val_loss: 1.4168 - val_accuracy: 0.4483\n",
      "Epoch 4/25\n",
      "26/26 [==============================] - 5s 178ms/step - loss: 1.1821 - accuracy: 0.5631 - val_loss: 1.0889 - val_accuracy: 0.6059\n",
      "Epoch 5/25\n",
      "26/26 [==============================] - 5s 192ms/step - loss: 0.7027 - accuracy: 0.7611 - val_loss: 0.9204 - val_accuracy: 0.7340\n",
      "Epoch 6/25\n",
      "26/26 [==============================] - 5s 174ms/step - loss: 0.4849 - accuracy: 0.8453 - val_loss: 0.6761 - val_accuracy: 0.7980\n",
      "Epoch 7/25\n",
      "26/26 [==============================] - 5s 187ms/step - loss: 0.3112 - accuracy: 0.9072 - val_loss: 0.4969 - val_accuracy: 0.8571\n",
      "Epoch 8/25\n",
      "26/26 [==============================] - 6s 214ms/step - loss: 0.2047 - accuracy: 0.9257 - val_loss: 0.4422 - val_accuracy: 0.8670\n",
      "Epoch 9/25\n",
      "26/26 [==============================] - 6s 237ms/step - loss: 0.1610 - accuracy: 0.9517 - val_loss: 0.5730 - val_accuracy: 0.8374\n",
      "Epoch 10/25\n",
      "26/26 [==============================] - 6s 226ms/step - loss: 0.1285 - accuracy: 0.9653 - val_loss: 0.5269 - val_accuracy: 0.8719\n",
      "Epoch 11/25\n",
      "26/26 [==============================] - 5s 191ms/step - loss: 0.0559 - accuracy: 0.9864 - val_loss: 0.4353 - val_accuracy: 0.8768\n",
      "Epoch 12/25\n",
      "26/26 [==============================] - 5s 192ms/step - loss: 0.0369 - accuracy: 0.9913 - val_loss: 0.5095 - val_accuracy: 0.8571\n",
      "Epoch 13/25\n",
      "26/26 [==============================] - 5s 176ms/step - loss: 0.0560 - accuracy: 0.9864 - val_loss: 0.4499 - val_accuracy: 0.8916\n",
      "Epoch 14/25\n",
      "26/26 [==============================] - 5s 187ms/step - loss: 0.0226 - accuracy: 0.9963 - val_loss: 0.5069 - val_accuracy: 0.8867\n",
      "Epoch 15/25\n",
      "26/26 [==============================] - 5s 184ms/step - loss: 0.0091 - accuracy: 1.0000 - val_loss: 0.5480 - val_accuracy: 0.8719\n",
      "Epoch 16/25\n",
      "26/26 [==============================] - 5s 183ms/step - loss: 0.0118 - accuracy: 0.9988 - val_loss: 0.4907 - val_accuracy: 0.8719\n",
      "Epoch 17/25\n",
      "26/26 [==============================] - 5s 189ms/step - loss: 0.0057 - accuracy: 1.0000 - val_loss: 0.5052 - val_accuracy: 0.8916\n",
      "Epoch 18/25\n",
      "26/26 [==============================] - 6s 215ms/step - loss: 0.0028 - accuracy: 1.0000 - val_loss: 0.5616 - val_accuracy: 0.8670\n",
      "Epoch 19/25\n",
      "26/26 [==============================] - 6s 223ms/step - loss: 0.0020 - accuracy: 1.0000 - val_loss: 0.5383 - val_accuracy: 0.8818\n",
      "Epoch 20/25\n",
      "26/26 [==============================] - 6s 211ms/step - loss: 0.0016 - accuracy: 1.0000 - val_loss: 0.5429 - val_accuracy: 0.8818\n",
      "Epoch 21/25\n",
      "26/26 [==============================] - 5s 207ms/step - loss: 0.0015 - accuracy: 1.0000 - val_loss: 0.5512 - val_accuracy: 0.8818\n",
      "Epoch 22/25\n",
      "26/26 [==============================] - 5s 197ms/step - loss: 0.0012 - accuracy: 1.0000 - val_loss: 0.5433 - val_accuracy: 0.8916\n",
      "Epoch 23/25\n",
      "26/26 [==============================] - 5s 191ms/step - loss: 0.0011 - accuracy: 1.0000 - val_loss: 0.5466 - val_accuracy: 0.8966\n",
      "Epoch 24/25\n",
      "26/26 [==============================] - 5s 203ms/step - loss: 0.0010 - accuracy: 1.0000 - val_loss: 0.5606 - val_accuracy: 0.8867\n",
      "Epoch 25/25\n",
      "26/26 [==============================] - 6s 227ms/step - loss: 8.8348e-04 - accuracy: 1.0000 - val_loss: 0.5618 - val_accuracy: 0.8867\n"
     ]
    }
   ],
   "source": [
    "history = model.fit(X_train, y_train, epochs=25, validation_split=0.2)"
   ]
  },
  {
   "cell_type": "markdown",
   "id": "4ab267e7-8c22-4d10-a954-3c469e6df47c",
   "metadata": {},
   "source": [
    "Look at that training accuracy and loss! 100% and loss so small it needs to use scientific notation.\n",
    "\n",
    "There is still some overfitting as val_accuracy and loss are \"only\" high 80s. This is better than ANN anyway"
   ]
  },
  {
   "cell_type": "code",
   "execution_count": 12,
   "id": "fc7fcf4d-a951-4502-ba77-ee02207d0873",
   "metadata": {},
   "outputs": [
    {
     "name": "stdout",
     "output_type": "stream",
     "text": [
      "11/11 [==============================] - 1s 69ms/step - loss: 0.7221 - accuracy: 0.8754\n"
     ]
    },
    {
     "data": {
      "text/plain": [
       "{'loss': 0.7221399545669556, 'accuracy': 0.8753709197044373}"
      ]
     },
     "execution_count": 12,
     "metadata": {},
     "output_type": "execute_result"
    }
   ],
   "source": [
    "model.evaluate(X_test, y_test, return_dict=True)"
   ]
  },
  {
   "cell_type": "markdown",
   "id": "d237a3e4-5008-4aa1-9e4c-002e3efcd5dc",
   "metadata": {},
   "source": [
    "I got 87.5% accuracy which was better than previous ANN. Let's plot"
   ]
  },
  {
   "cell_type": "code",
   "execution_count": 13,
   "id": "1e97859d-3e33-4c48-bf01-e26169f09b14",
   "metadata": {},
   "outputs": [],
   "source": [
    "def plot_loss(history, which='loss'):\n",
    "    plt.plot(history.history[which], label='train')\n",
    "    try:\n",
    "        plt.plot(history.history['val_'+which], label='validation')\n",
    "    except:\n",
    "        None\n",
    "    plt.xlabel('Epoch')\n",
    "    plt.ylabel(which)\n",
    "    plt.legend()\n",
    "    plt.grid(True)"
   ]
  },
  {
   "cell_type": "code",
   "execution_count": 14,
   "id": "bf085f46-04a8-4258-9944-e4a3c20c72a9",
   "metadata": {},
   "outputs": [
    {
     "data": {
      "image/png": "[encoded data removed]",
      "text/plain": [
       "<Figure size 640x480 with 1 Axes>"
      ]
     },
     "metadata": {},
     "output_type": "display_data"
    }
   ],
   "source": [
    "plot_loss(history)"
   ]
  },
  {
   "cell_type": "code",
   "execution_count": 15,
   "id": "f7eb79ec-215f-4aa2-820a-c1420eeddf22",
   "metadata": {},
   "outputs": [
    {
     "data": {
      "text/plain": [
       "(125, 94)"
      ]
     },
     "execution_count": 15,
     "metadata": {},
     "output_type": "execute_result"
    }
   ],
   "source": [
    "X_train[0].shape"
   ]
  },
  {
   "cell_type": "markdown",
   "id": "e3ca5ad8-d7fc-457c-8ecc-11523d7f8581",
   "metadata": {},
   "source": [
    "Let's revisit model and see if we can get rid of some of the overfitting\n",
    "\n",
    "What are the things we can try\n",
    "1) Data Augmentation\n",
    "2) Regularisation (I haven't done this below)\n",
    "3) Dropout"
   ]
  },
  {
   "cell_type": "code",
   "execution_count": 16,
   "id": "8c466430-4e19-4a4a-9c1c-d251baf0f2cf",
   "metadata": {},
   "outputs": [],
   "source": [
    "data_augmentation = tf.keras.Sequential(\n",
    "  [\n",
    "    layers.RandomFlip(\"horizontal_and_vertical\"),\n",
    "    layers.RandomRotation(0.1),\n",
    "    layers.RandomZoom(0.1),\n",
    "  ]\n",
    ")"
   ]
  },
  {
   "cell_type": "code",
   "execution_count": 17,
   "id": "4743ec24-45fe-45ff-9d57-5ad5f7529de0",
   "metadata": {},
   "outputs": [],
   "source": [
    "model2 = tf.keras.models.Sequential([\n",
    "    tf.keras.Input(shape=(125, 94, 1)),\n",
    "    data_augmentation,\n",
    "    layers.Conv2D(16, 3, padding='same', activation='relu'),\n",
    "    layers.MaxPooling2D(),\n",
    "    layers.Dropout(0.2),\n",
    "    layers.Conv2D(32, 3, padding='same', activation='relu'),\n",
    "    layers.MaxPooling2D(),\n",
    "    layers.Conv2D(64, 3, padding='same', activation='relu'),\n",
    "    layers.MaxPooling2D(),\n",
    "    layers.Dropout(0.2),\n",
    "    layers.Flatten(),\n",
    "    layers.Dense(128, activation='relu'),\n",
    "    layers.Dense(numberofclasses, activation='softmax')])"
   ]
  },
  {
   "cell_type": "markdown",
   "id": "85b27bf5-f9ff-43aa-b41b-051f19ede75c",
   "metadata": {},
   "source": [
    "We could do early stopping too"
   ]
  },
  {
   "cell_type": "code",
   "execution_count": 18,
   "id": "922d400b-03a9-4c98-81ef-52c6601c5e2a",
   "metadata": {},
   "outputs": [],
   "source": [
    "#callback = tf.keras.callbacks.EarlyStopping(monitor='val_loss', patience=10, restore_best_weights=True)"
   ]
  },
  {
   "cell_type": "code",
   "execution_count": 19,
   "id": "d8f3486f-47b0-4844-9c6e-80355019817e",
   "metadata": {},
   "outputs": [],
   "source": [
    "model2.compile(\n",
    "    optimizer=tf.keras.optimizers.Adam(0.001),\n",
    "    loss=tf.keras.losses.SparseCategoricalCrossentropy(from_logits=False),\n",
    "    metrics=['accuracy'],\n",
    ")"
   ]
  },
  {
   "cell_type": "code",
   "execution_count": 20,
   "id": "43466e9d-2743-424f-99e8-8f4f599e6ff0",
   "metadata": {},
   "outputs": [
    {
     "name": "stdout",
     "output_type": "stream",
     "text": [
      "Epoch 1/100\n",
      "26/26 [==============================] - 15s 368ms/step - loss: 1.8647 - accuracy: 0.3725 - val_loss: 1.8254 - val_accuracy: 0.3744\n",
      "Epoch 2/100\n",
      "26/26 [==============================] - 8s 303ms/step - loss: 1.8099 - accuracy: 0.3911 - val_loss: 1.8647 - val_accuracy: 0.3744\n",
      "Epoch 3/100\n",
      "26/26 [==============================] - 6s 241ms/step - loss: 1.8142 - accuracy: 0.3911 - val_loss: 1.8459 - val_accuracy: 0.3744\n",
      "Epoch 4/100\n",
      "26/26 [==============================] - 8s 311ms/step - loss: 1.8021 - accuracy: 0.3911 - val_loss: 1.8077 - val_accuracy: 0.3744\n",
      "Epoch 5/100\n",
      "26/26 [==============================] - 8s 293ms/step - loss: 1.8032 - accuracy: 0.3911 - val_loss: 1.8440 - val_accuracy: 0.3744\n",
      "Epoch 6/100\n",
      "26/26 [==============================] - 8s 301ms/step - loss: 1.7995 - accuracy: 0.3911 - val_loss: 1.8158 - val_accuracy: 0.3744\n",
      "Epoch 7/100\n",
      "26/26 [==============================] - 8s 296ms/step - loss: 1.7798 - accuracy: 0.3923 - val_loss: 1.8191 - val_accuracy: 0.3744\n",
      "Epoch 8/100\n",
      "26/26 [==============================] - 7s 275ms/step - loss: 1.7790 - accuracy: 0.3911 - val_loss: 1.7759 - val_accuracy: 0.3744\n",
      "Epoch 9/100\n",
      "26/26 [==============================] - 6s 250ms/step - loss: 1.7487 - accuracy: 0.3998 - val_loss: 1.8165 - val_accuracy: 0.4039\n",
      "Epoch 10/100\n",
      "26/26 [==============================] - 5s 200ms/step - loss: 1.7447 - accuracy: 0.4010 - val_loss: 1.6765 - val_accuracy: 0.4384\n",
      "Epoch 11/100\n",
      "26/26 [==============================] - 5s 208ms/step - loss: 1.6782 - accuracy: 0.4332 - val_loss: 1.6042 - val_accuracy: 0.4384\n",
      "Epoch 12/100\n",
      "26/26 [==============================] - 6s 228ms/step - loss: 1.6244 - accuracy: 0.4257 - val_loss: 1.5635 - val_accuracy: 0.4581\n",
      "Epoch 13/100\n",
      "26/26 [==============================] - 6s 227ms/step - loss: 1.5625 - accuracy: 0.4740 - val_loss: 1.4703 - val_accuracy: 0.5419\n",
      "Epoch 14/100\n",
      "26/26 [==============================] - 7s 267ms/step - loss: 1.5123 - accuracy: 0.4864 - val_loss: 1.4213 - val_accuracy: 0.5074\n",
      "Epoch 15/100\n",
      "26/26 [==============================] - 7s 273ms/step - loss: 1.4885 - accuracy: 0.4950 - val_loss: 1.3536 - val_accuracy: 0.6010\n",
      "Epoch 16/100\n",
      "26/26 [==============================] - 8s 311ms/step - loss: 1.3793 - accuracy: 0.5124 - val_loss: 1.2780 - val_accuracy: 0.5714\n",
      "Epoch 17/100\n",
      "26/26 [==============================] - 7s 273ms/step - loss: 1.3245 - accuracy: 0.5309 - val_loss: 1.2289 - val_accuracy: 0.5714\n",
      "Epoch 18/100\n",
      "26/26 [==============================] - 8s 315ms/step - loss: 1.2871 - accuracy: 0.5470 - val_loss: 1.2890 - val_accuracy: 0.5862\n",
      "Epoch 19/100\n",
      "26/26 [==============================] - 7s 256ms/step - loss: 1.2807 - accuracy: 0.5532 - val_loss: 1.2033 - val_accuracy: 0.5764\n",
      "Epoch 20/100\n",
      "26/26 [==============================] - 6s 248ms/step - loss: 1.2491 - accuracy: 0.5557 - val_loss: 1.1422 - val_accuracy: 0.6355\n",
      "Epoch 21/100\n",
      "26/26 [==============================] - 6s 248ms/step - loss: 1.2239 - accuracy: 0.5767 - val_loss: 1.1170 - val_accuracy: 0.6207\n",
      "Epoch 22/100\n",
      "26/26 [==============================] - 6s 214ms/step - loss: 1.1991 - accuracy: 0.5705 - val_loss: 1.1657 - val_accuracy: 0.6108\n",
      "Epoch 23/100\n",
      "26/26 [==============================] - 6s 231ms/step - loss: 1.1786 - accuracy: 0.5792 - val_loss: 1.0853 - val_accuracy: 0.6502\n",
      "Epoch 24/100\n",
      "26/26 [==============================] - 5s 194ms/step - loss: 1.1487 - accuracy: 0.6151 - val_loss: 1.1274 - val_accuracy: 0.6158\n",
      "Epoch 25/100\n",
      "26/26 [==============================] - 5s 199ms/step - loss: 1.1543 - accuracy: 0.6027 - val_loss: 1.0356 - val_accuracy: 0.6749\n",
      "Epoch 26/100\n",
      "26/26 [==============================] - 6s 237ms/step - loss: 1.1772 - accuracy: 0.6064 - val_loss: 1.0849 - val_accuracy: 0.6355\n",
      "Epoch 27/100\n",
      "26/26 [==============================] - 8s 325ms/step - loss: 1.0903 - accuracy: 0.6498 - val_loss: 0.9545 - val_accuracy: 0.6995\n",
      "Epoch 28/100\n",
      "26/26 [==============================] - 8s 312ms/step - loss: 1.0507 - accuracy: 0.6485 - val_loss: 1.0248 - val_accuracy: 0.6404\n",
      "Epoch 29/100\n",
      "26/26 [==============================] - 9s 338ms/step - loss: 1.0657 - accuracy: 0.6262 - val_loss: 0.9797 - val_accuracy: 0.6897\n",
      "Epoch 30/100\n",
      "26/26 [==============================] - 9s 332ms/step - loss: 1.0453 - accuracy: 0.6498 - val_loss: 0.9284 - val_accuracy: 0.6946\n",
      "Epoch 31/100\n",
      "26/26 [==============================] - 7s 253ms/step - loss: 1.0132 - accuracy: 0.6498 - val_loss: 0.9602 - val_accuracy: 0.6749\n",
      "Epoch 32/100\n",
      "26/26 [==============================] - 7s 282ms/step - loss: 0.9453 - accuracy: 0.6634 - val_loss: 0.8723 - val_accuracy: 0.6995\n",
      "Epoch 33/100\n",
      "26/26 [==============================] - 8s 290ms/step - loss: 0.9879 - accuracy: 0.6597 - val_loss: 0.8785 - val_accuracy: 0.7044\n",
      "Epoch 34/100\n",
      "26/26 [==============================] - 7s 261ms/step - loss: 0.9381 - accuracy: 0.6968 - val_loss: 0.8233 - val_accuracy: 0.7438\n",
      "Epoch 35/100\n",
      "26/26 [==============================] - 7s 249ms/step - loss: 0.9157 - accuracy: 0.7005 - val_loss: 0.7523 - val_accuracy: 0.7537\n",
      "Epoch 36/100\n",
      "26/26 [==============================] - 5s 212ms/step - loss: 0.8431 - accuracy: 0.7141 - val_loss: 0.7477 - val_accuracy: 0.7389\n",
      "Epoch 37/100\n",
      "26/26 [==============================] - 6s 250ms/step - loss: 0.8346 - accuracy: 0.7215 - val_loss: 0.8724 - val_accuracy: 0.7192\n",
      "Epoch 38/100\n",
      "26/26 [==============================] - 7s 267ms/step - loss: 0.8570 - accuracy: 0.7191 - val_loss: 0.8235 - val_accuracy: 0.7340\n",
      "Epoch 39/100\n",
      "26/26 [==============================] - 7s 253ms/step - loss: 0.8541 - accuracy: 0.7215 - val_loss: 0.7515 - val_accuracy: 0.7586\n",
      "Epoch 40/100\n",
      "26/26 [==============================] - 6s 250ms/step - loss: 0.8530 - accuracy: 0.7265 - val_loss: 0.8775 - val_accuracy: 0.7291\n",
      "Epoch 41/100\n",
      "26/26 [==============================] - 7s 253ms/step - loss: 0.8081 - accuracy: 0.7228 - val_loss: 0.7300 - val_accuracy: 0.7685\n",
      "Epoch 42/100\n",
      "26/26 [==============================] - 7s 254ms/step - loss: 0.8151 - accuracy: 0.7252 - val_loss: 0.7312 - val_accuracy: 0.7882\n",
      "Epoch 43/100\n",
      "26/26 [==============================] - 6s 250ms/step - loss: 0.7197 - accuracy: 0.7735 - val_loss: 0.8040 - val_accuracy: 0.7685\n",
      "Epoch 44/100\n",
      "26/26 [==============================] - 7s 263ms/step - loss: 0.8026 - accuracy: 0.7389 - val_loss: 0.6927 - val_accuracy: 0.7783\n",
      "Epoch 45/100\n",
      "26/26 [==============================] - 7s 255ms/step - loss: 0.7374 - accuracy: 0.7537 - val_loss: 0.7044 - val_accuracy: 0.7931\n",
      "Epoch 46/100\n",
      "26/26 [==============================] - 5s 201ms/step - loss: 0.6927 - accuracy: 0.7512 - val_loss: 0.7114 - val_accuracy: 0.7783\n",
      "Epoch 47/100\n",
      "26/26 [==============================] - 5s 199ms/step - loss: 0.7331 - accuracy: 0.7574 - val_loss: 0.8222 - val_accuracy: 0.7537\n",
      "Epoch 48/100\n",
      "26/26 [==============================] - 5s 195ms/step - loss: 0.6852 - accuracy: 0.7624 - val_loss: 0.7369 - val_accuracy: 0.7734\n",
      "Epoch 49/100\n",
      "26/26 [==============================] - 7s 260ms/step - loss: 0.6748 - accuracy: 0.7710 - val_loss: 0.7418 - val_accuracy: 0.7734\n",
      "Epoch 50/100\n",
      "26/26 [==============================] - 7s 252ms/step - loss: 0.6432 - accuracy: 0.7785 - val_loss: 0.7724 - val_accuracy: 0.7833\n",
      "Epoch 51/100\n",
      "26/26 [==============================] - 7s 260ms/step - loss: 0.5922 - accuracy: 0.8007 - val_loss: 0.8748 - val_accuracy: 0.7044\n",
      "Epoch 52/100\n",
      "26/26 [==============================] - 9s 341ms/step - loss: 0.6802 - accuracy: 0.7785 - val_loss: 0.7484 - val_accuracy: 0.7783\n",
      "Epoch 53/100\n",
      "26/26 [==============================] - 6s 231ms/step - loss: 0.5780 - accuracy: 0.8144 - val_loss: 0.7295 - val_accuracy: 0.7734\n",
      "Epoch 54/100\n",
      "26/26 [==============================] - 5s 200ms/step - loss: 0.6016 - accuracy: 0.7673 - val_loss: 0.6360 - val_accuracy: 0.7980\n",
      "Epoch 55/100\n",
      "26/26 [==============================] - 5s 197ms/step - loss: 0.6131 - accuracy: 0.7908 - val_loss: 0.6165 - val_accuracy: 0.8325\n",
      "Epoch 56/100\n",
      "26/26 [==============================] - 5s 198ms/step - loss: 0.6010 - accuracy: 0.7921 - val_loss: 0.6155 - val_accuracy: 0.8227\n",
      "Epoch 57/100\n",
      "26/26 [==============================] - 6s 227ms/step - loss: 0.5321 - accuracy: 0.8094 - val_loss: 0.5998 - val_accuracy: 0.8473\n",
      "Epoch 58/100\n",
      "26/26 [==============================] - 7s 261ms/step - loss: 0.5192 - accuracy: 0.8181 - val_loss: 0.5846 - val_accuracy: 0.8325\n",
      "Epoch 59/100\n",
      "26/26 [==============================] - 7s 272ms/step - loss: 0.5319 - accuracy: 0.8255 - val_loss: 0.5984 - val_accuracy: 0.8227\n",
      "Epoch 60/100\n",
      "26/26 [==============================] - 7s 277ms/step - loss: 0.5694 - accuracy: 0.8230 - val_loss: 0.5633 - val_accuracy: 0.8276\n",
      "Epoch 61/100\n",
      "26/26 [==============================] - 7s 273ms/step - loss: 0.5239 - accuracy: 0.8156 - val_loss: 0.6718 - val_accuracy: 0.8177\n",
      "Epoch 62/100\n",
      "26/26 [==============================] - 7s 254ms/step - loss: 0.5292 - accuracy: 0.8230 - val_loss: 0.5483 - val_accuracy: 0.8374\n",
      "Epoch 63/100\n",
      "26/26 [==============================] - 7s 274ms/step - loss: 0.5009 - accuracy: 0.8292 - val_loss: 0.6366 - val_accuracy: 0.8177\n",
      "Epoch 64/100\n",
      "26/26 [==============================] - 6s 220ms/step - loss: 0.4604 - accuracy: 0.8502 - val_loss: 0.5168 - val_accuracy: 0.8522\n",
      "Epoch 65/100\n",
      "26/26 [==============================] - 6s 218ms/step - loss: 0.4761 - accuracy: 0.8280 - val_loss: 0.5323 - val_accuracy: 0.8571\n",
      "Epoch 66/100\n",
      "26/26 [==============================] - 6s 228ms/step - loss: 0.4855 - accuracy: 0.8329 - val_loss: 0.5305 - val_accuracy: 0.8325\n",
      "Epoch 67/100\n",
      "26/26 [==============================] - 6s 217ms/step - loss: 0.4880 - accuracy: 0.8342 - val_loss: 0.5280 - val_accuracy: 0.8325\n",
      "Epoch 68/100\n",
      "26/26 [==============================] - 5s 207ms/step - loss: 0.4473 - accuracy: 0.8577 - val_loss: 0.5540 - val_accuracy: 0.8325\n",
      "Epoch 69/100\n",
      "26/26 [==============================] - 6s 221ms/step - loss: 0.4187 - accuracy: 0.8552 - val_loss: 0.5877 - val_accuracy: 0.8128\n",
      "Epoch 70/100\n",
      "26/26 [==============================] - 7s 284ms/step - loss: 0.4937 - accuracy: 0.8416 - val_loss: 0.5230 - val_accuracy: 0.8227\n",
      "Epoch 71/100\n",
      "26/26 [==============================] - 8s 319ms/step - loss: 0.4446 - accuracy: 0.8465 - val_loss: 0.5451 - val_accuracy: 0.8325\n",
      "Epoch 72/100\n",
      "26/26 [==============================] - 8s 321ms/step - loss: 0.4677 - accuracy: 0.8540 - val_loss: 0.5231 - val_accuracy: 0.8424\n",
      "Epoch 73/100\n",
      "26/26 [==============================] - 7s 265ms/step - loss: 0.4328 - accuracy: 0.8552 - val_loss: 0.5983 - val_accuracy: 0.8276\n",
      "Epoch 74/100\n",
      "26/26 [==============================] - 7s 281ms/step - loss: 0.3776 - accuracy: 0.8713 - val_loss: 0.6571 - val_accuracy: 0.8276\n",
      "Epoch 75/100\n",
      "26/26 [==============================] - 7s 265ms/step - loss: 0.4262 - accuracy: 0.8601 - val_loss: 0.5122 - val_accuracy: 0.8571\n",
      "Epoch 76/100\n",
      "26/26 [==============================] - 7s 261ms/step - loss: 0.4157 - accuracy: 0.8478 - val_loss: 0.4971 - val_accuracy: 0.8818\n",
      "Epoch 77/100\n",
      "26/26 [==============================] - 8s 296ms/step - loss: 0.3829 - accuracy: 0.8577 - val_loss: 0.5304 - val_accuracy: 0.8621\n",
      "Epoch 78/100\n",
      "26/26 [==============================] - 7s 261ms/step - loss: 0.3840 - accuracy: 0.8552 - val_loss: 0.5264 - val_accuracy: 0.8818\n",
      "Epoch 79/100\n",
      "26/26 [==============================] - 7s 254ms/step - loss: 0.3783 - accuracy: 0.8614 - val_loss: 0.5651 - val_accuracy: 0.8621\n",
      "Epoch 80/100\n",
      "26/26 [==============================] - 6s 240ms/step - loss: 0.3618 - accuracy: 0.8725 - val_loss: 0.5760 - val_accuracy: 0.8325\n",
      "Epoch 81/100\n",
      "26/26 [==============================] - 6s 223ms/step - loss: 0.4172 - accuracy: 0.8614 - val_loss: 0.4830 - val_accuracy: 0.8670\n",
      "Epoch 82/100\n",
      "26/26 [==============================] - 7s 256ms/step - loss: 0.3388 - accuracy: 0.8861 - val_loss: 0.5605 - val_accuracy: 0.8424\n",
      "Epoch 83/100\n",
      "26/26 [==============================] - 7s 255ms/step - loss: 0.3903 - accuracy: 0.8700 - val_loss: 0.5057 - val_accuracy: 0.8473\n",
      "Epoch 84/100\n",
      "26/26 [==============================] - 6s 233ms/step - loss: 0.3418 - accuracy: 0.8775 - val_loss: 0.4772 - val_accuracy: 0.8621\n",
      "Epoch 85/100\n",
      "26/26 [==============================] - 7s 277ms/step - loss: 0.3487 - accuracy: 0.8787 - val_loss: 0.5237 - val_accuracy: 0.8571\n",
      "Epoch 86/100\n",
      "26/26 [==============================] - 7s 281ms/step - loss: 0.3413 - accuracy: 0.8923 - val_loss: 0.4446 - val_accuracy: 0.9015\n",
      "Epoch 87/100\n",
      "26/26 [==============================] - 8s 299ms/step - loss: 0.3308 - accuracy: 0.8923 - val_loss: 0.4286 - val_accuracy: 0.8670\n",
      "Epoch 88/100\n",
      "26/26 [==============================] - 9s 330ms/step - loss: 0.3813 - accuracy: 0.8688 - val_loss: 0.4882 - val_accuracy: 0.8571\n",
      "Epoch 89/100\n",
      "26/26 [==============================] - 8s 326ms/step - loss: 0.3384 - accuracy: 0.8800 - val_loss: 0.4483 - val_accuracy: 0.8424\n",
      "Epoch 90/100\n",
      "26/26 [==============================] - 7s 244ms/step - loss: 0.3707 - accuracy: 0.8787 - val_loss: 0.5361 - val_accuracy: 0.8374\n",
      "Epoch 91/100\n",
      "26/26 [==============================] - 8s 297ms/step - loss: 0.3466 - accuracy: 0.8874 - val_loss: 0.5330 - val_accuracy: 0.8571\n",
      "Epoch 92/100\n",
      "26/26 [==============================] - 7s 272ms/step - loss: 0.3304 - accuracy: 0.8899 - val_loss: 0.5301 - val_accuracy: 0.8424\n",
      "Epoch 93/100\n",
      "26/26 [==============================] - 7s 264ms/step - loss: 0.3244 - accuracy: 0.8861 - val_loss: 0.4877 - val_accuracy: 0.8571\n",
      "Epoch 94/100\n",
      "26/26 [==============================] - 7s 278ms/step - loss: 0.3806 - accuracy: 0.8564 - val_loss: 0.4823 - val_accuracy: 0.8621\n",
      "Epoch 95/100\n",
      "26/26 [==============================] - 8s 302ms/step - loss: 0.3255 - accuracy: 0.8849 - val_loss: 0.5200 - val_accuracy: 0.8473\n",
      "Epoch 96/100\n",
      "26/26 [==============================] - 6s 246ms/step - loss: 0.3665 - accuracy: 0.8750 - val_loss: 0.5168 - val_accuracy: 0.8670\n",
      "Epoch 97/100\n",
      "26/26 [==============================] - 7s 273ms/step - loss: 0.4091 - accuracy: 0.8614 - val_loss: 0.4353 - val_accuracy: 0.8670\n",
      "Epoch 98/100\n",
      "26/26 [==============================] - 6s 231ms/step - loss: 0.3346 - accuracy: 0.8837 - val_loss: 0.4614 - val_accuracy: 0.8670\n",
      "Epoch 99/100\n",
      "26/26 [==============================] - 6s 236ms/step - loss: 0.3134 - accuracy: 0.8960 - val_loss: 0.4392 - val_accuracy: 0.8670\n",
      "Epoch 100/100\n",
      "26/26 [==============================] - 6s 224ms/step - loss: 0.3353 - accuracy: 0.8787 - val_loss: 0.4591 - val_accuracy: 0.8424\n"
     ]
    }
   ],
   "source": [
    "history = model2.fit(X_train, y_train, epochs=100, validation_split=0.2)"
   ]
  },
  {
   "cell_type": "markdown",
   "id": "ab31e2b0-50af-4221-88f4-50be0d8fe6b5",
   "metadata": {},
   "source": [
    "Maybe too much attempting to regularise as it was not as good as the previous"
   ]
  },
  {
   "cell_type": "code",
   "execution_count": 21,
   "id": "e9c89fdb-380c-4966-98d6-3c7b82c5e785",
   "metadata": {},
   "outputs": [
    {
     "data": {
      "text/plain": [
       "[0.5167811512947083,\n",
       " 0.435343861579895,\n",
       " 0.4613904654979706,\n",
       " 0.43923431634902954,\n",
       " 0.459115207195282]"
      ]
     },
     "execution_count": 21,
     "metadata": {},
     "output_type": "execute_result"
    }
   ],
   "source": [
    "history.history['val_loss'][-5:]"
   ]
  },
  {
   "cell_type": "code",
   "execution_count": 22,
   "id": "a1761a1b-d20c-460d-9d83-0a5a30988e04",
   "metadata": {},
   "outputs": [
    {
     "data": {
      "image/png": "[encoded data removed]",
      "text/plain": [
       "<Figure size 640x480 with 1 Axes>"
      ]
     },
     "metadata": {},
     "output_type": "display_data"
    }
   ],
   "source": [
    "plot_loss(history)"
   ]
  },
  {
   "cell_type": "code",
   "execution_count": 23,
   "id": "fff531d6-dbba-45ea-96a0-4d4640f3b580",
   "metadata": {},
   "outputs": [
    {
     "name": "stdout",
     "output_type": "stream",
     "text": [
      "11/11 [==============================] - 1s 59ms/step - loss: 0.6060 - accuracy: 0.8398\n"
     ]
    },
    {
     "data": {
      "text/plain": [
       "{'loss': 0.6060242056846619, 'accuracy': 0.8397626280784607}"
      ]
     },
     "execution_count": 23,
     "metadata": {},
     "output_type": "execute_result"
    }
   ],
   "source": [
    "model2.evaluate(X_test, y_test, return_dict=True)"
   ]
  },
  {
   "cell_type": "markdown",
   "id": "7760444e-f4dd-4466-b604-de45626c6684",
   "metadata": {},
   "source": [
    "Let's try once more - less data augmentation and dropout set to 0.1 only this time."
   ]
  },
  {
   "cell_type": "code",
   "execution_count": 24,
   "id": "7de46d95-928e-4d1e-b838-7bb6b74d0959",
   "metadata": {},
   "outputs": [],
   "source": [
    "data_augmentation_layers = tf.keras.Sequential([\n",
    "    layers.RandomFlip(\"horizontal\"),\n",
    "    layers.RandomRotation(0.1),\n",
    "])"
   ]
  },
  {
   "cell_type": "code",
   "execution_count": 25,
   "id": "bb2beb63-0859-4c6c-a018-25df5b809c00",
   "metadata": {},
   "outputs": [],
   "source": [
    "model3 = tf.keras.models.Sequential([\n",
    "    tf.keras.Input(shape=(125, 94, 1)),\n",
    "    data_augmentation_layers,\n",
    "    layers.Conv2D(16, 3, padding='same', activation='relu'),\n",
    "    layers.MaxPooling2D(),\n",
    "    layers.Dropout(0.1),\n",
    "    layers.Conv2D(32, 3, padding='same', activation='relu'),\n",
    "    layers.MaxPooling2D(),\n",
    "    layers.Conv2D(64, 3, padding='same', activation='relu'),\n",
    "    layers.MaxPooling2D(),\n",
    "    layers.Dropout(0.1),\n",
    "    layers.Flatten(),\n",
    "    layers.Dense(128, activation='relu'),\n",
    "    layers.Dense(numberofclasses, activation='softmax')])"
   ]
  },
  {
   "cell_type": "code",
   "execution_count": 26,
   "id": "ce448643-425d-4a9e-a102-d9f0cfaf4581",
   "metadata": {},
   "outputs": [],
   "source": [
    "model3.compile(\n",
    "    optimizer=tf.keras.optimizers.Adam(0.001),\n",
    "    loss=tf.keras.losses.SparseCategoricalCrossentropy(from_logits=False),\n",
    "    metrics=['accuracy'],\n",
    ")"
   ]
  },
  {
   "cell_type": "code",
   "execution_count": 27,
   "id": "0feec4fb-0065-4e22-9a6d-1b185723ec82",
   "metadata": {},
   "outputs": [
    {
     "name": "stdout",
     "output_type": "stream",
     "text": [
      "Epoch 1/50\n",
      "26/26 [==============================] - 12s 313ms/step - loss: 1.8367 - accuracy: 0.3800 - val_loss: 1.7975 - val_accuracy: 0.3744\n",
      "Epoch 2/50\n",
      "26/26 [==============================] - 6s 245ms/step - loss: 1.8118 - accuracy: 0.3911 - val_loss: 1.8392 - val_accuracy: 0.3744\n",
      "Epoch 3/50\n",
      "26/26 [==============================] - 7s 255ms/step - loss: 1.7956 - accuracy: 0.3911 - val_loss: 1.8306 - val_accuracy: 0.3744\n",
      "Epoch 4/50\n",
      "26/26 [==============================] - 7s 263ms/step - loss: 1.7817 - accuracy: 0.3948 - val_loss: 1.7872 - val_accuracy: 0.3744\n",
      "Epoch 5/50\n",
      "26/26 [==============================] - 6s 220ms/step - loss: 1.7293 - accuracy: 0.4010 - val_loss: 1.7083 - val_accuracy: 0.3941\n",
      "Epoch 6/50\n",
      "26/26 [==============================] - 7s 258ms/step - loss: 1.5964 - accuracy: 0.4381 - val_loss: 1.5409 - val_accuracy: 0.4384\n",
      "Epoch 7/50\n",
      "26/26 [==============================] - 5s 208ms/step - loss: 1.4434 - accuracy: 0.4790 - val_loss: 1.4353 - val_accuracy: 0.4975\n",
      "Epoch 8/50\n",
      "26/26 [==============================] - 5s 195ms/step - loss: 1.3189 - accuracy: 0.5396 - val_loss: 1.2158 - val_accuracy: 0.5665\n",
      "Epoch 9/50\n",
      "26/26 [==============================] - 6s 223ms/step - loss: 1.1570 - accuracy: 0.6027 - val_loss: 1.0332 - val_accuracy: 0.6355\n",
      "Epoch 10/50\n",
      "26/26 [==============================] - 6s 216ms/step - loss: 0.9588 - accuracy: 0.6918 - val_loss: 0.8728 - val_accuracy: 0.7192\n",
      "Epoch 11/50\n",
      "26/26 [==============================] - 7s 265ms/step - loss: 0.8768 - accuracy: 0.7092 - val_loss: 0.8304 - val_accuracy: 0.7389\n",
      "Epoch 12/50\n",
      "26/26 [==============================] - 7s 260ms/step - loss: 0.7811 - accuracy: 0.7302 - val_loss: 0.9988 - val_accuracy: 0.6847\n",
      "Epoch 13/50\n",
      "26/26 [==============================] - 7s 253ms/step - loss: 0.7038 - accuracy: 0.7661 - val_loss: 0.6970 - val_accuracy: 0.7635\n",
      "Epoch 14/50\n",
      "26/26 [==============================] - 7s 263ms/step - loss: 0.6277 - accuracy: 0.7933 - val_loss: 0.8231 - val_accuracy: 0.7685\n",
      "Epoch 15/50\n",
      "26/26 [==============================] - 6s 233ms/step - loss: 0.5554 - accuracy: 0.8193 - val_loss: 0.5798 - val_accuracy: 0.8128\n",
      "Epoch 16/50\n",
      "26/26 [==============================] - 6s 241ms/step - loss: 0.5377 - accuracy: 0.8292 - val_loss: 0.6239 - val_accuracy: 0.7980\n",
      "Epoch 17/50\n",
      "26/26 [==============================] - 7s 260ms/step - loss: 0.5193 - accuracy: 0.8366 - val_loss: 0.5449 - val_accuracy: 0.8227\n",
      "Epoch 18/50\n",
      "26/26 [==============================] - 6s 220ms/step - loss: 0.5482 - accuracy: 0.8144 - val_loss: 0.5706 - val_accuracy: 0.8177\n",
      "Epoch 19/50\n",
      "26/26 [==============================] - 5s 210ms/step - loss: 0.4784 - accuracy: 0.8515 - val_loss: 0.5706 - val_accuracy: 0.7931\n",
      "Epoch 20/50\n",
      "26/26 [==============================] - 5s 202ms/step - loss: 0.4122 - accuracy: 0.8738 - val_loss: 0.5835 - val_accuracy: 0.8128\n",
      "Epoch 21/50\n",
      "26/26 [==============================] - 6s 224ms/step - loss: 0.3897 - accuracy: 0.8824 - val_loss: 0.6267 - val_accuracy: 0.8177\n",
      "Epoch 22/50\n",
      "26/26 [==============================] - 6s 233ms/step - loss: 0.3994 - accuracy: 0.8601 - val_loss: 0.5478 - val_accuracy: 0.8424\n",
      "Epoch 23/50\n",
      "26/26 [==============================] - 7s 253ms/step - loss: 0.4166 - accuracy: 0.8601 - val_loss: 0.5072 - val_accuracy: 0.8473\n",
      "Epoch 24/50\n",
      "26/26 [==============================] - 8s 293ms/step - loss: 0.3351 - accuracy: 0.8936 - val_loss: 0.4988 - val_accuracy: 0.8374\n",
      "Epoch 25/50\n",
      "26/26 [==============================] - 8s 294ms/step - loss: 0.3186 - accuracy: 0.8936 - val_loss: 0.4422 - val_accuracy: 0.8571\n",
      "Epoch 26/50\n",
      "26/26 [==============================] - 7s 251ms/step - loss: 0.3250 - accuracy: 0.8948 - val_loss: 0.5699 - val_accuracy: 0.8079\n",
      "Epoch 27/50\n",
      "26/26 [==============================] - 8s 318ms/step - loss: 0.3204 - accuracy: 0.8911 - val_loss: 0.5211 - val_accuracy: 0.8227\n",
      "Epoch 28/50\n",
      "26/26 [==============================] - 11s 400ms/step - loss: 0.3026 - accuracy: 0.9035 - val_loss: 0.5608 - val_accuracy: 0.8128\n",
      "Epoch 29/50\n",
      "26/26 [==============================] - 8s 296ms/step - loss: 0.2655 - accuracy: 0.9158 - val_loss: 0.4946 - val_accuracy: 0.8571\n",
      "Epoch 30/50\n",
      "26/26 [==============================] - 8s 301ms/step - loss: 0.2496 - accuracy: 0.9208 - val_loss: 0.4544 - val_accuracy: 0.8768\n",
      "Epoch 31/50\n",
      "26/26 [==============================] - 10s 356ms/step - loss: 0.2328 - accuracy: 0.9233 - val_loss: 0.5168 - val_accuracy: 0.8621\n",
      "Epoch 32/50\n",
      "26/26 [==============================] - 7s 280ms/step - loss: 0.2966 - accuracy: 0.8948 - val_loss: 0.5276 - val_accuracy: 0.8325\n",
      "Epoch 33/50\n",
      "26/26 [==============================] - 6s 249ms/step - loss: 0.2807 - accuracy: 0.9097 - val_loss: 0.5419 - val_accuracy: 0.8227\n",
      "Epoch 34/50\n",
      "26/26 [==============================] - 9s 347ms/step - loss: 0.2503 - accuracy: 0.9196 - val_loss: 0.4892 - val_accuracy: 0.8522\n",
      "Epoch 35/50\n",
      "26/26 [==============================] - 10s 403ms/step - loss: 0.2069 - accuracy: 0.9332 - val_loss: 0.4743 - val_accuracy: 0.8719\n",
      "Epoch 36/50\n",
      "26/26 [==============================] - 9s 319ms/step - loss: 0.1656 - accuracy: 0.9468 - val_loss: 0.4661 - val_accuracy: 0.8719\n",
      "Epoch 37/50\n",
      "26/26 [==============================] - 8s 300ms/step - loss: 0.1843 - accuracy: 0.9369 - val_loss: 0.4312 - val_accuracy: 0.8571\n",
      "Epoch 38/50\n",
      "26/26 [==============================] - 7s 272ms/step - loss: 0.1602 - accuracy: 0.9394 - val_loss: 0.4840 - val_accuracy: 0.8768\n",
      "Epoch 39/50\n",
      "26/26 [==============================] - 7s 285ms/step - loss: 0.1685 - accuracy: 0.9505 - val_loss: 0.5043 - val_accuracy: 0.8867\n",
      "Epoch 40/50\n",
      "26/26 [==============================] - 7s 274ms/step - loss: 0.1526 - accuracy: 0.9493 - val_loss: 0.5284 - val_accuracy: 0.8621\n",
      "Epoch 41/50\n",
      "26/26 [==============================] - 6s 231ms/step - loss: 0.1347 - accuracy: 0.9579 - val_loss: 0.5608 - val_accuracy: 0.8473\n",
      "Epoch 42/50\n",
      "26/26 [==============================] - 7s 255ms/step - loss: 0.1760 - accuracy: 0.9505 - val_loss: 0.5198 - val_accuracy: 0.8670\n",
      "Epoch 43/50\n",
      "26/26 [==============================] - 6s 232ms/step - loss: 0.1446 - accuracy: 0.9493 - val_loss: 0.5194 - val_accuracy: 0.8424\n",
      "Epoch 44/50\n",
      "26/26 [==============================] - 7s 258ms/step - loss: 0.1713 - accuracy: 0.9418 - val_loss: 0.4955 - val_accuracy: 0.8818\n",
      "Epoch 45/50\n",
      "26/26 [==============================] - 7s 280ms/step - loss: 0.2084 - accuracy: 0.9245 - val_loss: 0.5303 - val_accuracy: 0.8719\n",
      "Epoch 46/50\n",
      "26/26 [==============================] - 8s 313ms/step - loss: 0.1372 - accuracy: 0.9542 - val_loss: 0.5194 - val_accuracy: 0.8966\n",
      "Epoch 47/50\n",
      "26/26 [==============================] - 7s 257ms/step - loss: 0.1102 - accuracy: 0.9678 - val_loss: 0.4394 - val_accuracy: 0.9113\n",
      "Epoch 48/50\n",
      "26/26 [==============================] - 8s 302ms/step - loss: 0.1033 - accuracy: 0.9666 - val_loss: 0.4764 - val_accuracy: 0.8867\n",
      "Epoch 49/50\n",
      "26/26 [==============================] - 8s 316ms/step - loss: 0.0899 - accuracy: 0.9740 - val_loss: 0.5899 - val_accuracy: 0.8621\n",
      "Epoch 50/50\n",
      "26/26 [==============================] - 10s 381ms/step - loss: 0.1007 - accuracy: 0.9678 - val_loss: 0.6537 - val_accuracy: 0.8374\n"
     ]
    }
   ],
   "source": [
    "history = model3.fit(X_train, y_train, epochs=50, validation_split=0.2)"
   ]
  },
  {
   "cell_type": "markdown",
   "id": "b89e8cc5-349a-45da-ae37-b933e3e00b6d",
   "metadata": {},
   "source": [
    "Maybe a few more epochs"
   ]
  },
  {
   "cell_type": "code",
   "execution_count": 28,
   "id": "17e10e56-c8df-4046-a8e3-2cc96bb7523d",
   "metadata": {},
   "outputs": [
    {
     "name": "stdout",
     "output_type": "stream",
     "text": [
      "Epoch 1/20\n",
      "26/26 [==============================] - 8s 308ms/step - loss: 0.1124 - accuracy: 0.9567 - val_loss: 0.5288 - val_accuracy: 0.8621\n",
      "Epoch 2/20\n",
      "26/26 [==============================] - 7s 278ms/step - loss: 0.1132 - accuracy: 0.9592 - val_loss: 0.4774 - val_accuracy: 0.9113\n",
      "Epoch 3/20\n",
      "26/26 [==============================] - 6s 234ms/step - loss: 0.0776 - accuracy: 0.9765 - val_loss: 0.5110 - val_accuracy: 0.8867\n",
      "Epoch 4/20\n",
      "26/26 [==============================] - 6s 222ms/step - loss: 0.0903 - accuracy: 0.9728 - val_loss: 0.5111 - val_accuracy: 0.8818\n",
      "Epoch 5/20\n",
      "26/26 [==============================] - 6s 223ms/step - loss: 0.0970 - accuracy: 0.9666 - val_loss: 0.4771 - val_accuracy: 0.8768\n",
      "Epoch 6/20\n",
      "26/26 [==============================] - 6s 220ms/step - loss: 0.1177 - accuracy: 0.9715 - val_loss: 0.4841 - val_accuracy: 0.8818\n",
      "Epoch 7/20\n",
      "26/26 [==============================] - 6s 243ms/step - loss: 0.0943 - accuracy: 0.9715 - val_loss: 0.4962 - val_accuracy: 0.8621\n",
      "Epoch 8/20\n",
      "26/26 [==============================] - 7s 264ms/step - loss: 0.0938 - accuracy: 0.9715 - val_loss: 0.4341 - val_accuracy: 0.9163\n",
      "Epoch 9/20\n",
      "26/26 [==============================] - 9s 352ms/step - loss: 0.0912 - accuracy: 0.9715 - val_loss: 0.4887 - val_accuracy: 0.8768\n",
      "Epoch 10/20\n",
      "26/26 [==============================] - 7s 274ms/step - loss: 0.1327 - accuracy: 0.9604 - val_loss: 0.4624 - val_accuracy: 0.8571\n",
      "Epoch 11/20\n",
      "26/26 [==============================] - 7s 249ms/step - loss: 0.1019 - accuracy: 0.9653 - val_loss: 0.4778 - val_accuracy: 0.8966\n",
      "Epoch 12/20\n",
      "26/26 [==============================] - 6s 236ms/step - loss: 0.0902 - accuracy: 0.9666 - val_loss: 0.4554 - val_accuracy: 0.9064\n",
      "Epoch 13/20\n",
      "26/26 [==============================] - 6s 224ms/step - loss: 0.0761 - accuracy: 0.9790 - val_loss: 0.5005 - val_accuracy: 0.8867\n",
      "Epoch 14/20\n",
      "26/26 [==============================] - 6s 215ms/step - loss: 0.1091 - accuracy: 0.9629 - val_loss: 0.4704 - val_accuracy: 0.8867\n",
      "Epoch 15/20\n",
      "26/26 [==============================] - 5s 201ms/step - loss: 0.1063 - accuracy: 0.9641 - val_loss: 0.4744 - val_accuracy: 0.8867\n",
      "Epoch 16/20\n",
      "26/26 [==============================] - 5s 200ms/step - loss: 0.0840 - accuracy: 0.9728 - val_loss: 0.5171 - val_accuracy: 0.8670\n",
      "Epoch 17/20\n",
      "26/26 [==============================] - 5s 201ms/step - loss: 0.0577 - accuracy: 0.9827 - val_loss: 0.5024 - val_accuracy: 0.9015\n",
      "Epoch 18/20\n",
      "26/26 [==============================] - 8s 299ms/step - loss: 0.0647 - accuracy: 0.9790 - val_loss: 0.5128 - val_accuracy: 0.8768\n",
      "Epoch 19/20\n",
      "26/26 [==============================] - 6s 248ms/step - loss: 0.0495 - accuracy: 0.9851 - val_loss: 0.5866 - val_accuracy: 0.8818\n",
      "Epoch 20/20\n",
      "26/26 [==============================] - 6s 239ms/step - loss: 0.0657 - accuracy: 0.9814 - val_loss: 0.6525 - val_accuracy: 0.8670\n"
     ]
    },
    {
     "data": {
      "text/plain": [
       "<keras.src.callbacks.History at 0x2066168a990>"
      ]
     },
     "execution_count": 28,
     "metadata": {},
     "output_type": "execute_result"
    }
   ],
   "source": [
    "model3.fit(X_train, y_train, epochs=20, validation_split=0.2)"
   ]
  },
  {
   "cell_type": "code",
   "execution_count": 29,
   "id": "552a2996-df63-4894-906f-dc7becc74bda",
   "metadata": {},
   "outputs": [
    {
     "name": "stdout",
     "output_type": "stream",
     "text": [
      "11/11 [==============================] - 1s 51ms/step - loss: 0.8948 - accuracy: 0.8427\n"
     ]
    },
    {
     "data": {
      "text/plain": [
       "{'loss': 0.8947827219963074, 'accuracy': 0.8427299857139587}"
      ]
     },
     "execution_count": 29,
     "metadata": {},
     "output_type": "execute_result"
    }
   ],
   "source": [
    "model3.evaluate(X_test, y_test, return_dict=True)"
   ]
  },
  {
   "cell_type": "markdown",
   "id": "13816d00-607a-486f-bc2b-f27166d819e2",
   "metadata": {},
   "source": [
    ".8867 validation accuracy the highest so far I think (in the first attempted method), although there was higher in earlier epochs above (your numbers will vary), also a lower val_loss in the earlier epoch too. Can still try more things if you want. One thing I'm going to try is a different optimiser"
   ]
  },
  {
   "cell_type": "code",
   "execution_count": 30,
   "id": "6ae281de-eb36-4983-a735-6087c973eae0",
   "metadata": {},
   "outputs": [],
   "source": [
    "model4 = tf.keras.models.Sequential([\n",
    "tf.keras.Input(shape=(125, 94, 1)),\n",
    "data_augmentation_layers,\n",
    "layers.Conv2D(16, 3, padding='same', activation='relu'),\n",
    "layers.MaxPooling2D(),\n",
    "layers.Dropout(0.1),\n",
    "layers.Conv2D(32, 3, padding='same', activation='relu'),\n",
    "layers.MaxPooling2D(),\n",
    "layers.Conv2D(64, 3, padding='same', activation='relu'),\n",
    "layers.MaxPooling2D(),\n",
    "layers.Dropout(0.1),\n",
    "layers.Flatten(),\n",
    "layers.Dense(128, activation='relu'),\n",
    "layers.Dense(numberofclasses, activation='softmax')])"
   ]
  },
  {
   "cell_type": "code",
   "execution_count": 31,
   "id": "ce05fa3e-6b56-4435-92df-02873ff71080",
   "metadata": {},
   "outputs": [],
   "source": [
    "model4.compile(\n",
    "    optimizer='rmsprop',\n",
    "    loss=tf.keras.losses.SparseCategoricalCrossentropy(from_logits=False),\n",
    "    metrics=['accuracy'],\n",
    ")"
   ]
  },
  {
   "cell_type": "code",
   "execution_count": 32,
   "id": "33bc15c4-54b3-4f3b-b075-899bc0a2bc1b",
   "metadata": {},
   "outputs": [
    {
     "name": "stdout",
     "output_type": "stream",
     "text": [
      "Epoch 1/50\n",
      "26/26 [==============================] - 9s 246ms/step - loss: 2.0144 - accuracy: 0.3329 - val_loss: 1.9766 - val_accuracy: 0.3744\n",
      "Epoch 2/50\n",
      "26/26 [==============================] - 5s 208ms/step - loss: 1.8322 - accuracy: 0.3911 - val_loss: 1.8659 - val_accuracy: 0.3744\n",
      "Epoch 3/50\n",
      "26/26 [==============================] - 6s 233ms/step - loss: 1.8144 - accuracy: 0.3911 - val_loss: 1.7932 - val_accuracy: 0.3744\n",
      "Epoch 4/50\n",
      "26/26 [==============================] - 5s 195ms/step - loss: 1.7992 - accuracy: 0.3911 - val_loss: 1.8838 - val_accuracy: 0.3744\n",
      "Epoch 5/50\n",
      "26/26 [==============================] - 5s 211ms/step - loss: 1.7907 - accuracy: 0.3911 - val_loss: 1.8355 - val_accuracy: 0.3744\n",
      "Epoch 6/50\n",
      "26/26 [==============================] - 5s 199ms/step - loss: 1.7849 - accuracy: 0.3936 - val_loss: 1.7930 - val_accuracy: 0.3744\n",
      "Epoch 7/50\n",
      "26/26 [==============================] - 5s 195ms/step - loss: 1.7599 - accuracy: 0.4059 - val_loss: 1.7929 - val_accuracy: 0.2709\n",
      "Epoch 8/50\n",
      "26/26 [==============================] - 5s 207ms/step - loss: 1.6864 - accuracy: 0.4295 - val_loss: 1.6040 - val_accuracy: 0.4729\n",
      "Epoch 9/50\n",
      "26/26 [==============================] - 8s 331ms/step - loss: 1.5966 - accuracy: 0.4542 - val_loss: 1.5038 - val_accuracy: 0.5222\n",
      "Epoch 10/50\n",
      "26/26 [==============================] - 8s 296ms/step - loss: 1.5076 - accuracy: 0.4703 - val_loss: 1.5579 - val_accuracy: 0.4483\n",
      "Epoch 11/50\n",
      "26/26 [==============================] - 7s 282ms/step - loss: 1.4067 - accuracy: 0.4950 - val_loss: 1.3976 - val_accuracy: 0.4926\n",
      "Epoch 12/50\n",
      "26/26 [==============================] - 6s 251ms/step - loss: 1.2621 - accuracy: 0.5619 - val_loss: 1.0777 - val_accuracy: 0.6453\n",
      "Epoch 13/50\n",
      "26/26 [==============================] - 7s 273ms/step - loss: 1.1756 - accuracy: 0.5941 - val_loss: 1.0291 - val_accuracy: 0.6552\n",
      "Epoch 14/50\n",
      "26/26 [==============================] - 7s 275ms/step - loss: 1.1034 - accuracy: 0.6126 - val_loss: 0.9912 - val_accuracy: 0.6650\n",
      "Epoch 15/50\n",
      "26/26 [==============================] - 6s 219ms/step - loss: 1.0168 - accuracy: 0.6683 - val_loss: 1.2659 - val_accuracy: 0.5025\n",
      "Epoch 16/50\n",
      "26/26 [==============================] - 6s 251ms/step - loss: 0.9301 - accuracy: 0.6931 - val_loss: 1.5790 - val_accuracy: 0.3645\n",
      "Epoch 17/50\n",
      "26/26 [==============================] - 5s 199ms/step - loss: 0.8836 - accuracy: 0.6757 - val_loss: 0.8464 - val_accuracy: 0.6650\n",
      "Epoch 18/50\n",
      "26/26 [==============================] - 6s 247ms/step - loss: 0.8190 - accuracy: 0.7339 - val_loss: 0.8757 - val_accuracy: 0.7192\n",
      "Epoch 19/50\n",
      "26/26 [==============================] - 9s 350ms/step - loss: 0.7897 - accuracy: 0.7401 - val_loss: 0.8144 - val_accuracy: 0.7438\n",
      "Epoch 20/50\n",
      "26/26 [==============================] - 7s 283ms/step - loss: 0.7051 - accuracy: 0.7599 - val_loss: 1.1985 - val_accuracy: 0.5222\n",
      "Epoch 21/50\n",
      "26/26 [==============================] - 8s 320ms/step - loss: 0.7151 - accuracy: 0.7673 - val_loss: 1.6235 - val_accuracy: 0.4680\n",
      "Epoch 22/50\n",
      "26/26 [==============================] - 9s 341ms/step - loss: 0.7270 - accuracy: 0.7686 - val_loss: 1.4041 - val_accuracy: 0.5172\n",
      "Epoch 23/50\n",
      "26/26 [==============================] - 8s 304ms/step - loss: 0.6741 - accuracy: 0.7785 - val_loss: 0.6308 - val_accuracy: 0.8128\n",
      "Epoch 24/50\n",
      "26/26 [==============================] - 6s 241ms/step - loss: 0.5727 - accuracy: 0.8156 - val_loss: 0.7149 - val_accuracy: 0.8079\n",
      "Epoch 25/50\n",
      "26/26 [==============================] - 5s 211ms/step - loss: 0.5845 - accuracy: 0.8156 - val_loss: 0.7522 - val_accuracy: 0.7537\n",
      "Epoch 26/50\n",
      "26/26 [==============================] - 6s 250ms/step - loss: 0.5403 - accuracy: 0.8230 - val_loss: 0.9511 - val_accuracy: 0.7094\n",
      "Epoch 27/50\n",
      "26/26 [==============================] - 10s 365ms/step - loss: 0.5424 - accuracy: 0.8342 - val_loss: 0.7551 - val_accuracy: 0.7783\n",
      "Epoch 28/50\n",
      "26/26 [==============================] - 7s 273ms/step - loss: 0.5383 - accuracy: 0.8218 - val_loss: 0.9862 - val_accuracy: 0.6847\n",
      "Epoch 29/50\n",
      "26/26 [==============================] - 8s 309ms/step - loss: 0.5163 - accuracy: 0.8304 - val_loss: 0.9070 - val_accuracy: 0.6946\n",
      "Epoch 30/50\n",
      "26/26 [==============================] - 9s 349ms/step - loss: 0.4939 - accuracy: 0.8527 - val_loss: 0.5637 - val_accuracy: 0.8522\n",
      "Epoch 31/50\n",
      "26/26 [==============================] - 8s 303ms/step - loss: 0.4577 - accuracy: 0.8626 - val_loss: 0.6892 - val_accuracy: 0.7882\n",
      "Epoch 32/50\n",
      "26/26 [==============================] - 9s 360ms/step - loss: 0.4888 - accuracy: 0.8490 - val_loss: 0.5947 - val_accuracy: 0.8227\n",
      "Epoch 33/50\n",
      "26/26 [==============================] - 7s 249ms/step - loss: 0.3597 - accuracy: 0.8911 - val_loss: 1.2411 - val_accuracy: 0.6749\n",
      "Epoch 34/50\n",
      "26/26 [==============================] - 5s 207ms/step - loss: 0.4410 - accuracy: 0.8589 - val_loss: 0.6273 - val_accuracy: 0.8128\n",
      "Epoch 35/50\n",
      "26/26 [==============================] - 5s 204ms/step - loss: 0.3435 - accuracy: 0.8911 - val_loss: 0.9425 - val_accuracy: 0.7389\n",
      "Epoch 36/50\n",
      "26/26 [==============================] - 6s 226ms/step - loss: 0.4097 - accuracy: 0.8700 - val_loss: 0.6143 - val_accuracy: 0.8227\n",
      "Epoch 37/50\n",
      "26/26 [==============================] - 6s 239ms/step - loss: 0.3504 - accuracy: 0.8874 - val_loss: 0.7908 - val_accuracy: 0.7931\n",
      "Epoch 38/50\n",
      "26/26 [==============================] - 6s 243ms/step - loss: 0.3028 - accuracy: 0.8985 - val_loss: 0.4726 - val_accuracy: 0.8719\n",
      "Epoch 39/50\n",
      "26/26 [==============================] - 7s 260ms/step - loss: 0.3565 - accuracy: 0.8861 - val_loss: 0.5646 - val_accuracy: 0.8522\n",
      "Epoch 40/50\n",
      "26/26 [==============================] - 7s 260ms/step - loss: 0.3314 - accuracy: 0.8861 - val_loss: 0.5159 - val_accuracy: 0.8473\n",
      "Epoch 41/50\n",
      "26/26 [==============================] - 7s 254ms/step - loss: 0.2581 - accuracy: 0.9220 - val_loss: 0.5937 - val_accuracy: 0.8325\n",
      "Epoch 42/50\n",
      "26/26 [==============================] - 7s 259ms/step - loss: 0.2289 - accuracy: 0.9233 - val_loss: 0.5240 - val_accuracy: 0.8522\n",
      "Epoch 43/50\n",
      "26/26 [==============================] - 7s 263ms/step - loss: 0.2416 - accuracy: 0.9208 - val_loss: 0.9250 - val_accuracy: 0.7783\n",
      "Epoch 44/50\n",
      "26/26 [==============================] - 6s 249ms/step - loss: 0.2332 - accuracy: 0.9245 - val_loss: 1.1529 - val_accuracy: 0.7192\n",
      "Epoch 45/50\n",
      "26/26 [==============================] - 6s 219ms/step - loss: 0.2606 - accuracy: 0.9134 - val_loss: 0.4763 - val_accuracy: 0.8424\n",
      "Epoch 46/50\n",
      "26/26 [==============================] - 5s 196ms/step - loss: 0.2008 - accuracy: 0.9356 - val_loss: 0.4995 - val_accuracy: 0.8424\n",
      "Epoch 47/50\n",
      "26/26 [==============================] - 5s 210ms/step - loss: 0.2008 - accuracy: 0.9319 - val_loss: 0.6219 - val_accuracy: 0.8325\n",
      "Epoch 48/50\n",
      "26/26 [==============================] - 5s 208ms/step - loss: 0.2586 - accuracy: 0.9171 - val_loss: 0.5682 - val_accuracy: 0.8768\n",
      "Epoch 49/50\n",
      "26/26 [==============================] - 6s 222ms/step - loss: 0.1888 - accuracy: 0.9332 - val_loss: 0.5678 - val_accuracy: 0.8473\n",
      "Epoch 50/50\n",
      "26/26 [==============================] - 7s 271ms/step - loss: 0.2012 - accuracy: 0.9381 - val_loss: 0.5822 - val_accuracy: 0.8571\n"
     ]
    },
    {
     "data": {
      "text/plain": [
       "<keras.src.callbacks.History at 0x2065fe68650>"
      ]
     },
     "execution_count": 32,
     "metadata": {},
     "output_type": "execute_result"
    }
   ],
   "source": [
    "model4.fit(X_train, y_train, epochs=50, validation_split=0.2)"
   ]
  },
  {
   "cell_type": "code",
   "execution_count": 33,
   "id": "aa15ccbd-e5b3-4e9d-a08e-812c4be256c6",
   "metadata": {},
   "outputs": [
    {
     "name": "stdout",
     "output_type": "stream",
     "text": [
      "Epoch 1/30\n",
      "26/26 [==============================] - 7s 264ms/step - loss: 0.2079 - accuracy: 0.9233 - val_loss: 0.6102 - val_accuracy: 0.8325\n",
      "Epoch 2/30\n",
      "26/26 [==============================] - 7s 259ms/step - loss: 0.1800 - accuracy: 0.9369 - val_loss: 0.5427 - val_accuracy: 0.8719\n",
      "Epoch 3/30\n",
      "26/26 [==============================] - 7s 255ms/step - loss: 0.2315 - accuracy: 0.9245 - val_loss: 0.5694 - val_accuracy: 0.8424\n",
      "Epoch 4/30\n",
      "26/26 [==============================] - 7s 256ms/step - loss: 0.1757 - accuracy: 0.9394 - val_loss: 0.6933 - val_accuracy: 0.8473\n",
      "Epoch 5/30\n",
      "26/26 [==============================] - 7s 259ms/step - loss: 0.1858 - accuracy: 0.9332 - val_loss: 0.4476 - val_accuracy: 0.8818\n",
      "Epoch 6/30\n",
      "26/26 [==============================] - 7s 263ms/step - loss: 0.1468 - accuracy: 0.9530 - val_loss: 0.4033 - val_accuracy: 0.9064\n",
      "Epoch 7/30\n",
      "26/26 [==============================] - 7s 257ms/step - loss: 0.1555 - accuracy: 0.9455 - val_loss: 0.4922 - val_accuracy: 0.8670\n",
      "Epoch 8/30\n",
      "26/26 [==============================] - 7s 256ms/step - loss: 0.1354 - accuracy: 0.9493 - val_loss: 0.5801 - val_accuracy: 0.8621\n",
      "Epoch 9/30\n",
      "26/26 [==============================] - 8s 310ms/step - loss: 0.1275 - accuracy: 0.9554 - val_loss: 0.4972 - val_accuracy: 0.8818\n",
      "Epoch 10/30\n",
      "26/26 [==============================] - 5s 202ms/step - loss: 0.1770 - accuracy: 0.9381 - val_loss: 0.3837 - val_accuracy: 0.8966\n",
      "Epoch 11/30\n",
      "26/26 [==============================] - 5s 196ms/step - loss: 0.0915 - accuracy: 0.9678 - val_loss: 0.5086 - val_accuracy: 0.8719\n",
      "Epoch 12/30\n",
      "26/26 [==============================] - 5s 201ms/step - loss: 0.1440 - accuracy: 0.9604 - val_loss: 0.5056 - val_accuracy: 0.8867\n",
      "Epoch 13/30\n",
      "26/26 [==============================] - 6s 239ms/step - loss: 0.1358 - accuracy: 0.9567 - val_loss: 0.5784 - val_accuracy: 0.8621\n",
      "Epoch 14/30\n",
      "26/26 [==============================] - 6s 248ms/step - loss: 0.1097 - accuracy: 0.9629 - val_loss: 0.4061 - val_accuracy: 0.8670\n",
      "Epoch 15/30\n",
      "26/26 [==============================] - 6s 242ms/step - loss: 0.1298 - accuracy: 0.9567 - val_loss: 0.4976 - val_accuracy: 0.8473\n",
      "Epoch 16/30\n",
      "26/26 [==============================] - 6s 248ms/step - loss: 0.0816 - accuracy: 0.9777 - val_loss: 0.7030 - val_accuracy: 0.8276\n",
      "Epoch 17/30\n",
      "26/26 [==============================] - 6s 249ms/step - loss: 0.1283 - accuracy: 0.9517 - val_loss: 0.3838 - val_accuracy: 0.8916\n",
      "Epoch 18/30\n",
      "26/26 [==============================] - 7s 253ms/step - loss: 0.1220 - accuracy: 0.9579 - val_loss: 0.3746 - val_accuracy: 0.8818\n",
      "Epoch 19/30\n",
      "26/26 [==============================] - 6s 245ms/step - loss: 0.0949 - accuracy: 0.9653 - val_loss: 0.5984 - val_accuracy: 0.8571\n",
      "Epoch 20/30\n",
      "26/26 [==============================] - 5s 205ms/step - loss: 0.1047 - accuracy: 0.9641 - val_loss: 0.3909 - val_accuracy: 0.9015\n",
      "Epoch 21/30\n",
      "26/26 [==============================] - 5s 200ms/step - loss: 0.0908 - accuracy: 0.9691 - val_loss: 0.4582 - val_accuracy: 0.8818\n",
      "Epoch 22/30\n",
      "26/26 [==============================] - 6s 239ms/step - loss: 0.0902 - accuracy: 0.9728 - val_loss: 0.4212 - val_accuracy: 0.8916\n",
      "Epoch 23/30\n",
      "26/26 [==============================] - 7s 254ms/step - loss: 0.0947 - accuracy: 0.9678 - val_loss: 0.3930 - val_accuracy: 0.8916\n",
      "Epoch 24/30\n",
      "26/26 [==============================] - 6s 229ms/step - loss: 0.0943 - accuracy: 0.9728 - val_loss: 0.3771 - val_accuracy: 0.8966\n",
      "Epoch 25/30\n",
      "26/26 [==============================] - 6s 235ms/step - loss: 0.0991 - accuracy: 0.9666 - val_loss: 0.4068 - val_accuracy: 0.9212\n",
      "Epoch 26/30\n",
      "26/26 [==============================] - 5s 204ms/step - loss: 0.0651 - accuracy: 0.9777 - val_loss: 0.5115 - val_accuracy: 0.8867\n",
      "Epoch 27/30\n",
      "26/26 [==============================] - 5s 196ms/step - loss: 0.0866 - accuracy: 0.9777 - val_loss: 0.4123 - val_accuracy: 0.9015\n",
      "Epoch 28/30\n",
      "26/26 [==============================] - 6s 215ms/step - loss: 0.0645 - accuracy: 0.9790 - val_loss: 0.5156 - val_accuracy: 0.8966\n",
      "Epoch 29/30\n",
      "26/26 [==============================] - 7s 258ms/step - loss: 0.0661 - accuracy: 0.9790 - val_loss: 0.5952 - val_accuracy: 0.8867\n",
      "Epoch 30/30\n",
      "26/26 [==============================] - 7s 258ms/step - loss: 0.0948 - accuracy: 0.9740 - val_loss: 0.4383 - val_accuracy: 0.9064\n"
     ]
    },
    {
     "data": {
      "text/plain": [
       "<keras.src.callbacks.History at 0x206625a6c90>"
      ]
     },
     "execution_count": 33,
     "metadata": {},
     "output_type": "execute_result"
    }
   ],
   "source": [
    "model4.fit(X_train, y_train, epochs=30, validation_split=0.2)"
   ]
  },
  {
   "cell_type": "markdown",
   "id": "a5e974d3-18bd-4fa5-8d3b-415766ed6fc7",
   "metadata": {},
   "source": [
    "Highest val accuracy so far, although the val_loss not the lowest, let's try test set"
   ]
  },
  {
   "cell_type": "code",
   "execution_count": 34,
   "id": "8e7c180e-88c7-44e1-aa65-7072dcdd14b7",
   "metadata": {},
   "outputs": [
    {
     "name": "stdout",
     "output_type": "stream",
     "text": [
      "11/11 [==============================] - 1s 58ms/step - loss: 0.8511 - accuracy: 0.8783\n"
     ]
    },
    {
     "data": {
      "text/plain": [
       "{'loss': 0.8511373996734619, 'accuracy': 0.8783382773399353}"
      ]
     },
     "execution_count": 34,
     "metadata": {},
     "output_type": "execute_result"
    }
   ],
   "source": [
    "model4.evaluate(X_test, y_test, return_dict=True)"
   ]
  },
  {
   "cell_type": "markdown",
   "id": "7d0688fc-fc3e-42c2-a0d9-4e156f0d81da",
   "metadata": {},
   "source": [
    "Best test accuracy score with rmsprop. There is still random chance in how your model is trained so there will be differences in the numbers when you run it yourself"
   ]
  },
  {
   "cell_type": "code",
   "execution_count": 35,
   "id": "a3838428",
   "metadata": {},
   "outputs": [
    {
     "name": "stdout",
     "output_type": "stream",
     "text": [
      "11/11 [==============================] - 0s 35ms/step - loss: 0.7221 - accuracy: 0.8754\n"
     ]
    },
    {
     "data": {
      "text/plain": [
       "{'loss': 0.7221399545669556, 'accuracy': 0.8753709197044373}"
      ]
     },
     "execution_count": 35,
     "metadata": {},
     "output_type": "execute_result"
    }
   ],
   "source": [
    "model.evaluate(X_test, y_test, return_dict=True)"
   ]
  },
  {
   "cell_type": "code",
   "execution_count": 36,
   "id": "51d71193",
   "metadata": {},
   "outputs": [
    {
     "name": "stdout",
     "output_type": "stream",
     "text": [
      "11/11 [==============================] - 0s 39ms/step - loss: 0.6060 - accuracy: 0.8398\n"
     ]
    },
    {
     "data": {
      "text/plain": [
       "{'loss': 0.6060242056846619, 'accuracy': 0.8397626280784607}"
      ]
     },
     "execution_count": 36,
     "metadata": {},
     "output_type": "execute_result"
    }
   ],
   "source": [
    "model2.evaluate(X_test, y_test, return_dict=True)"
   ]
  },
  {
   "cell_type": "code",
   "execution_count": 37,
   "id": "5974f72a",
   "metadata": {},
   "outputs": [
    {
     "name": "stdout",
     "output_type": "stream",
     "text": [
      "11/11 [==============================] - 0s 39ms/step - loss: 0.8948 - accuracy: 0.8427\n"
     ]
    },
    {
     "data": {
      "text/plain": [
       "{'loss': 0.8947827219963074, 'accuracy': 0.8427299857139587}"
      ]
     },
     "execution_count": 37,
     "metadata": {},
     "output_type": "execute_result"
    }
   ],
   "source": [
    "model3.evaluate(X_test, y_test, return_dict=True)"
   ]
  }
 ],
 "metadata": {
  "kernelspec": {
   "display_name": "Python 3 (ipykernel)",
   "language": "python",
   "name": "python3"
  },
  "language_info": {
   "codemirror_mode": {
    "name": "ipython",
    "version": 3
   },
   "file_extension": ".py",
   "mimetype": "text/x-python",
   "name": "python",
   "nbconvert_exporter": "python",
   "pygments_lexer": "ipython3",
   "version": "3.11.3"
  }
 },
 "nbformat": 4,
 "nbformat_minor": 5
}
