{
 "cells": [
  {
   "cell_type": "markdown",
   "id": "dc9da426",
   "metadata": {},
   "source": [
    "## Classification using Tensorflow\n",
    "\n",
    "Convolutional Neural Networks are the best thing around for images now, let's use them and compare to before \n",
    "\n",
    "Digits have 10 possible categories \n",
    "\n",
    "I'm not spending much time trying to decide on the number of layers and units - I could use validation sets to try picking better ones but I just want to demonstrate to you some of the features of the library"
   ]
  },
  {
   "cell_type": "markdown",
   "id": "027ea791",
   "metadata": {},
   "source": [
    "So the targets are the numbers \n",
    "0,1,2,3,4,5,6,7,8,9 - 10 possible classes"
   ]
  },
  {
   "cell_type": "code",
   "execution_count": 1,
   "id": "c41c8dc1",
   "metadata": {},
   "outputs": [],
   "source": [
    "import tensorflow as tf\n",
    "import tensorflow_datasets as tfds\n",
    "import numpy as np\n",
    "import matplotlib.pyplot as plt\n",
    "from sklearn.model_selection import train_test_split\n",
    "from tensorflow.keras import layers"
   ]
  },
  {
   "cell_type": "markdown",
   "id": "2c4e668f",
   "metadata": {},
   "source": [
    "Load in the dataset as before"
   ]
  },
  {
   "cell_type": "code",
   "execution_count": 2,
   "id": "duplicate-federal",
   "metadata": {},
   "outputs": [
    {
     "data": {
      "text/plain": [
       "(10000, 28, 28)"
      ]
     },
     "execution_count": 2,
     "metadata": {},
     "output_type": "execute_result"
    }
   ],
   "source": [
    "mnist = tf.keras.datasets.mnist\n",
    "(train_images, train_labels), (test_images, test_labels) = mnist.load_data()\n",
    "test_images.shape"
   ]
  },
  {
   "cell_type": "markdown",
   "id": "17f67a4b",
   "metadata": {},
   "source": [
    "I want each image as a 28x28x1 so that it's a 3d \"volume\""
   ]
  },
  {
   "cell_type": "code",
   "execution_count": 3,
   "id": "9bb99e0a",
   "metadata": {},
   "outputs": [
    {
     "data": {
      "text/plain": [
       "(10000, 28, 28, 1)"
      ]
     },
     "execution_count": 3,
     "metadata": {},
     "output_type": "execute_result"
    }
   ],
   "source": [
    "test_images = test_images.reshape(test_images.shape[0],test_images.shape[1],test_images.shape[2],1)\n",
    "test_images.shape"
   ]
  },
  {
   "cell_type": "code",
   "execution_count": 4,
   "id": "924e87a9",
   "metadata": {},
   "outputs": [
    {
     "data": {
      "text/plain": [
       "(60000, 28, 28, 1)"
      ]
     },
     "execution_count": 4,
     "metadata": {},
     "output_type": "execute_result"
    }
   ],
   "source": [
    "train_images = train_images.reshape(train_images.shape[0],train_images.shape[1],train_images.shape[2],1)\n",
    "train_images.shape"
   ]
  },
  {
   "cell_type": "markdown",
   "id": "d872dcc5",
   "metadata": {},
   "source": [
    "We're not going to use train_test_split as tf.keras has already divided the images for us"
   ]
  },
  {
   "cell_type": "code",
   "execution_count": 5,
   "id": "33fc3f3c",
   "metadata": {},
   "outputs": [
    {
     "data": {
      "text/plain": [
       "255"
      ]
     },
     "execution_count": 5,
     "metadata": {},
     "output_type": "execute_result"
    }
   ],
   "source": [
    "np.max(train_images)"
   ]
  },
  {
   "cell_type": "markdown",
   "id": "9d30e02d",
   "metadata": {},
   "source": [
    "8-bit images too, the values go from 0-255."
   ]
  },
  {
   "cell_type": "code",
   "execution_count": 6,
   "id": "2d2eb662",
   "metadata": {},
   "outputs": [
    {
     "data": {
      "image/png": "[encoded data removed]",
      "text/plain": [
       "<Figure size 640x480 with 2 Axes>"
      ]
     },
     "metadata": {},
     "output_type": "display_data"
    },
    {
     "name": "stdout",
     "output_type": "stream",
     "text": [
      "2\n"
     ]
    }
   ],
   "source": [
    "plt.figure()\n",
    "plt.imshow(train_images[5], cmap='gray')\n",
    "plt.colorbar()\n",
    "plt.grid(False)\n",
    "plt.show()\n",
    "print(train_labels[5])"
   ]
  },
  {
   "cell_type": "markdown",
   "id": "86f41b69",
   "metadata": {},
   "source": [
    "matplotlib works fine with the values from 0-255 or from 0-1 for grayscale. "
   ]
  },
  {
   "cell_type": "markdown",
   "id": "ee4212fb",
   "metadata": {},
   "source": [
    "I want to convert them all between 0-1 (I could have done this in the previous example but I'm doing it now)\n",
    "\n",
    "0-1 tends to work better. I am <b>not</b> using StandardScaler, I am just dividing by 255 as before"
   ]
  },
  {
   "cell_type": "markdown",
   "id": "ee4bf334",
   "metadata": {},
   "source": [
    "We should build this into the model. The below will give us a new layer we can use"
   ]
  },
  {
   "cell_type": "code",
   "execution_count": 7,
   "id": "21dcca41-eb68-4afc-b0a8-aa85b3abcf3e",
   "metadata": {},
   "outputs": [
    {
     "data": {
      "text/plain": [
       "array([5, 0, 4, ..., 5, 6, 8], dtype=uint8)"
      ]
     },
     "execution_count": 7,
     "metadata": {},
     "output_type": "execute_result"
    }
   ],
   "source": [
    "train_labels"
   ]
  },
  {
   "cell_type": "code",
   "execution_count": 8,
   "id": "667147b2",
   "metadata": {},
   "outputs": [
    {
     "name": "stdout",
     "output_type": "stream",
     "text": [
      "Height:  28 , Width:  28\n"
     ]
    }
   ],
   "source": [
    "img_height = train_images[0].shape[0]\n",
    "img_width = train_images[0].shape[1]\n",
    "print(\"Height: \", img_height, \", Width: \", img_width)"
   ]
  },
  {
   "cell_type": "code",
   "execution_count": 10,
   "id": "numeric-strip",
   "metadata": {},
   "outputs": [
    {
     "name": "stdout",
     "output_type": "stream",
     "text": [
      "Model: \"sequential\"\n",
      "_________________________________________________________________\n",
      " Layer (type)                Output Shape              Param #   \n",
      "=================================================================\n",
      " rescaling (Rescaling)       (None, 28, 28, 1)         0         \n",
      "                                                                 \n",
      " conv2d (Conv2D)             (None, 28, 28, 12)        120       \n",
      "                                                                 \n",
      " max_pooling2d (MaxPooling2  (None, 14, 14, 12)        0         \n",
      " D)                                                              \n",
      "                                                                 \n",
      " flatten (Flatten)           (None, 2352)              0         \n",
      "                                                                 \n",
      " dense (Dense)               (None, 10)                23530     \n",
      "                                                                 \n",
      "=================================================================\n",
      "Total params: 23650 (92.38 KB)\n",
      "Trainable params: 23650 (92.38 KB)\n",
      "Non-trainable params: 0 (0.00 Byte)\n",
      "_________________________________________________________________\n"
     ]
    }
   ],
   "source": [
    "model = tf.keras.models.Sequential()\n",
    "model.add(tf.keras.Input(shape=(img_height, img_width, 1)))\n",
    "model.add(layers.Rescaling(1./255))\n",
    "model.add(layers.Conv2D(12, 3, padding='same', activation='relu'))\n",
    "model.add(layers.MaxPooling2D())\n",
    "model.add(layers.Flatten())\n",
    "model.add(layers.Dense(10))\n",
    "model.summary()"
   ]
  },
  {
   "cell_type": "code",
   "execution_count": 11,
   "id": "09ce07a4",
   "metadata": {},
   "outputs": [],
   "source": [
    "model.compile(optimizer='adam',\n",
    "              loss=tf.keras.losses.SparseCategoricalCrossentropy(from_logits=True),\n",
    "              metrics=['accuracy'])"
   ]
  },
  {
   "cell_type": "code",
   "execution_count": 12,
   "id": "piano-knight",
   "metadata": {},
   "outputs": [
    {
     "name": "stdout",
     "output_type": "stream",
     "text": [
      "Epoch 1/10\n",
      "1500/1500 [==============================] - 12s 7ms/step - loss: 0.3135 - accuracy: 0.9128 - val_loss: 0.1456 - val_accuracy: 0.9597\n",
      "Epoch 2/10\n",
      "1500/1500 [==============================] - 11s 7ms/step - loss: 0.1202 - accuracy: 0.9653 - val_loss: 0.0999 - val_accuracy: 0.9732\n",
      "Epoch 3/10\n",
      "1500/1500 [==============================] - 13s 8ms/step - loss: 0.0847 - accuracy: 0.9752 - val_loss: 0.0808 - val_accuracy: 0.9778\n",
      "Epoch 4/10\n",
      "1500/1500 [==============================] - 14s 9ms/step - loss: 0.0687 - accuracy: 0.9795 - val_loss: 0.0764 - val_accuracy: 0.9784\n",
      "Epoch 5/10\n",
      "1500/1500 [==============================] - 14s 9ms/step - loss: 0.0585 - accuracy: 0.9826 - val_loss: 0.0768 - val_accuracy: 0.9776\n",
      "Epoch 6/10\n",
      "1500/1500 [==============================] - 14s 9ms/step - loss: 0.0509 - accuracy: 0.9851 - val_loss: 0.0679 - val_accuracy: 0.9812\n",
      "Epoch 7/10\n",
      "1500/1500 [==============================] - 15s 10ms/step - loss: 0.0460 - accuracy: 0.9860 - val_loss: 0.0722 - val_accuracy: 0.9794\n",
      "Epoch 8/10\n",
      "1500/1500 [==============================] - 11s 7ms/step - loss: 0.0407 - accuracy: 0.9879 - val_loss: 0.0681 - val_accuracy: 0.9806\n",
      "Epoch 9/10\n",
      "1500/1500 [==============================] - 16s 11ms/step - loss: 0.0366 - accuracy: 0.9892 - val_loss: 0.0742 - val_accuracy: 0.9794\n",
      "Epoch 10/10\n",
      "1500/1500 [==============================] - 18s 12ms/step - loss: 0.0335 - accuracy: 0.9905 - val_loss: 0.0671 - val_accuracy: 0.9813\n"
     ]
    }
   ],
   "source": [
    "history = model.fit(train_images, train_labels, epochs=10, validation_split=0.2)"
   ]
  },
  {
   "cell_type": "markdown",
   "id": "1f2c2137",
   "metadata": {},
   "source": [
    "This should be higher than the previously fully connected ANN.\n",
    "\n",
    "We could get training accuracy up further with more epochs, but that might be overfitting, let's analyse this first though."
   ]
  },
  {
   "cell_type": "code",
   "execution_count": 13,
   "id": "c74cb25d",
   "metadata": {},
   "outputs": [],
   "source": [
    "def plot_loss(history):\n",
    "    plt.plot(history.history['loss'], label='loss')\n",
    "    try:\n",
    "        plt.plot(history.history['val_loss'], label='val_loss')\n",
    "    except:\n",
    "        None\n",
    "    plt.xlabel('Epoch')\n",
    "    plt.ylabel('Error [MPG]')\n",
    "    plt.legend()\n",
    "    plt.grid(True)"
   ]
  },
  {
   "cell_type": "code",
   "execution_count": 14,
   "id": "291da322",
   "metadata": {},
   "outputs": [
    {
     "data": {
      "image/png": "[encoded data removed]",
      "text/plain": [
       "<Figure size 640x480 with 1 Axes>"
      ]
     },
     "metadata": {},
     "output_type": "display_data"
    }
   ],
   "source": [
    "plot_loss(history)"
   ]
  },
  {
   "cell_type": "markdown",
   "id": "9f6bcf55",
   "metadata": {},
   "source": [
    "The plot is diverging between val_loss and loss so might be some overfitting here, maybe should have used early stopping or chosen different hyperparameters"
   ]
  },
  {
   "cell_type": "code",
   "execution_count": 15,
   "id": "f7f17aa6",
   "metadata": {},
   "outputs": [
    {
     "name": "stdout",
     "output_type": "stream",
     "text": [
      "313/313 [==============================] - 2s 6ms/step - loss: 0.0596 - accuracy: 0.9809\n"
     ]
    },
    {
     "data": {
      "text/plain": [
       "{'loss': 0.05958561226725578, 'accuracy': 0.98089998960495}"
      ]
     },
     "execution_count": 15,
     "metadata": {},
     "output_type": "execute_result"
    }
   ],
   "source": [
    "model.evaluate(test_images, test_labels, return_dict=True)"
   ]
  },
  {
   "cell_type": "markdown",
   "id": "0c2ed536",
   "metadata": {},
   "source": [
    "0.9717 was the score for the previous fully dense. So an improvement alright, but this is an extremely basic CNN, and the images were greyscale, CNN would do much much better with RGB than dense networks\n",
    "\n",
    "### Early stopping\n",
    "Using patience=3 to see if no improvement after 3 steps"
   ]
  },
  {
   "cell_type": "code",
   "execution_count": 16,
   "id": "c75a99d7",
   "metadata": {},
   "outputs": [],
   "source": [
    "callback = tf.keras.callbacks.EarlyStopping(monitor='val_loss', patience=3)"
   ]
  },
  {
   "cell_type": "code",
   "execution_count": 17,
   "id": "c31aaf98",
   "metadata": {},
   "outputs": [],
   "source": [
    "model = tf.keras.models.Sequential()\n",
    "model.add(tf.keras.Input(shape=(img_height, img_width, 1)))\n",
    "model.add(layers.Rescaling(1./255))\n",
    "model.add(layers.Conv2D(12, 3, padding='same', activation='relu'))\n",
    "model.add(layers.MaxPooling2D())\n",
    "model.add(layers.Flatten())\n",
    "model.add(layers.Dense(10))\n",
    "model.compile(optimizer='adam',\n",
    "              loss=tf.keras.losses.SparseCategoricalCrossentropy(from_logits=True),\n",
    "              metrics=['accuracy'])"
   ]
  },
  {
   "cell_type": "code",
   "execution_count": 18,
   "id": "3aa3db22",
   "metadata": {},
   "outputs": [
    {
     "name": "stdout",
     "output_type": "stream",
     "text": [
      "Epoch 1/100\n",
      "1500/1500 [==============================] - 18s 11ms/step - loss: 0.3174 - accuracy: 0.9115 - val_loss: 0.1574 - val_accuracy: 0.9572\n",
      "Epoch 2/100\n",
      "1500/1500 [==============================] - 13s 9ms/step - loss: 0.1331 - accuracy: 0.9613 - val_loss: 0.1155 - val_accuracy: 0.9672\n",
      "Epoch 3/100\n",
      "1500/1500 [==============================] - 13s 9ms/step - loss: 0.0987 - accuracy: 0.9710 - val_loss: 0.0950 - val_accuracy: 0.9742\n",
      "Epoch 4/100\n",
      "1500/1500 [==============================] - 11s 7ms/step - loss: 0.0807 - accuracy: 0.9762 - val_loss: 0.0864 - val_accuracy: 0.9762\n",
      "Epoch 5/100\n",
      "1500/1500 [==============================] - 10s 7ms/step - loss: 0.0702 - accuracy: 0.9790 - val_loss: 0.0773 - val_accuracy: 0.9786\n",
      "Epoch 6/100\n",
      "1500/1500 [==============================] - 11s 7ms/step - loss: 0.0616 - accuracy: 0.9814 - val_loss: 0.0731 - val_accuracy: 0.9794\n",
      "Epoch 7/100\n",
      "1500/1500 [==============================] - 10s 7ms/step - loss: 0.0548 - accuracy: 0.9829 - val_loss: 0.0704 - val_accuracy: 0.9793\n",
      "Epoch 8/100\n",
      "1500/1500 [==============================] - 13s 9ms/step - loss: 0.0502 - accuracy: 0.9854 - val_loss: 0.0760 - val_accuracy: 0.9767\n",
      "Epoch 9/100\n",
      "1500/1500 [==============================] - 11s 8ms/step - loss: 0.0453 - accuracy: 0.9864 - val_loss: 0.0746 - val_accuracy: 0.9787\n",
      "Epoch 10/100\n",
      "1500/1500 [==============================] - 9s 6ms/step - loss: 0.0410 - accuracy: 0.9875 - val_loss: 0.0732 - val_accuracy: 0.9787\n"
     ]
    },
    {
     "data": {
      "text/plain": [
       "<keras.src.callbacks.History at 0x28351e16b90>"
      ]
     },
     "execution_count": 18,
     "metadata": {},
     "output_type": "execute_result"
    }
   ],
   "source": [
    "model.fit(train_images, train_labels, epochs=100, validation_split=0.2, callbacks=[callback])   ##Adding my early stopping here"
   ]
  },
  {
   "cell_type": "markdown",
   "id": "6f389266-bd80-4f5f-a44b-8152cca2e7f9",
   "metadata": {},
   "source": [
    "Patience of 3 might be too little"
   ]
  },
  {
   "cell_type": "code",
   "execution_count": 19,
   "id": "3cd88f2e",
   "metadata": {},
   "outputs": [
    {
     "name": "stdout",
     "output_type": "stream",
     "text": [
      "313/313 [==============================] - 1s 3ms/step - loss: 0.0645 - accuracy: 0.9806\n"
     ]
    },
    {
     "data": {
      "text/plain": [
       "{'loss': 0.06448017805814743, 'accuracy': 0.9805999994277954}"
      ]
     },
     "execution_count": 19,
     "metadata": {},
     "output_type": "execute_result"
    }
   ],
   "source": [
    "model.evaluate(test_images,test_labels, return_dict=True)"
   ]
  },
  {
   "cell_type": "markdown",
   "id": "5f14376d",
   "metadata": {},
   "source": [
    "## Problem with early stopping and patience\n",
    "\n",
    "With patience set to 3, we don't actually get the \"best\" model, the one with the lowest validation loss, we get the model 3 epochs after the best one!\n",
    "\n",
    "So we can use another callback to save the \"best\" model if we want. \n",
    "\n",
    "`ModelCheckpoint(filepath='best_model.keras', monitor='val_loss', save_best_only=True)`\n",
    "\n",
    "will do this"
   ]
  },
  {
   "cell_type": "code",
   "execution_count": 20,
   "id": "d13b64e5",
   "metadata": {},
   "outputs": [],
   "source": [
    "callback_earlystop = tf.keras.callbacks.EarlyStopping(monitor='val_loss', patience=3)"
   ]
  },
  {
   "cell_type": "code",
   "execution_count": 21,
   "id": "cf5c3424",
   "metadata": {},
   "outputs": [],
   "source": [
    "callback_modelcheckpoint = tf.keras.callbacks.ModelCheckpoint(filepath='best_model.h5', monitor='val_loss', save_best_only=True, save_format='h5')"
   ]
  },
  {
   "cell_type": "code",
   "execution_count": 22,
   "id": "2ae94390",
   "metadata": {},
   "outputs": [],
   "source": [
    "model = tf.keras.models.Sequential()\n",
    "model.add(tf.keras.Input(shape=(img_height, img_width, 1)))\n",
    "model.add(layers.Rescaling(1./255))\n",
    "model.add(layers.Conv2D(12, 3, padding='same', activation='relu'))\n",
    "model.add(layers.MaxPooling2D())\n",
    "model.add(layers.Flatten())\n",
    "model.add(layers.Dense(10))\n",
    "model.compile(optimizer='adam',\n",
    "              loss=tf.keras.losses.SparseCategoricalCrossentropy(from_logits=True),\n",
    "              metrics=['accuracy'])"
   ]
  },
  {
   "cell_type": "code",
   "execution_count": 23,
   "id": "b422ad77",
   "metadata": {},
   "outputs": [
    {
     "name": "stdout",
     "output_type": "stream",
     "text": [
      "Epoch 1/100\n",
      "1500/1500 [==============================] - 11s 7ms/step - loss: 0.3515 - accuracy: 0.9004 - val_loss: 0.1903 - val_accuracy: 0.9469\n",
      "Epoch 2/100\n",
      "  17/1500 [..............................] - ETA: 9s - loss: 0.2641 - accuracy: 0.9228"
     ]
    },
    {
     "name": "stderr",
     "output_type": "stream",
     "text": [
      "C:\\Users\\BMcGinley\\AppData\\Roaming\\Python\\Python311\\site-packages\\keras\\src\\engine\\training.py:3079: UserWarning: You are saving your model as an HDF5 file via `model.save()`. This file format is considered legacy. We recommend using instead the native Keras format, e.g. `model.save('my_model.keras')`.\n",
      "  saving_api.save_model(\n"
     ]
    },
    {
     "name": "stdout",
     "output_type": "stream",
     "text": [
      "1500/1500 [==============================] - 11s 7ms/step - loss: 0.1540 - accuracy: 0.9561 - val_loss: 0.1132 - val_accuracy: 0.9697\n",
      "Epoch 3/100\n",
      "1500/1500 [==============================] - 12s 8ms/step - loss: 0.0970 - accuracy: 0.9725 - val_loss: 0.0926 - val_accuracy: 0.9743\n",
      "Epoch 4/100\n",
      "1500/1500 [==============================] - 10s 6ms/step - loss: 0.0752 - accuracy: 0.9780 - val_loss: 0.0848 - val_accuracy: 0.9747\n",
      "Epoch 5/100\n",
      "1500/1500 [==============================] - 10s 7ms/step - loss: 0.0627 - accuracy: 0.9814 - val_loss: 0.0835 - val_accuracy: 0.9748\n",
      "Epoch 6/100\n",
      "1500/1500 [==============================] - 9s 6ms/step - loss: 0.0541 - accuracy: 0.9845 - val_loss: 0.0699 - val_accuracy: 0.9799\n",
      "Epoch 7/100\n",
      "1500/1500 [==============================] - 10s 6ms/step - loss: 0.0482 - accuracy: 0.9855 - val_loss: 0.0694 - val_accuracy: 0.9797\n",
      "Epoch 8/100\n",
      "1500/1500 [==============================] - 11s 7ms/step - loss: 0.0433 - accuracy: 0.9868 - val_loss: 0.0689 - val_accuracy: 0.9800\n",
      "Epoch 9/100\n",
      "1500/1500 [==============================] - 11s 7ms/step - loss: 0.0380 - accuracy: 0.9890 - val_loss: 0.0748 - val_accuracy: 0.9779\n",
      "Epoch 10/100\n",
      "1500/1500 [==============================] - 12s 8ms/step - loss: 0.0351 - accuracy: 0.9894 - val_loss: 0.0683 - val_accuracy: 0.9810\n",
      "Epoch 11/100\n",
      "1500/1500 [==============================] - 11s 7ms/step - loss: 0.0313 - accuracy: 0.9908 - val_loss: 0.0695 - val_accuracy: 0.9803\n",
      "Epoch 12/100\n",
      "1500/1500 [==============================] - 9s 6ms/step - loss: 0.0289 - accuracy: 0.9918 - val_loss: 0.0700 - val_accuracy: 0.9812\n",
      "Epoch 13/100\n",
      "1500/1500 [==============================] - 10s 6ms/step - loss: 0.0260 - accuracy: 0.9924 - val_loss: 0.0705 - val_accuracy: 0.9809\n"
     ]
    },
    {
     "data": {
      "text/plain": [
       "<keras.src.callbacks.History at 0x2835a13a3d0>"
      ]
     },
     "execution_count": 23,
     "metadata": {},
     "output_type": "execute_result"
    }
   ],
   "source": [
    "model.fit(train_images, train_labels, epochs=100, validation_split=0.2, callbacks=[callback_earlystop, callback_modelcheckpoint])"
   ]
  },
  {
   "cell_type": "code",
   "execution_count": 24,
   "id": "c6b7387f",
   "metadata": {},
   "outputs": [],
   "source": [
    "from keras.models import load_model\n",
    "saved_model = load_model('best_model.h5')"
   ]
  },
  {
   "cell_type": "code",
   "execution_count": 25,
   "id": "3b68071d",
   "metadata": {},
   "outputs": [
    {
     "name": "stdout",
     "output_type": "stream",
     "text": [
      "313/313 [==============================] - 1s 3ms/step - loss: 0.0617 - accuracy: 0.9812\n"
     ]
    },
    {
     "data": {
      "text/plain": [
       "{'loss': 0.06165913864970207, 'accuracy': 0.9811999797821045}"
      ]
     },
     "execution_count": 25,
     "metadata": {},
     "output_type": "execute_result"
    }
   ],
   "source": [
    "model.evaluate(test_images,test_labels, return_dict=True)"
   ]
  },
  {
   "cell_type": "code",
   "execution_count": 26,
   "id": "b03e92a6",
   "metadata": {},
   "outputs": [
    {
     "name": "stdout",
     "output_type": "stream",
     "text": [
      "313/313 [==============================] - 1s 4ms/step - loss: 0.0614 - accuracy: 0.9804\n"
     ]
    },
    {
     "data": {
      "text/plain": [
       "{'loss': 0.06136053428053856, 'accuracy': 0.980400025844574}"
      ]
     },
     "execution_count": 26,
     "metadata": {},
     "output_type": "execute_result"
    }
   ],
   "source": [
    "saved_model.evaluate(test_images,test_labels, return_dict=True)"
   ]
  },
  {
   "cell_type": "markdown",
   "id": "3021699e",
   "metadata": {},
   "source": [
    "## Now let's do a \"deeper\" model\""
   ]
  },
  {
   "cell_type": "code",
   "execution_count": 27,
   "id": "a5c03729",
   "metadata": {},
   "outputs": [],
   "source": [
    "num_classes = 10"
   ]
  },
  {
   "cell_type": "code",
   "execution_count": 28,
   "id": "9d9916b1",
   "metadata": {},
   "outputs": [
    {
     "name": "stdout",
     "output_type": "stream",
     "text": [
      "Model: \"sequential_3\"\n",
      "_________________________________________________________________\n",
      " Layer (type)                Output Shape              Param #   \n",
      "=================================================================\n",
      " rescaling_3 (Rescaling)     (None, 28, 28, 1)         0         \n",
      "                                                                 \n",
      " conv2d_3 (Conv2D)           (None, 28, 28, 16)        160       \n",
      "                                                                 \n",
      " max_pooling2d_3 (MaxPoolin  (None, 14, 14, 16)        0         \n",
      " g2D)                                                            \n",
      "                                                                 \n",
      " conv2d_4 (Conv2D)           (None, 14, 14, 32)        4640      \n",
      "                                                                 \n",
      " max_pooling2d_4 (MaxPoolin  (None, 7, 7, 32)          0         \n",
      " g2D)                                                            \n",
      "                                                                 \n",
      " conv2d_5 (Conv2D)           (None, 7, 7, 64)          18496     \n",
      "                                                                 \n",
      " max_pooling2d_5 (MaxPoolin  (None, 3, 3, 64)          0         \n",
      " g2D)                                                            \n",
      "                                                                 \n",
      " flatten_3 (Flatten)         (None, 576)               0         \n",
      "                                                                 \n",
      " dense_3 (Dense)             (None, 128)               73856     \n",
      "                                                                 \n",
      " dense_4 (Dense)             (None, 10)                1290      \n",
      "                                                                 \n",
      "=================================================================\n",
      "Total params: 98442 (384.54 KB)\n",
      "Trainable params: 98442 (384.54 KB)\n",
      "Non-trainable params: 0 (0.00 Byte)\n",
      "_________________________________________________________________\n"
     ]
    }
   ],
   "source": [
    "model2 = tf.keras.models.Sequential([\n",
    "  tf.keras.Input(shape=(img_height, img_width, 1)),\n",
    "  layers.Rescaling(1./255),\n",
    "  layers.Conv2D(16, 3, padding='same', activation='relu'),\n",
    "  layers.MaxPooling2D(),\n",
    "  layers.Conv2D(32, 3, padding='same', activation='relu'),\n",
    "  layers.MaxPooling2D(),\n",
    "  layers.Conv2D(64, 3, padding='same', activation='relu'),\n",
    "  layers.MaxPooling2D(),\n",
    "  layers.Flatten(),\n",
    "  layers.Dense(128, activation='relu'),\n",
    "  layers.Dense(num_classes)])\n",
    "\n",
    "model2.summary()"
   ]
  },
  {
   "cell_type": "code",
   "execution_count": 29,
   "id": "350439e2",
   "metadata": {},
   "outputs": [],
   "source": [
    "model2.compile(optimizer='adam',\n",
    "              loss=tf.keras.losses.SparseCategoricalCrossentropy(from_logits=True),\n",
    "              metrics=['accuracy'])"
   ]
  },
  {
   "cell_type": "code",
   "execution_count": 30,
   "id": "0484f2d9",
   "metadata": {},
   "outputs": [
    {
     "name": "stdout",
     "output_type": "stream",
     "text": [
      "Epoch 1/100\n",
      "1500/1500 [==============================] - 21s 13ms/step - loss: 0.1847 - accuracy: 0.9419 - val_loss: 0.0906 - val_accuracy: 0.9724\n",
      "Epoch 2/100\n",
      "1500/1500 [==============================] - 29s 19ms/step - loss: 0.0565 - accuracy: 0.9819 - val_loss: 0.0571 - val_accuracy: 0.9829\n",
      "Epoch 3/100\n",
      "1500/1500 [==============================] - 28s 19ms/step - loss: 0.0374 - accuracy: 0.9878 - val_loss: 0.0443 - val_accuracy: 0.9864\n",
      "Epoch 4/100\n",
      "1500/1500 [==============================] - 25s 17ms/step - loss: 0.0308 - accuracy: 0.9895 - val_loss: 0.0426 - val_accuracy: 0.9871\n",
      "Epoch 5/100\n",
      "1500/1500 [==============================] - 20s 13ms/step - loss: 0.0250 - accuracy: 0.9920 - val_loss: 0.0421 - val_accuracy: 0.9868\n",
      "Epoch 6/100\n",
      "1500/1500 [==============================] - 20s 13ms/step - loss: 0.0205 - accuracy: 0.9936 - val_loss: 0.0347 - val_accuracy: 0.9899\n",
      "Epoch 7/100\n",
      "1500/1500 [==============================] - 21s 14ms/step - loss: 0.0158 - accuracy: 0.9951 - val_loss: 0.0459 - val_accuracy: 0.9882\n",
      "Epoch 8/100\n",
      "1500/1500 [==============================] - 20s 13ms/step - loss: 0.0155 - accuracy: 0.9948 - val_loss: 0.0395 - val_accuracy: 0.9901\n",
      "Epoch 9/100\n",
      "1500/1500 [==============================] - 24s 16ms/step - loss: 0.0107 - accuracy: 0.9965 - val_loss: 0.0545 - val_accuracy: 0.9874\n"
     ]
    },
    {
     "data": {
      "text/plain": [
       "<keras.src.callbacks.History at 0x2835ecf9f50>"
      ]
     },
     "execution_count": 30,
     "metadata": {},
     "output_type": "execute_result"
    }
   ],
   "source": [
    "model2.fit(train_images, train_labels, epochs=100, validation_split=0.2, callbacks=[callback_earlystop, callback_modelcheckpoint])"
   ]
  },
  {
   "cell_type": "code",
   "execution_count": 31,
   "id": "bcebf8bb",
   "metadata": {},
   "outputs": [],
   "source": [
    "saved_model2 = load_model('best_model.h5')"
   ]
  },
  {
   "cell_type": "code",
   "execution_count": 32,
   "id": "f29198a1",
   "metadata": {},
   "outputs": [
    {
     "name": "stdout",
     "output_type": "stream",
     "text": [
      "313/313 [==============================] - 2s 5ms/step - loss: 0.0359 - accuracy: 0.9901\n"
     ]
    },
    {
     "data": {
      "text/plain": [
       "{'loss': 0.035920776426792145, 'accuracy': 0.9901000261306763}"
      ]
     },
     "execution_count": 32,
     "metadata": {},
     "output_type": "execute_result"
    }
   ],
   "source": [
    "saved_model2.evaluate(test_images,test_labels, return_dict=True)"
   ]
  },
  {
   "cell_type": "code",
   "execution_count": 33,
   "id": "2d408ab2",
   "metadata": {},
   "outputs": [
    {
     "name": "stdout",
     "output_type": "stream",
     "text": [
      "313/313 [==============================] - 2s 5ms/step - loss: 0.0495 - accuracy: 0.9853\n"
     ]
    },
    {
     "data": {
      "text/plain": [
       "{'loss': 0.04952801391482353, 'accuracy': 0.9853000044822693}"
      ]
     },
     "execution_count": 33,
     "metadata": {},
     "output_type": "execute_result"
    }
   ],
   "source": [
    "model2.evaluate(test_images,test_labels, return_dict=True)"
   ]
  },
  {
   "cell_type": "markdown",
   "id": "e62389a8",
   "metadata": {},
   "source": [
    "Over 99% accuracy on the test set. That's quite good! Although, take note that just because a network is deeper and more complicated does not mean it will perform better. How deep a network is etc is a hyperparameter so it can make the model better or worse like all hyperparameters\n",
    "\n",
    "You may notice that the number of parameters is less than the dense network done previously"
   ]
  }
 ],
 "metadata": {
  "kernelspec": {
   "display_name": "Python 3 (ipykernel)",
   "language": "python",
   "name": "python3"
  },
  "language_info": {
   "codemirror_mode": {
    "name": "ipython",
    "version": 3
   },
   "file_extension": ".py",
   "mimetype": "text/x-python",
   "name": "python",
   "nbconvert_exporter": "python",
   "pygments_lexer": "ipython3",
   "version": "3.11.3"
  }
 },
 "nbformat": 4,
 "nbformat_minor": 5
}
